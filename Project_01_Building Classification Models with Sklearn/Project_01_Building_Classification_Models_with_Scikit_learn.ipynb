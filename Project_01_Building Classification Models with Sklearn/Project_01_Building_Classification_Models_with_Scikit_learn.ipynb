{
  "nbformat": 4,
  "nbformat_minor": 0,
  "metadata": {
    "colab": {
      "name": "Project_01_Building Classification Models with Scikit-learn.ipynb",
      "provenance": [],
      "collapsed_sections": [
        "XhPg0n8_gQdE",
        "2DJfBtFngnMZ",
        "rA72KCrSg6n2"
      ]
    },
    "kernelspec": {
      "name": "python3",
      "display_name": "Python 3"
    },
    "language_info": {
      "name": "python"
    }
  },
  "cells": [
    {
      "cell_type": "markdown",
      "source": [
        "# **[ Building Classification Models with Scikit-learn ]**\n"
      ],
      "metadata": {
        "id": "zY-sEKzjJg2q"
      }
    },
    {
      "cell_type": "markdown",
      "source": [
        "## **프로젝트 요약**\n",
        "\n",
        "> 본 프로젝트는 Scikit-learn 패키지를 활용하여 다양한 분류모델을 구현하고 성능을 평가한 후 최종적으로는 최적의 모델을 선정하는 것을 목표로 한다. \n",
        "<br>\n",
        "이를 위해 sklearn패키지에서 제공하는 분류용 예제 데이터셋인 손글씨숫자데이터, 와인데이터, 유방암진단데이터 를 사용하였다.\n",
        "<br>\n",
        "각 프로젝트는 ~~~~단계로 이루어져있다.(수행하였다)\n",
        "<br>\n",
        "손글씨 프로젝트 결과(데이터셋소개-전처리-모델링-평가)\n",
        "<br>\n",
        "와인 프로젝트 결과\n",
        "<br>\n",
        "유방암 프로젝트 결과\n",
        "<br>\n",
        "회고 **적기**"
      ],
      "metadata": {
        "id": "MTdveC8_KMD8"
      }
    },
    {
      "cell_type": "markdown",
      "source": [
        "## **목차**\n",
        "- [**1. 손글씨 이미지 분류**](#--1-------------)\n",
        "  * [**1-0. 문제 정의**](#1-0-문제-정의)\n",
        "  * [**1-1. 데이터 불러오기**](#1-1.-데이터-불러오기)\n",
        "  * [**1-2. \b탐색적 데이터 분석 및 전처리**](#--1-2--------------------)\n",
        "  * [**1-3. 피쳐 엔지니어링**](#--1-3-----------)\n",
        "  * [**1-4. 모델 구현 및 평가**](#--1-4-------------)\n"
      ],
      "metadata": {
        "id": "cEunjkFVzWsI"
      }
    },
    {
      "cell_type": "markdown",
      "source": [
        "\n",
        "## **0. 사전정의**\n",
        "---"
      ],
      "metadata": {
        "id": "gBSkjT9Jt7I-"
      }
    },
    {
      "cell_type": "code",
      "source": [
        "############################################## \b라이브러리 불러오기 #####################################################\n",
        "\n",
        "import numpy as np\n",
        "import pandas as pd\n",
        "import platform\n",
        "import random\n",
        "import warnings\n",
        "warnings.filterwarnings(\"ignore\", category=DeprecationWarning)\n",
        "\n",
        "# 시각화\n",
        "import matplotlib as mpl  # 기본 설정 만지는 용도\n",
        "import matplotlib.pyplot as plt\n",
        "import matplotlib.font_manager as fm\n",
        "\n",
        "%matplotlib inline\n",
        "\n",
        "if platform.system() == 'Darwin': #맥\n",
        "        plt.rc('font', family='AppleGothic') \n",
        "elif platform.system() == 'Windows': #윈도우\n",
        "        plt.rc('font', family='Malgun Gothic') \n",
        "elif platform.system() == 'Linux': #리눅스 (구글 코랩)    \n",
        "\n",
        "        ! sudo apt-get update -qq\n",
        "        ! sudo apt-get install fonts-nanum* -qq #나눔글꼴 설치\n",
        "        ! sudo fc-cache -fv #폰트캐시 삭제\n",
        "\n",
        "        # 나눔글꼴 matplotlib에 복사 (파이썬 버전 확인하는것 중요 !)\n",
        "        ! sudo cp /usr/share/fonts/truetype/nanum/Nanum* /usr/local/lib/python3.7/dist-packages/matplotlib/mpl-data/fonts/ttf/\n",
        "        # matplotlib 캐시삭제\n",
        "        try:\n",
        "          ! rm -rf /content/.cache/matplotlib/* #colab\n",
        "        except:\n",
        "          ! rm -rf /home/ubuntu/.cache/matplotlib/* #ubuntu\n",
        "\n",
        "\n",
        "        sys_font=fm.findSystemFonts()\n",
        "        nanum_font = [f for f in sys_font if 'NanumGothicCoding.ttf' in f][0]\n",
        "        font_name = fm.FontProperties(fname=nanum_font, size=10).get_name()\n",
        "        plt.rc('font', family=font_name)\n",
        "\n",
        "\n",
        "plt.rcParams['axes.unicode_minus'] = False \n",
        "# fm._rebuild()\n",
        "\n",
        "# 데이터셋 \n",
        "from sklearn.datasets import load_digits\n",
        "from sklearn.datasets import load_wine \n",
        "from sklearn.datasets import load_breast_cancer\n",
        "\n",
        "# 데이터셋분리, 교차검증, 하이퍼파라미터튜닝  \n",
        "from sklearn.model_selection import train_test_split\n",
        "from sklearn.model_selection import StratifiedKFold\n",
        "from sklearn.model_selection import KFold\n",
        "from sklearn.model_selection import cross_val_score\n",
        "\n",
        "# ml 알고리즘 \n",
        "from sklearn.tree import DecisionTreeClassifier\n",
        "from sklearn.ensemble import RandomForestClassifier\n",
        "from sklearn.linear_model import LogisticRegression\n",
        "from sklearn.neighbors import KNeighborsClassifier\n",
        "\n",
        "# 전처리 (정규화, 스케일링 등')\n",
        "from sklearn.preprocessing import StandardScaler\n",
        "from sklearn.preprocessing import MinMaxScaler\n",
        "from sklearn.preprocessing import RobustScaler \n",
        "from sklearn.preprocessing import LabelEncoder\n",
        "\n",
        "# 모델 성능 평가 지표 \n",
        "from sklearn.metrics import classification_report\n",
        "from sklearn.metrics import confusion_matrix # 혼동행렬\n",
        "from sklearn.metrics import accuracy_score # 정확도\n",
        "from sklearn.metrics import precision_score # 정밀도\n",
        "from sklearn.metrics import recall_score # 민감도(재현율)\n",
        "from sklearn.metrics import f1_score # F1 스코어 \n",
        "from sklearn.metrics import roc_auc_score\n",
        "\n"
      ],
      "metadata": {
        "colab": {
          "base_uri": "https://localhost:8080/"
        },
        "id": "TxloXKnGAm3s",
        "outputId": "77d66c82-4c2d-4751-ef67-02c5db40ecf1"
      },
      "execution_count": 2,
      "outputs": [
        {
          "output_type": "stream",
          "name": "stdout",
          "text": [
            "debconf: unable to initialize frontend: Dialog\n",
            "debconf: (No usable dialog-like program is installed, so the dialog based frontend cannot be used. at /usr/share/perl5/Debconf/FrontEnd/Dialog.pm line 76, <> line 4.)\n",
            "debconf: falling back to frontend: Readline\n",
            "debconf: unable to initialize frontend: Readline\n",
            "debconf: (This frontend requires a controlling tty.)\n",
            "debconf: falling back to frontend: Teletype\n",
            "dpkg-preconfigure: unable to re-open stdin: \n",
            "Selecting previously unselected package fonts-nanum.\n",
            "(Reading database ... 155514 files and directories currently installed.)\n",
            "Preparing to unpack .../fonts-nanum_20170925-1_all.deb ...\n",
            "Unpacking fonts-nanum (20170925-1) ...\n",
            "Selecting previously unselected package fonts-nanum-eco.\n",
            "Preparing to unpack .../fonts-nanum-eco_1.000-6_all.deb ...\n",
            "Unpacking fonts-nanum-eco (1.000-6) ...\n",
            "Selecting previously unselected package fonts-nanum-extra.\n",
            "Preparing to unpack .../fonts-nanum-extra_20170925-1_all.deb ...\n",
            "Unpacking fonts-nanum-extra (20170925-1) ...\n",
            "Selecting previously unselected package fonts-nanum-coding.\n",
            "Preparing to unpack .../fonts-nanum-coding_2.5-1_all.deb ...\n",
            "Unpacking fonts-nanum-coding (2.5-1) ...\n",
            "Setting up fonts-nanum-extra (20170925-1) ...\n",
            "Setting up fonts-nanum (20170925-1) ...\n",
            "Setting up fonts-nanum-coding (2.5-1) ...\n",
            "Setting up fonts-nanum-eco (1.000-6) ...\n",
            "Processing triggers for fontconfig (2.12.6-0ubuntu2) ...\n",
            "/usr/share/fonts: caching, new cache contents: 0 fonts, 1 dirs\n",
            "/usr/share/fonts/truetype: caching, new cache contents: 0 fonts, 3 dirs\n",
            "/usr/share/fonts/truetype/humor-sans: caching, new cache contents: 1 fonts, 0 dirs\n",
            "/usr/share/fonts/truetype/liberation: caching, new cache contents: 16 fonts, 0 dirs\n",
            "/usr/share/fonts/truetype/nanum: caching, new cache contents: 31 fonts, 0 dirs\n",
            "/usr/local/share/fonts: caching, new cache contents: 0 fonts, 0 dirs\n",
            "/root/.local/share/fonts: skipping, no such directory\n",
            "/root/.fonts: skipping, no such directory\n",
            "/var/cache/fontconfig: cleaning cache directory\n",
            "/root/.cache/fontconfig: not cleaning non-existent cache directory\n",
            "/root/.fontconfig: not cleaning non-existent cache directory\n",
            "fc-cache: succeeded\n"
          ]
        }
      ]
    },
    {
      "cell_type": "markdown",
      "source": [
        "## **1. 손글씨 이미지 분류** <a class=\"anchor\" id=\"chapter1\"></a> \n",
        "---\n"
      ],
      "metadata": {
        "id": "Sy6DkHj5PIIA"
      }
    },
    {
      "cell_type": "markdown",
      "source": [
        "### **1-0. 문제 정의**\n",
        "----"
      ],
      "metadata": {
        "id": "_-_xF4PJT_em"
      }
    },
    {
      "cell_type": "markdown",
      "source": [
        "#### **1-0.1. 프로젝트 목표**  \n",
        "<div>\n",
        "본 프로젝트는 손글씨 이미지가 주어졌을 때, 해당 이미지가 어떤 숫자에 해당하는지를 예측하는 모델을 Scikit-learn을 활용하여 구현하는 것을 목표로 한다. \n",
        "\n",
        "<br> \n",
        "아래 사진을 보면 \n",
        "<img src='./src/img/digits_img.jpeg'>\n",
        "</div>\n",
        "\n",
        "<br> \n",
        "#### **1-0.2. 분석 데이터 정의** \n",
        "<div> \n",
        "데이터는 sklearn.dataset 안에 빌트인 데이터셋으로 제공하는 손글씨 데이터셋을 사용한다. \n",
        "해당 데이터셋은 sklearn.utils.Bunch 라는 자료구조를 활용하는데, key-value 형식으로 구성되어 있으며, 딕셔너리 타입과 유사한 구조를 가지고 있다. \n",
        "<br>\n",
        "데이터셋의 세부적인 구성은 아래 표에서 확인할 수 있다. \n",
        "<br>\n",
        "</br>\n",
        "\n",
        "| 속성 | 설명 |\n",
        "| --- | --- |\n",
        "| data | 샘플데이터, 평명화된 (1797, 64) 크기의 ndarray  |\n",
        "| images | (1797, 8,8) 크기의 ndarray  |\n",
        "| target | label 데이터, (1797, ) 크기의 ndarray  |\n",
        "| feature_names | Feature 데이터 이름 |\n",
        "| target_names | Label 데이터 이름 |\n",
        "| DESCR | 데이터 세트에 대한 전체 설명 |\n",
        "\n",
        "</div> \n",
        "<br> \n",
        "\n",
        "#### **1-0.3. 모델링 task 정의**  \n",
        "<div> \n",
        "컴퓨터는 이미지를 색을 나타내는 숫자의 배열로 인식한다. 데이터셋의 image와 data 또한 숫자들의 배열로 구성되어있다. 해당 프로젝트의 task는 data 또는 image의 배열값으로 어떤 숫자를 가리키는지를 예측하는 \"분류\" 에 속한다.\n",
        "\n",
        "\n"
      ],
      "metadata": {
        "id": "AfHdbLZMwZr3"
      }
    },
    {
      "cell_type": "markdown",
      "source": [
        "### **1-1. 데이터 불러오기**\n",
        "----"
      ],
      "metadata": {
        "id": "o9icB7ejPZfp"
      }
    },
    {
      "cell_type": "code",
      "source": [
        "############################## 데이터 로드 & 확인 ##############################\n",
        "\n",
        "digits = load_digits()\n",
        "digits_data = digits.data\n",
        "digits_image = digits.images\n",
        "digits_label = digits.target\n",
        "digits_df = pd.DataFrame(data=digits_data, columns=digits.feature_names)\n",
        "digits_df['label'] =  digits.target\n",
        "print(\"############################## 데이터 설명 ##############################\\n\")\n",
        "print(digits.DESCR)\n",
        "\n",
        "print(\"\\n############################## 데이터 \b확인 ##############################\\n\")\n",
        "print(f' 샘플데이터 크기 : {digits_data.shape}')\n",
        "print(f' 이미지데이터 크기 : {digits_image.shape}')\n",
        "print(f' 정답데이터 크기 : {digits_label.shape}')\n",
        "\n",
        "print(\"\\n############################## 데이터프레임 확인 ##############################\\n\")\n",
        "\n",
        "digits_df.head()"
      ],
      "metadata": {
        "colab": {
          "base_uri": "https://localhost:8080/",
          "height": 1000
        },
        "id": "-lv2O5M0CRmC",
        "outputId": "d1e28fbc-ea0e-4d46-cdff-e59ba25e4b17"
      },
      "execution_count": 16,
      "outputs": [
        {
          "output_type": "stream",
          "name": "stdout",
          "text": [
            "############################## 데이터 설명 ##############################\n",
            "\n",
            ".. _digits_dataset:\n",
            "\n",
            "Optical recognition of handwritten digits dataset\n",
            "--------------------------------------------------\n",
            "\n",
            "**Data Set Characteristics:**\n",
            "\n",
            "    :Number of Instances: 1797\n",
            "    :Number of Attributes: 64\n",
            "    :Attribute Information: 8x8 image of integer pixels in the range 0..16.\n",
            "    :Missing Attribute Values: None\n",
            "    :Creator: E. Alpaydin (alpaydin '@' boun.edu.tr)\n",
            "    :Date: July; 1998\n",
            "\n",
            "This is a copy of the test set of the UCI ML hand-written digits datasets\n",
            "https://archive.ics.uci.edu/ml/datasets/Optical+Recognition+of+Handwritten+Digits\n",
            "\n",
            "The data set contains images of hand-written digits: 10 classes where\n",
            "each class refers to a digit.\n",
            "\n",
            "Preprocessing programs made available by NIST were used to extract\n",
            "normalized bitmaps of handwritten digits from a preprinted form. From a\n",
            "total of 43 people, 30 contributed to the training set and different 13\n",
            "to the test set. 32x32 bitmaps are divided into nonoverlapping blocks of\n",
            "4x4 and the number of on pixels are counted in each block. This generates\n",
            "an input matrix of 8x8 where each element is an integer in the range\n",
            "0..16. This reduces dimensionality and gives invariance to small\n",
            "distortions.\n",
            "\n",
            "For info on NIST preprocessing routines, see M. D. Garris, J. L. Blue, G.\n",
            "T. Candela, D. L. Dimmick, J. Geist, P. J. Grother, S. A. Janet, and C.\n",
            "L. Wilson, NIST Form-Based Handprint Recognition System, NISTIR 5469,\n",
            "1994.\n",
            "\n",
            ".. topic:: References\n",
            "\n",
            "  - C. Kaynak (1995) Methods of Combining Multiple Classifiers and Their\n",
            "    Applications to Handwritten Digit Recognition, MSc Thesis, Institute of\n",
            "    Graduate Studies in Science and Engineering, Bogazici University.\n",
            "  - E. Alpaydin, C. Kaynak (1998) Cascading Classifiers, Kybernetika.\n",
            "  - Ken Tang and Ponnuthurai N. Suganthan and Xi Yao and A. Kai Qin.\n",
            "    Linear dimensionalityreduction using relevance weighted LDA. School of\n",
            "    Electrical and Electronic Engineering Nanyang Technological University.\n",
            "    2005.\n",
            "  - Claudio Gentile. A New Approximate Maximal Margin Classification\n",
            "    Algorithm. NIPS. 2000.\n",
            "\n",
            "\n",
            "############################## 데이터 \b확인 ##############################\n",
            "\n",
            " 샘플데이터 크기 : (1797, 64)\n",
            " 이미지데이터 크기 : (1797, 8, 8)\n",
            " 정답데이터 크기 : (1797,)\n",
            "\n",
            "############################## 데이터프레임 확인 ##############################\n",
            "\n"
          ]
        },
        {
          "output_type": "execute_result",
          "data": {
            "text/plain": [
              "   pixel_0_0  pixel_0_1  pixel_0_2  pixel_0_3  pixel_0_4  pixel_0_5  \\\n",
              "0        0.0        0.0        5.0       13.0        9.0        1.0   \n",
              "1        0.0        0.0        0.0       12.0       13.0        5.0   \n",
              "2        0.0        0.0        0.0        4.0       15.0       12.0   \n",
              "3        0.0        0.0        7.0       15.0       13.0        1.0   \n",
              "4        0.0        0.0        0.0        1.0       11.0        0.0   \n",
              "\n",
              "   pixel_0_6  pixel_0_7  pixel_1_0  pixel_1_1  ...  pixel_6_7  pixel_7_0  \\\n",
              "0        0.0        0.0        0.0        0.0  ...        0.0        0.0   \n",
              "1        0.0        0.0        0.0        0.0  ...        0.0        0.0   \n",
              "2        0.0        0.0        0.0        0.0  ...        0.0        0.0   \n",
              "3        0.0        0.0        0.0        8.0  ...        0.0        0.0   \n",
              "4        0.0        0.0        0.0        0.0  ...        0.0        0.0   \n",
              "\n",
              "   pixel_7_1  pixel_7_2  pixel_7_3  pixel_7_4  pixel_7_5  pixel_7_6  \\\n",
              "0        0.0        6.0       13.0       10.0        0.0        0.0   \n",
              "1        0.0        0.0       11.0       16.0       10.0        0.0   \n",
              "2        0.0        0.0        3.0       11.0       16.0        9.0   \n",
              "3        0.0        7.0       13.0       13.0        9.0        0.0   \n",
              "4        0.0        0.0        2.0       16.0        4.0        0.0   \n",
              "\n",
              "   pixel_7_7  label  \n",
              "0        0.0      0  \n",
              "1        0.0      1  \n",
              "2        0.0      2  \n",
              "3        0.0      3  \n",
              "4        0.0      4  \n",
              "\n",
              "[5 rows x 65 columns]"
            ],
            "text/html": [
              "\n",
              "  <div id=\"df-6145f745-da11-4a5d-b229-55baa4d00899\">\n",
              "    <div class=\"colab-df-container\">\n",
              "      <div>\n",
              "<style scoped>\n",
              "    .dataframe tbody tr th:only-of-type {\n",
              "        vertical-align: middle;\n",
              "    }\n",
              "\n",
              "    .dataframe tbody tr th {\n",
              "        vertical-align: top;\n",
              "    }\n",
              "\n",
              "    .dataframe thead th {\n",
              "        text-align: right;\n",
              "    }\n",
              "</style>\n",
              "<table border=\"1\" class=\"dataframe\">\n",
              "  <thead>\n",
              "    <tr style=\"text-align: right;\">\n",
              "      <th></th>\n",
              "      <th>pixel_0_0</th>\n",
              "      <th>pixel_0_1</th>\n",
              "      <th>pixel_0_2</th>\n",
              "      <th>pixel_0_3</th>\n",
              "      <th>pixel_0_4</th>\n",
              "      <th>pixel_0_5</th>\n",
              "      <th>pixel_0_6</th>\n",
              "      <th>pixel_0_7</th>\n",
              "      <th>pixel_1_0</th>\n",
              "      <th>pixel_1_1</th>\n",
              "      <th>...</th>\n",
              "      <th>pixel_6_7</th>\n",
              "      <th>pixel_7_0</th>\n",
              "      <th>pixel_7_1</th>\n",
              "      <th>pixel_7_2</th>\n",
              "      <th>pixel_7_3</th>\n",
              "      <th>pixel_7_4</th>\n",
              "      <th>pixel_7_5</th>\n",
              "      <th>pixel_7_6</th>\n",
              "      <th>pixel_7_7</th>\n",
              "      <th>label</th>\n",
              "    </tr>\n",
              "  </thead>\n",
              "  <tbody>\n",
              "    <tr>\n",
              "      <th>0</th>\n",
              "      <td>0.0</td>\n",
              "      <td>0.0</td>\n",
              "      <td>5.0</td>\n",
              "      <td>13.0</td>\n",
              "      <td>9.0</td>\n",
              "      <td>1.0</td>\n",
              "      <td>0.0</td>\n",
              "      <td>0.0</td>\n",
              "      <td>0.0</td>\n",
              "      <td>0.0</td>\n",
              "      <td>...</td>\n",
              "      <td>0.0</td>\n",
              "      <td>0.0</td>\n",
              "      <td>0.0</td>\n",
              "      <td>6.0</td>\n",
              "      <td>13.0</td>\n",
              "      <td>10.0</td>\n",
              "      <td>0.0</td>\n",
              "      <td>0.0</td>\n",
              "      <td>0.0</td>\n",
              "      <td>0</td>\n",
              "    </tr>\n",
              "    <tr>\n",
              "      <th>1</th>\n",
              "      <td>0.0</td>\n",
              "      <td>0.0</td>\n",
              "      <td>0.0</td>\n",
              "      <td>12.0</td>\n",
              "      <td>13.0</td>\n",
              "      <td>5.0</td>\n",
              "      <td>0.0</td>\n",
              "      <td>0.0</td>\n",
              "      <td>0.0</td>\n",
              "      <td>0.0</td>\n",
              "      <td>...</td>\n",
              "      <td>0.0</td>\n",
              "      <td>0.0</td>\n",
              "      <td>0.0</td>\n",
              "      <td>0.0</td>\n",
              "      <td>11.0</td>\n",
              "      <td>16.0</td>\n",
              "      <td>10.0</td>\n",
              "      <td>0.0</td>\n",
              "      <td>0.0</td>\n",
              "      <td>1</td>\n",
              "    </tr>\n",
              "    <tr>\n",
              "      <th>2</th>\n",
              "      <td>0.0</td>\n",
              "      <td>0.0</td>\n",
              "      <td>0.0</td>\n",
              "      <td>4.0</td>\n",
              "      <td>15.0</td>\n",
              "      <td>12.0</td>\n",
              "      <td>0.0</td>\n",
              "      <td>0.0</td>\n",
              "      <td>0.0</td>\n",
              "      <td>0.0</td>\n",
              "      <td>...</td>\n",
              "      <td>0.0</td>\n",
              "      <td>0.0</td>\n",
              "      <td>0.0</td>\n",
              "      <td>0.0</td>\n",
              "      <td>3.0</td>\n",
              "      <td>11.0</td>\n",
              "      <td>16.0</td>\n",
              "      <td>9.0</td>\n",
              "      <td>0.0</td>\n",
              "      <td>2</td>\n",
              "    </tr>\n",
              "    <tr>\n",
              "      <th>3</th>\n",
              "      <td>0.0</td>\n",
              "      <td>0.0</td>\n",
              "      <td>7.0</td>\n",
              "      <td>15.0</td>\n",
              "      <td>13.0</td>\n",
              "      <td>1.0</td>\n",
              "      <td>0.0</td>\n",
              "      <td>0.0</td>\n",
              "      <td>0.0</td>\n",
              "      <td>8.0</td>\n",
              "      <td>...</td>\n",
              "      <td>0.0</td>\n",
              "      <td>0.0</td>\n",
              "      <td>0.0</td>\n",
              "      <td>7.0</td>\n",
              "      <td>13.0</td>\n",
              "      <td>13.0</td>\n",
              "      <td>9.0</td>\n",
              "      <td>0.0</td>\n",
              "      <td>0.0</td>\n",
              "      <td>3</td>\n",
              "    </tr>\n",
              "    <tr>\n",
              "      <th>4</th>\n",
              "      <td>0.0</td>\n",
              "      <td>0.0</td>\n",
              "      <td>0.0</td>\n",
              "      <td>1.0</td>\n",
              "      <td>11.0</td>\n",
              "      <td>0.0</td>\n",
              "      <td>0.0</td>\n",
              "      <td>0.0</td>\n",
              "      <td>0.0</td>\n",
              "      <td>0.0</td>\n",
              "      <td>...</td>\n",
              "      <td>0.0</td>\n",
              "      <td>0.0</td>\n",
              "      <td>0.0</td>\n",
              "      <td>0.0</td>\n",
              "      <td>2.0</td>\n",
              "      <td>16.0</td>\n",
              "      <td>4.0</td>\n",
              "      <td>0.0</td>\n",
              "      <td>0.0</td>\n",
              "      <td>4</td>\n",
              "    </tr>\n",
              "  </tbody>\n",
              "</table>\n",
              "<p>5 rows × 65 columns</p>\n",
              "</div>\n",
              "      <button class=\"colab-df-convert\" onclick=\"convertToInteractive('df-6145f745-da11-4a5d-b229-55baa4d00899')\"\n",
              "              title=\"Convert this dataframe to an interactive table.\"\n",
              "              style=\"display:none;\">\n",
              "        \n",
              "  <svg xmlns=\"http://www.w3.org/2000/svg\" height=\"24px\"viewBox=\"0 0 24 24\"\n",
              "       width=\"24px\">\n",
              "    <path d=\"M0 0h24v24H0V0z\" fill=\"none\"/>\n",
              "    <path d=\"M18.56 5.44l.94 2.06.94-2.06 2.06-.94-2.06-.94-.94-2.06-.94 2.06-2.06.94zm-11 1L8.5 8.5l.94-2.06 2.06-.94-2.06-.94L8.5 2.5l-.94 2.06-2.06.94zm10 10l.94 2.06.94-2.06 2.06-.94-2.06-.94-.94-2.06-.94 2.06-2.06.94z\"/><path d=\"M17.41 7.96l-1.37-1.37c-.4-.4-.92-.59-1.43-.59-.52 0-1.04.2-1.43.59L10.3 9.45l-7.72 7.72c-.78.78-.78 2.05 0 2.83L4 21.41c.39.39.9.59 1.41.59.51 0 1.02-.2 1.41-.59l7.78-7.78 2.81-2.81c.8-.78.8-2.07 0-2.86zM5.41 20L4 18.59l7.72-7.72 1.47 1.35L5.41 20z\"/>\n",
              "  </svg>\n",
              "      </button>\n",
              "      \n",
              "  <style>\n",
              "    .colab-df-container {\n",
              "      display:flex;\n",
              "      flex-wrap:wrap;\n",
              "      gap: 12px;\n",
              "    }\n",
              "\n",
              "    .colab-df-convert {\n",
              "      background-color: #E8F0FE;\n",
              "      border: none;\n",
              "      border-radius: 50%;\n",
              "      cursor: pointer;\n",
              "      display: none;\n",
              "      fill: #1967D2;\n",
              "      height: 32px;\n",
              "      padding: 0 0 0 0;\n",
              "      width: 32px;\n",
              "    }\n",
              "\n",
              "    .colab-df-convert:hover {\n",
              "      background-color: #E2EBFA;\n",
              "      box-shadow: 0px 1px 2px rgba(60, 64, 67, 0.3), 0px 1px 3px 1px rgba(60, 64, 67, 0.15);\n",
              "      fill: #174EA6;\n",
              "    }\n",
              "\n",
              "    [theme=dark] .colab-df-convert {\n",
              "      background-color: #3B4455;\n",
              "      fill: #D2E3FC;\n",
              "    }\n",
              "\n",
              "    [theme=dark] .colab-df-convert:hover {\n",
              "      background-color: #434B5C;\n",
              "      box-shadow: 0px 1px 3px 1px rgba(0, 0, 0, 0.15);\n",
              "      filter: drop-shadow(0px 1px 2px rgba(0, 0, 0, 0.3));\n",
              "      fill: #FFFFFF;\n",
              "    }\n",
              "  </style>\n",
              "\n",
              "      <script>\n",
              "        const buttonEl =\n",
              "          document.querySelector('#df-6145f745-da11-4a5d-b229-55baa4d00899 button.colab-df-convert');\n",
              "        buttonEl.style.display =\n",
              "          google.colab.kernel.accessAllowed ? 'block' : 'none';\n",
              "\n",
              "        async function convertToInteractive(key) {\n",
              "          const element = document.querySelector('#df-6145f745-da11-4a5d-b229-55baa4d00899');\n",
              "          const dataTable =\n",
              "            await google.colab.kernel.invokeFunction('convertToInteractive',\n",
              "                                                     [key], {});\n",
              "          if (!dataTable) return;\n",
              "\n",
              "          const docLinkHtml = 'Like what you see? Visit the ' +\n",
              "            '<a target=\"_blank\" href=https://colab.research.google.com/notebooks/data_table.ipynb>data table notebook</a>'\n",
              "            + ' to learn more about interactive tables.';\n",
              "          element.innerHTML = '';\n",
              "          dataTable['output_type'] = 'display_data';\n",
              "          await google.colab.output.renderOutput(dataTable, element);\n",
              "          const docLink = document.createElement('div');\n",
              "          docLink.innerHTML = docLinkHtml;\n",
              "          element.appendChild(docLink);\n",
              "        }\n",
              "      </script>\n",
              "    </div>\n",
              "  </div>\n",
              "  "
            ]
          },
          "metadata": {},
          "execution_count": 16
        }
      ]
    },
    {
      "cell_type": "code",
      "source": [
        "############################## \b손글씨 이미지 확인 ##############################\n",
        "fig, axes = plt.subplots(nrows=3, ncols=8, figsize=(10,5))\n",
        "for ax, image, label in zip(axes.flat, digits_image, digits_label):\n",
        "    ax.set_axis_off()\n",
        "    ax.imshow(image, cmap=\"gray\")\n",
        "    ax.set_title(f\"Label: {label}\" )"
      ],
      "metadata": {
        "colab": {
          "base_uri": "https://localhost:8080/",
          "height": 298
        },
        "id": "42Y5yFxVVOlo",
        "outputId": "4aedbaa7-6adb-4c30-a2cb-ef0b1aa28a92"
      },
      "execution_count": 15,
      "outputs": [
        {
          "output_type": "display_data",
          "data": {
            "text/plain": [
              "<Figure size 720x360 with 24 Axes>"
            ],
            "image/png": "[encoded data removed]"
          },
          "metadata": {
            "needs_background": "light"
          }
        }
      ]
    },
    {
      "cell_type": "markdown",
      "source": [
        "### **1-2. \b탐색적 데이터 분석 및 전처리**\n"
      ],
      "metadata": {
        "id": "1kJWs27mTRy1"
      }
    },
    {
      "cell_type": "markdown",
      "source": [
        "#### 1-2-1. 데이터 타입 확인"
      ],
      "metadata": {
        "id": "XhPg0n8_gQdE"
      }
    },
    {
      "cell_type": "code",
      "source": [
        "############################## 컬럼별 데이터 타입확인 ##############################\n",
        "digits_df.info()"
      ],
      "metadata": {
        "colab": {
          "base_uri": "https://localhost:8080/"
        },
        "id": "sDCDPdHJgGVO",
        "outputId": "cea92b6f-6ede-48c7-a266-70c18efc0504"
      },
      "execution_count": 17,
      "outputs": [
        {
          "output_type": "stream",
          "name": "stdout",
          "text": [
            "<class 'pandas.core.frame.DataFrame'>\n",
            "RangeIndex: 1797 entries, 0 to 1796\n",
            "Data columns (total 65 columns):\n",
            " #   Column     Non-Null Count  Dtype  \n",
            "---  ------     --------------  -----  \n",
            " 0   pixel_0_0  1797 non-null   float64\n",
            " 1   pixel_0_1  1797 non-null   float64\n",
            " 2   pixel_0_2  1797 non-null   float64\n",
            " 3   pixel_0_3  1797 non-null   float64\n",
            " 4   pixel_0_4  1797 non-null   float64\n",
            " 5   pixel_0_5  1797 non-null   float64\n",
            " 6   pixel_0_6  1797 non-null   float64\n",
            " 7   pixel_0_7  1797 non-null   float64\n",
            " 8   pixel_1_0  1797 non-null   float64\n",
            " 9   pixel_1_1  1797 non-null   float64\n",
            " 10  pixel_1_2  1797 non-null   float64\n",
            " 11  pixel_1_3  1797 non-null   float64\n",
            " 12  pixel_1_4  1797 non-null   float64\n",
            " 13  pixel_1_5  1797 non-null   float64\n",
            " 14  pixel_1_6  1797 non-null   float64\n",
            " 15  pixel_1_7  1797 non-null   float64\n",
            " 16  pixel_2_0  1797 non-null   float64\n",
            " 17  pixel_2_1  1797 non-null   float64\n",
            " 18  pixel_2_2  1797 non-null   float64\n",
            " 19  pixel_2_3  1797 non-null   float64\n",
            " 20  pixel_2_4  1797 non-null   float64\n",
            " 21  pixel_2_5  1797 non-null   float64\n",
            " 22  pixel_2_6  1797 non-null   float64\n",
            " 23  pixel_2_7  1797 non-null   float64\n",
            " 24  pixel_3_0  1797 non-null   float64\n",
            " 25  pixel_3_1  1797 non-null   float64\n",
            " 26  pixel_3_2  1797 non-null   float64\n",
            " 27  pixel_3_3  1797 non-null   float64\n",
            " 28  pixel_3_4  1797 non-null   float64\n",
            " 29  pixel_3_5  1797 non-null   float64\n",
            " 30  pixel_3_6  1797 non-null   float64\n",
            " 31  pixel_3_7  1797 non-null   float64\n",
            " 32  pixel_4_0  1797 non-null   float64\n",
            " 33  pixel_4_1  1797 non-null   float64\n",
            " 34  pixel_4_2  1797 non-null   float64\n",
            " 35  pixel_4_3  1797 non-null   float64\n",
            " 36  pixel_4_4  1797 non-null   float64\n",
            " 37  pixel_4_5  1797 non-null   float64\n",
            " 38  pixel_4_6  1797 non-null   float64\n",
            " 39  pixel_4_7  1797 non-null   float64\n",
            " 40  pixel_5_0  1797 non-null   float64\n",
            " 41  pixel_5_1  1797 non-null   float64\n",
            " 42  pixel_5_2  1797 non-null   float64\n",
            " 43  pixel_5_3  1797 non-null   float64\n",
            " 44  pixel_5_4  1797 non-null   float64\n",
            " 45  pixel_5_5  1797 non-null   float64\n",
            " 46  pixel_5_6  1797 non-null   float64\n",
            " 47  pixel_5_7  1797 non-null   float64\n",
            " 48  pixel_6_0  1797 non-null   float64\n",
            " 49  pixel_6_1  1797 non-null   float64\n",
            " 50  pixel_6_2  1797 non-null   float64\n",
            " 51  pixel_6_3  1797 non-null   float64\n",
            " 52  pixel_6_4  1797 non-null   float64\n",
            " 53  pixel_6_5  1797 non-null   float64\n",
            " 54  pixel_6_6  1797 non-null   float64\n",
            " 55  pixel_6_7  1797 non-null   float64\n",
            " 56  pixel_7_0  1797 non-null   float64\n",
            " 57  pixel_7_1  1797 non-null   float64\n",
            " 58  pixel_7_2  1797 non-null   float64\n",
            " 59  pixel_7_3  1797 non-null   float64\n",
            " 60  pixel_7_4  1797 non-null   float64\n",
            " 61  pixel_7_5  1797 non-null   float64\n",
            " 62  pixel_7_6  1797 non-null   float64\n",
            " 63  pixel_7_7  1797 non-null   float64\n",
            " 64  label      1797 non-null   int64  \n",
            "dtypes: float64(64), int64(1)\n",
            "memory usage: 912.7 KB\n"
          ]
        }
      ]
    },
    {
      "cell_type": "markdown",
      "source": [
        "모두 숫자로 이루어진 데이터인걸 알 수 있다.\n"
      ],
      "metadata": {
        "id": "fP6A54-Ngb42"
      }
    },
    {
      "cell_type": "markdown",
      "source": [
        "#### 1-2-2. 통계값 확인"
      ],
      "metadata": {
        "id": "2DJfBtFngnMZ"
      }
    },
    {
      "cell_type": "code",
      "source": [
        "############################## \b컬럼별 간단한 통계값 확인 ##############################\n",
        "digits_df.describe()"
      ],
      "metadata": {
        "colab": {
          "base_uri": "https://localhost:8080/",
          "height": 394
        },
        "id": "Y-Ix2bg2fFLZ",
        "outputId": "caa8b96a-1a3f-454d-dafa-407c03d0653f"
      },
      "execution_count": 18,
      "outputs": [
        {
          "output_type": "execute_result",
          "data": {
            "text/plain": [
              "       pixel_0_0    pixel_0_1    pixel_0_2    pixel_0_3    pixel_0_4  \\\n",
              "count     1797.0  1797.000000  1797.000000  1797.000000  1797.000000   \n",
              "mean         0.0     0.303840     5.204786    11.835838    11.848080   \n",
              "std          0.0     0.907192     4.754826     4.248842     4.287388   \n",
              "min          0.0     0.000000     0.000000     0.000000     0.000000   \n",
              "25%          0.0     0.000000     1.000000    10.000000    10.000000   \n",
              "50%          0.0     0.000000     4.000000    13.000000    13.000000   \n",
              "75%          0.0     0.000000     9.000000    15.000000    15.000000   \n",
              "max          0.0     8.000000    16.000000    16.000000    16.000000   \n",
              "\n",
              "         pixel_0_5    pixel_0_6    pixel_0_7    pixel_1_0    pixel_1_1  ...  \\\n",
              "count  1797.000000  1797.000000  1797.000000  1797.000000  1797.000000  ...   \n",
              "mean      5.781859     1.362270     0.129661     0.005565     1.993879  ...   \n",
              "std       5.666418     3.325775     1.037383     0.094222     3.196160  ...   \n",
              "min       0.000000     0.000000     0.000000     0.000000     0.000000  ...   \n",
              "25%       0.000000     0.000000     0.000000     0.000000     0.000000  ...   \n",
              "50%       4.000000     0.000000     0.000000     0.000000     0.000000  ...   \n",
              "75%      11.000000     0.000000     0.000000     0.000000     3.000000  ...   \n",
              "max      16.000000    16.000000    15.000000     2.000000    16.000000  ...   \n",
              "\n",
              "         pixel_6_7    pixel_7_0    pixel_7_1    pixel_7_2    pixel_7_3  \\\n",
              "count  1797.000000  1797.000000  1797.000000  1797.000000  1797.000000   \n",
              "mean      0.206455     0.000556     0.279354     5.557596    12.089037   \n",
              "std       0.984401     0.023590     0.934302     5.103019     4.374694   \n",
              "min       0.000000     0.000000     0.000000     0.000000     0.000000   \n",
              "25%       0.000000     0.000000     0.000000     1.000000    11.000000   \n",
              "50%       0.000000     0.000000     0.000000     4.000000    13.000000   \n",
              "75%       0.000000     0.000000     0.000000    10.000000    16.000000   \n",
              "max      13.000000     1.000000     9.000000    16.000000    16.000000   \n",
              "\n",
              "         pixel_7_4    pixel_7_5    pixel_7_6    pixel_7_7        label  \n",
              "count  1797.000000  1797.000000  1797.000000  1797.000000  1797.000000  \n",
              "mean     11.809126     6.764051     2.067891     0.364496     4.490818  \n",
              "std       4.933947     5.900623     4.090548     1.860122     2.865304  \n",
              "min       0.000000     0.000000     0.000000     0.000000     0.000000  \n",
              "25%      10.000000     0.000000     0.000000     0.000000     2.000000  \n",
              "50%      14.000000     6.000000     0.000000     0.000000     4.000000  \n",
              "75%      16.000000    12.000000     2.000000     0.000000     7.000000  \n",
              "max      16.000000    16.000000    16.000000    16.000000     9.000000  \n",
              "\n",
              "[8 rows x 65 columns]"
            ],
            "text/html": [
              "\n",
              "  <div id=\"df-8f4565ed-6176-4015-9aaa-e1425630e1ea\">\n",
              "    <div class=\"colab-df-container\">\n",
              "      <div>\n",
              "<style scoped>\n",
              "    .dataframe tbody tr th:only-of-type {\n",
              "        vertical-align: middle;\n",
              "    }\n",
              "\n",
              "    .dataframe tbody tr th {\n",
              "        vertical-align: top;\n",
              "    }\n",
              "\n",
              "    .dataframe thead th {\n",
              "        text-align: right;\n",
              "    }\n",
              "</style>\n",
              "<table border=\"1\" class=\"dataframe\">\n",
              "  <thead>\n",
              "    <tr style=\"text-align: right;\">\n",
              "      <th></th>\n",
              "      <th>pixel_0_0</th>\n",
              "      <th>pixel_0_1</th>\n",
              "      <th>pixel_0_2</th>\n",
              "      <th>pixel_0_3</th>\n",
              "      <th>pixel_0_4</th>\n",
              "      <th>pixel_0_5</th>\n",
              "      <th>pixel_0_6</th>\n",
              "      <th>pixel_0_7</th>\n",
              "      <th>pixel_1_0</th>\n",
              "      <th>pixel_1_1</th>\n",
              "      <th>...</th>\n",
              "      <th>pixel_6_7</th>\n",
              "      <th>pixel_7_0</th>\n",
              "      <th>pixel_7_1</th>\n",
              "      <th>pixel_7_2</th>\n",
              "      <th>pixel_7_3</th>\n",
              "      <th>pixel_7_4</th>\n",
              "      <th>pixel_7_5</th>\n",
              "      <th>pixel_7_6</th>\n",
              "      <th>pixel_7_7</th>\n",
              "      <th>label</th>\n",
              "    </tr>\n",
              "  </thead>\n",
              "  <tbody>\n",
              "    <tr>\n",
              "      <th>count</th>\n",
              "      <td>1797.0</td>\n",
              "      <td>1797.000000</td>\n",
              "      <td>1797.000000</td>\n",
              "      <td>1797.000000</td>\n",
              "      <td>1797.000000</td>\n",
              "      <td>1797.000000</td>\n",
              "      <td>1797.000000</td>\n",
              "      <td>1797.000000</td>\n",
              "      <td>1797.000000</td>\n",
              "      <td>1797.000000</td>\n",
              "      <td>...</td>\n",
              "      <td>1797.000000</td>\n",
              "      <td>1797.000000</td>\n",
              "      <td>1797.000000</td>\n",
              "      <td>1797.000000</td>\n",
              "      <td>1797.000000</td>\n",
              "      <td>1797.000000</td>\n",
              "      <td>1797.000000</td>\n",
              "      <td>1797.000000</td>\n",
              "      <td>1797.000000</td>\n",
              "      <td>1797.000000</td>\n",
              "    </tr>\n",
              "    <tr>\n",
              "      <th>mean</th>\n",
              "      <td>0.0</td>\n",
              "      <td>0.303840</td>\n",
              "      <td>5.204786</td>\n",
              "      <td>11.835838</td>\n",
              "      <td>11.848080</td>\n",
              "      <td>5.781859</td>\n",
              "      <td>1.362270</td>\n",
              "      <td>0.129661</td>\n",
              "      <td>0.005565</td>\n",
              "      <td>1.993879</td>\n",
              "      <td>...</td>\n",
              "      <td>0.206455</td>\n",
              "      <td>0.000556</td>\n",
              "      <td>0.279354</td>\n",
              "      <td>5.557596</td>\n",
              "      <td>12.089037</td>\n",
              "      <td>11.809126</td>\n",
              "      <td>6.764051</td>\n",
              "      <td>2.067891</td>\n",
              "      <td>0.364496</td>\n",
              "      <td>4.490818</td>\n",
              "    </tr>\n",
              "    <tr>\n",
              "      <th>std</th>\n",
              "      <td>0.0</td>\n",
              "      <td>0.907192</td>\n",
              "      <td>4.754826</td>\n",
              "      <td>4.248842</td>\n",
              "      <td>4.287388</td>\n",
              "      <td>5.666418</td>\n",
              "      <td>3.325775</td>\n",
              "      <td>1.037383</td>\n",
              "      <td>0.094222</td>\n",
              "      <td>3.196160</td>\n",
              "      <td>...</td>\n",
              "      <td>0.984401</td>\n",
              "      <td>0.023590</td>\n",
              "      <td>0.934302</td>\n",
              "      <td>5.103019</td>\n",
              "      <td>4.374694</td>\n",
              "      <td>4.933947</td>\n",
              "      <td>5.900623</td>\n",
              "      <td>4.090548</td>\n",
              "      <td>1.860122</td>\n",
              "      <td>2.865304</td>\n",
              "    </tr>\n",
              "    <tr>\n",
              "      <th>min</th>\n",
              "      <td>0.0</td>\n",
              "      <td>0.000000</td>\n",
              "      <td>0.000000</td>\n",
              "      <td>0.000000</td>\n",
              "      <td>0.000000</td>\n",
              "      <td>0.000000</td>\n",
              "      <td>0.000000</td>\n",
              "      <td>0.000000</td>\n",
              "      <td>0.000000</td>\n",
              "      <td>0.000000</td>\n",
              "      <td>...</td>\n",
              "      <td>0.000000</td>\n",
              "      <td>0.000000</td>\n",
              "      <td>0.000000</td>\n",
              "      <td>0.000000</td>\n",
              "      <td>0.000000</td>\n",
              "      <td>0.000000</td>\n",
              "      <td>0.000000</td>\n",
              "      <td>0.000000</td>\n",
              "      <td>0.000000</td>\n",
              "      <td>0.000000</td>\n",
              "    </tr>\n",
              "    <tr>\n",
              "      <th>25%</th>\n",
              "      <td>0.0</td>\n",
              "      <td>0.000000</td>\n",
              "      <td>1.000000</td>\n",
              "      <td>10.000000</td>\n",
              "      <td>10.000000</td>\n",
              "      <td>0.000000</td>\n",
              "      <td>0.000000</td>\n",
              "      <td>0.000000</td>\n",
              "      <td>0.000000</td>\n",
              "      <td>0.000000</td>\n",
              "      <td>...</td>\n",
              "      <td>0.000000</td>\n",
              "      <td>0.000000</td>\n",
              "      <td>0.000000</td>\n",
              "      <td>1.000000</td>\n",
              "      <td>11.000000</td>\n",
              "      <td>10.000000</td>\n",
              "      <td>0.000000</td>\n",
              "      <td>0.000000</td>\n",
              "      <td>0.000000</td>\n",
              "      <td>2.000000</td>\n",
              "    </tr>\n",
              "    <tr>\n",
              "      <th>50%</th>\n",
              "      <td>0.0</td>\n",
              "      <td>0.000000</td>\n",
              "      <td>4.000000</td>\n",
              "      <td>13.000000</td>\n",
              "      <td>13.000000</td>\n",
              "      <td>4.000000</td>\n",
              "      <td>0.000000</td>\n",
              "      <td>0.000000</td>\n",
              "      <td>0.000000</td>\n",
              "      <td>0.000000</td>\n",
              "      <td>...</td>\n",
              "      <td>0.000000</td>\n",
              "      <td>0.000000</td>\n",
              "      <td>0.000000</td>\n",
              "      <td>4.000000</td>\n",
              "      <td>13.000000</td>\n",
              "      <td>14.000000</td>\n",
              "      <td>6.000000</td>\n",
              "      <td>0.000000</td>\n",
              "      <td>0.000000</td>\n",
              "      <td>4.000000</td>\n",
              "    </tr>\n",
              "    <tr>\n",
              "      <th>75%</th>\n",
              "      <td>0.0</td>\n",
              "      <td>0.000000</td>\n",
              "      <td>9.000000</td>\n",
              "      <td>15.000000</td>\n",
              "      <td>15.000000</td>\n",
              "      <td>11.000000</td>\n",
              "      <td>0.000000</td>\n",
              "      <td>0.000000</td>\n",
              "      <td>0.000000</td>\n",
              "      <td>3.000000</td>\n",
              "      <td>...</td>\n",
              "      <td>0.000000</td>\n",
              "      <td>0.000000</td>\n",
              "      <td>0.000000</td>\n",
              "      <td>10.000000</td>\n",
              "      <td>16.000000</td>\n",
              "      <td>16.000000</td>\n",
              "      <td>12.000000</td>\n",
              "      <td>2.000000</td>\n",
              "      <td>0.000000</td>\n",
              "      <td>7.000000</td>\n",
              "    </tr>\n",
              "    <tr>\n",
              "      <th>max</th>\n",
              "      <td>0.0</td>\n",
              "      <td>8.000000</td>\n",
              "      <td>16.000000</td>\n",
              "      <td>16.000000</td>\n",
              "      <td>16.000000</td>\n",
              "      <td>16.000000</td>\n",
              "      <td>16.000000</td>\n",
              "      <td>15.000000</td>\n",
              "      <td>2.000000</td>\n",
              "      <td>16.000000</td>\n",
              "      <td>...</td>\n",
              "      <td>13.000000</td>\n",
              "      <td>1.000000</td>\n",
              "      <td>9.000000</td>\n",
              "      <td>16.000000</td>\n",
              "      <td>16.000000</td>\n",
              "      <td>16.000000</td>\n",
              "      <td>16.000000</td>\n",
              "      <td>16.000000</td>\n",
              "      <td>16.000000</td>\n",
              "      <td>9.000000</td>\n",
              "    </tr>\n",
              "  </tbody>\n",
              "</table>\n",
              "<p>8 rows × 65 columns</p>\n",
              "</div>\n",
              "      <button class=\"colab-df-convert\" onclick=\"convertToInteractive('df-8f4565ed-6176-4015-9aaa-e1425630e1ea')\"\n",
              "              title=\"Convert this dataframe to an interactive table.\"\n",
              "              style=\"display:none;\">\n",
              "        \n",
              "  <svg xmlns=\"http://www.w3.org/2000/svg\" height=\"24px\"viewBox=\"0 0 24 24\"\n",
              "       width=\"24px\">\n",
              "    <path d=\"M0 0h24v24H0V0z\" fill=\"none\"/>\n",
              "    <path d=\"M18.56 5.44l.94 2.06.94-2.06 2.06-.94-2.06-.94-.94-2.06-.94 2.06-2.06.94zm-11 1L8.5 8.5l.94-2.06 2.06-.94-2.06-.94L8.5 2.5l-.94 2.06-2.06.94zm10 10l.94 2.06.94-2.06 2.06-.94-2.06-.94-.94-2.06-.94 2.06-2.06.94z\"/><path d=\"M17.41 7.96l-1.37-1.37c-.4-.4-.92-.59-1.43-.59-.52 0-1.04.2-1.43.59L10.3 9.45l-7.72 7.72c-.78.78-.78 2.05 0 2.83L4 21.41c.39.39.9.59 1.41.59.51 0 1.02-.2 1.41-.59l7.78-7.78 2.81-2.81c.8-.78.8-2.07 0-2.86zM5.41 20L4 18.59l7.72-7.72 1.47 1.35L5.41 20z\"/>\n",
              "  </svg>\n",
              "      </button>\n",
              "      \n",
              "  <style>\n",
              "    .colab-df-container {\n",
              "      display:flex;\n",
              "      flex-wrap:wrap;\n",
              "      gap: 12px;\n",
              "    }\n",
              "\n",
              "    .colab-df-convert {\n",
              "      background-color: #E8F0FE;\n",
              "      border: none;\n",
              "      border-radius: 50%;\n",
              "      cursor: pointer;\n",
              "      display: none;\n",
              "      fill: #1967D2;\n",
              "      height: 32px;\n",
              "      padding: 0 0 0 0;\n",
              "      width: 32px;\n",
              "    }\n",
              "\n",
              "    .colab-df-convert:hover {\n",
              "      background-color: #E2EBFA;\n",
              "      box-shadow: 0px 1px 2px rgba(60, 64, 67, 0.3), 0px 1px 3px 1px rgba(60, 64, 67, 0.15);\n",
              "      fill: #174EA6;\n",
              "    }\n",
              "\n",
              "    [theme=dark] .colab-df-convert {\n",
              "      background-color: #3B4455;\n",
              "      fill: #D2E3FC;\n",
              "    }\n",
              "\n",
              "    [theme=dark] .colab-df-convert:hover {\n",
              "      background-color: #434B5C;\n",
              "      box-shadow: 0px 1px 3px 1px rgba(0, 0, 0, 0.15);\n",
              "      filter: drop-shadow(0px 1px 2px rgba(0, 0, 0, 0.3));\n",
              "      fill: #FFFFFF;\n",
              "    }\n",
              "  </style>\n",
              "\n",
              "      <script>\n",
              "        const buttonEl =\n",
              "          document.querySelector('#df-8f4565ed-6176-4015-9aaa-e1425630e1ea button.colab-df-convert');\n",
              "        buttonEl.style.display =\n",
              "          google.colab.kernel.accessAllowed ? 'block' : 'none';\n",
              "\n",
              "        async function convertToInteractive(key) {\n",
              "          const element = document.querySelector('#df-8f4565ed-6176-4015-9aaa-e1425630e1ea');\n",
              "          const dataTable =\n",
              "            await google.colab.kernel.invokeFunction('convertToInteractive',\n",
              "                                                     [key], {});\n",
              "          if (!dataTable) return;\n",
              "\n",
              "          const docLinkHtml = 'Like what you see? Visit the ' +\n",
              "            '<a target=\"_blank\" href=https://colab.research.google.com/notebooks/data_table.ipynb>data table notebook</a>'\n",
              "            + ' to learn more about interactive tables.';\n",
              "          element.innerHTML = '';\n",
              "          dataTable['output_type'] = 'display_data';\n",
              "          await google.colab.output.renderOutput(dataTable, element);\n",
              "          const docLink = document.createElement('div');\n",
              "          docLink.innerHTML = docLinkHtml;\n",
              "          element.appendChild(docLink);\n",
              "        }\n",
              "      </script>\n",
              "    </div>\n",
              "  </div>\n",
              "  "
            ]
          },
          "metadata": {},
          "execution_count": 18
        }
      ]
    },
    {
      "cell_type": "markdown",
      "source": [
        "#### 1-2-3. 결측값 확인"
      ],
      "metadata": {
        "id": "rA72KCrSg6n2"
      }
    },
    {
      "cell_type": "code",
      "source": [
        "############################## \b결측여부 확인 ##############################\n",
        "digits_df.isnull().any().any()"
      ],
      "metadata": {
        "colab": {
          "base_uri": "https://localhost:8080/"
        },
        "outputId": "9d3fd09f-36c2-48f6-af57-a7e70286e7c0",
        "id": "nYTrMJ3Kg6n3"
      },
      "execution_count": 19,
      "outputs": [
        {
          "output_type": "execute_result",
          "data": {
            "text/plain": [
              "False"
            ]
          },
          "metadata": {},
          "execution_count": 19
        }
      ]
    },
    {
      "cell_type": "markdown",
      "source": [
        "#### 1-2-4. 중복값 확인"
      ],
      "metadata": {
        "id": "xU5UNnpthSR-"
      }
    },
    {
      "cell_type": "code",
      "source": [
        "############################## \b중복된 항목 수 확인 ##############################\n",
        "print(\"중복된 항목 수 :\", len(digits_df[digits_df.duplicated()])) "
      ],
      "metadata": {
        "colab": {
          "base_uri": "https://localhost:8080/"
        },
        "outputId": "fe680c2d-5f9b-49bb-cfec-b3c2d2576463",
        "id": "DDO8Mn3ehSSK"
      },
      "execution_count": 20,
      "outputs": [
        {
          "output_type": "stream",
          "name": "stdout",
          "text": [
            "중복된 항목 수 : 0\n"
          ]
        }
      ]
    },
    {
      "cell_type": "markdown",
      "source": [
        "#### 1-2-5. target feature 정의"
      ],
      "metadata": {
        "id": "-FlVfvAfiKP5"
      }
    },
    {
      "cell_type": "code",
      "source": [
        "############################## \btarget feature 확인 ##############################\n",
        "print(\"target feature의 class확인 :\", digits.target_names) \n"
      ],
      "metadata": {
        "colab": {
          "base_uri": "https://localhost:8080/"
        },
        "outputId": "81616f1c-dbce-475d-b51d-b0b834dbb334",
        "id": "QRmEkWtYiKP5"
      },
      "execution_count": 23,
      "outputs": [
        {
          "output_type": "stream",
          "name": "stdout",
          "text": [
            "target feature의 class확인 : [0 1 2 3 4 5 6 7 8 9]\n"
          ]
        }
      ]
    },
    {
      "cell_type": "code",
      "source": [
        "############################## \btarget class 분포 확인 ##############################\n",
        "labels = digits.target_names\n",
        "size = digits_df['label'].value_counts()\n",
        "\n",
        "plt.style.use('seaborn-deep')\n",
        "plt.rcParams['figure.figsize'] = (8, 8)\n",
        "plt.pie(size, labels =labels, autopct = \"%.2f%%\", shadow = True)\n",
        "plt.axis('off')\n",
        "plt.title('Target pie', fontsize = 20)\n",
        "plt.legend()\n",
        "\n"
      ],
      "metadata": {
        "colab": {
          "base_uri": "https://localhost:8080/",
          "height": 504
        },
        "id": "9byHfbPriJzl",
        "outputId": "a9561ff5-2c6b-4033-a502-ab562ae5e24f"
      },
      "execution_count": 31,
      "outputs": [
        {
          "output_type": "execute_result",
          "data": {
            "text/plain": [
              "<matplotlib.legend.Legend at 0x7f55dcb5d250>"
            ]
          },
          "metadata": {},
          "execution_count": 31
        },
        {
          "output_type": "display_data",
          "data": {
            "text/plain": [
              "<Figure size 576x576 with 1 Axes>"
            ],
            "image/png": "[encoded data removed]"
          },
          "metadata": {}
        }
      ]
    },
    {
      "cell_type": "markdown",
      "source": [
        "파이차트를 그려본 결과, 클래스의 분포가 균일한것을 알 수 있다. 데이터 분포가 불균형한 경우에는 과적합의 문제가 발생할 수 있어서 샘플링(Under Sampling, Over Sampling) 등의 방법을 이용하여 해결을 하지만, 현재의 경우에는 매우 균일하게 분포가 되어있어서 샘플링 과정은 생략하도록 한다."
      ],
      "metadata": {
        "id": "UvF95ofem8XF"
      }
    },
    {
      "cell_type": "code",
      "source": [
        "############################## \b데이터 정규화 ##############################\n"
      ],
      "metadata": {
        "id": "q7DbD2ecp5vI"
      },
      "execution_count": null,
      "outputs": []
    },
    {
      "cell_type": "markdown",
      "source": [
        "데이터 정규화는 0~1 사이 값을 가지도록 하는 것인데, "
      ],
      "metadata": {
        "id": "CW9q-hBLp43t"
      }
    },
    {
      "cell_type": "markdown",
      "source": [
        ""
      ],
      "metadata": {
        "id": "bOGRBFEuqqqN"
      }
    },
    {
      "cell_type": "markdown",
      "source": [
        "#### 1-2-6. 데이터 정규화"
      ],
      "metadata": {
        "id": "_RNg4JxkpsEw"
      }
    },
    {
      "cell_type": "code",
      "source": [
        "############################## \b데이터 정규화 ##############################\n"
      ],
      "metadata": {
        "id": "Efb-kxcspodr"
      },
      "execution_count": null,
      "outputs": []
    },
    {
      "cell_type": "markdown",
      "source": [
        "데이터 정규화는 0~1 사이 값을 가지도록 하는 것인데, "
      ],
      "metadata": {
        "id": "FE1PCIJ5poIn"
      }
    },
    {
      "cell_type": "markdown",
      "source": [
        "### **1-4. 모델 구현 및 평가**\n",
        "- 예측 모델 학습\n",
        "- 모델 성능 개선\n",
        "- 성능 평가\n",
        "- 최종 모델 선정"
      ],
      "metadata": {
        "id": "jx-aSsS9UhvD"
      }
    },
    {
      "cell_type": "code",
      "source": [
        "class \bCreateModel:\n",
        "    def __init__(self, data):\n",
        "    \n",
        "    def split_data(self,):\n",
        "      self.X_train, self.X_test, self.y_train, self.y_test = train_test_split( \n",
        "             data.data,\n",
        "             data.target,\n",
        "             test_size=0.3)\n",
        "        \n",
        "    def training_model(self, estimator):  \n",
        "\n",
        "    \n",
        "    def evaluate_model(self, matrix):\n",
        "      "
      ],
      "metadata": {
        "id": "gVfIGp0XEtX6"
      },
      "execution_count": null,
      "outputs": []
    },
    {
      "cell_type": "code",
      "source": [
        "\n",
        "# 모델과 모델의 파라미터 정의\n",
        "\n",
        "models = {\"DecisionTreeClassifier\": DecisionTreeClassifier(),\n",
        "          \"RandomForestClassifier\": RandomForestClassifier(),\n",
        "          \"SVM\"                   : svm.SVC(),\n",
        "          \"SGDClassifier\"         : SGDClassifier(),\n",
        "          \"LogisticRegression\"    : LogisticRegression()}\n",
        "\n",
        "\n",
        "params = {\"DecisionTreeClassifier\":  [\"min_samples_split\": [2,3,4,5,6], \n",
        "                                      \"min_samples_leaf\" : [1,2,3],\n",
        "                                      \"max_depth\"        : [2,3,4,5,6], \n",
        "                                      \"max_features\"     : [None,'sqrt','log2',3,4,5]}\n",
        "                                      \"max_leaf_nodes\"   : [2,3,4,5,6,7]]\n",
        "          \"RandomForestClassifier\": RandomForestClassifier(),\n",
        "          \"SVM\"                   : svm.SVC(),\n",
        "          \"SGDClassifier\"         : SGDClassifier(),\n",
        "          \"LogisticRegression\"    : LogisticRegression()}\n"
      ],
      "metadata": {
        "id": "OjDCCOn3EtX6"
      },
      "execution_count": null,
      "outputs": []
    },
    {
      "cell_type": "code",
      "execution_count": null,
      "metadata": {
        "id": "tIcQNofjJdr6"
      },
      "outputs": [],
      "source": [
        ""
      ]
    }
  ]
}