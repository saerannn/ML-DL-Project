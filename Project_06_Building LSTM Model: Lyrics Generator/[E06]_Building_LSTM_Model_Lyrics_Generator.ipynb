{
  "cells": [
    {
      "cell_type": "markdown",
      "metadata": {
        "id": "bLSI1omR5GJV"
      },
      "source": [
        "# **Project_06_Building LSTM Model: Lyrics Generator With Keras**"
      ]
    },
    {
      "cell_type": "markdown",
      "metadata": {
        "id": "PkqUfIQBNp9I"
      },
      "source": [
        "## **0. 평가문항\t상세기준**\n",
        "---\n",
        "\n",
        "1. 가사 텍스트 생성 모델이 정상적으로 동작하는가?\n",
        "\n",
        "  - 텍스트 제너레이션 결과가 그럴듯한 문장으로 생성되는가?\n",
        "2. 데이터의 전처리와 데이터셋 구성 과정이 체계적으로 진행되었는가?\n",
        "\n",
        "  - 특수문자 제거, 토크나이저 생성, 패딩처리 등의 과정이 빠짐없이 진행되었는가?\n",
        "3. 텍스트 생성모델이 안정적으로 학습되었는가?\n",
        "\n",
        "  - 텍스트 생성모델의 validation loss가 2.2 이하로 낮아졌는가?\n"
      ]
    },
    {
      "cell_type": "markdown",
      "metadata": {
        "id": "o9icB7ejPZfp"
      },
      "source": [
        "## **1. 데이터 불러오기 및 확인**\n",
        "---"
      ]
    },
    {
      "cell_type": "markdown",
      "metadata": {
        "id": "tjtM3YZxS_FT"
      },
      "source": [
        "### **1-1. 라이브러리, 클래스, 함수 불러오기**"
      ]
    },
    {
      "cell_type": "code",
      "execution_count": null,
      "metadata": {
        "id": "VjhTjLPL3Wwu"
      },
      "outputs": [],
      "source": [
        "############################################## \b라이브러리 불러오기 #####################################################\n",
        "# !pip install pmdarima\n",
        "import numpy as np\n",
        "import pandas as pd\n",
        "pd.options.display.float_format = '{:.5f}'.format #지수표현식말고 실수로 표현\n",
        "import platform\n",
        "import random\n",
        "import warnings\n",
        "import statsmodels\n",
        "import math\n",
        "import tensorflow as tf\n",
        "from pathlib import Path\n",
        "import glob\n",
        "import re\n",
        "warnings.filterwarnings(action = \"ignore\")\n",
        "# 시각화\n",
        "\n",
        "import matplotlib as mpl  # 기본 설정 만지는 용도\n",
        "import matplotlib.pyplot as plt\n",
        "import matplotlib.font_manager as fm\n",
        "import seaborn as sns\n",
        "%matplotlib inline\n",
        "%config InlineBackend.figure_format = 'retina' \n",
        "\n",
        "# 모델 성능 평가 지표, 학습데이터 분리 \n",
        "from sklearn.model_selection import train_test_split\n",
        "\n",
        "# 구글드라이브 \n",
        "from google.colab import drive\n",
        "import os\n",
        "\n",
        "\n",
        "plt.rcParams['axes.unicode_minus'] = False \n",
        "# fm._rebuild()\n",
        "\n"
      ]
    },
    {
      "cell_type": "markdown",
      "metadata": {
        "id": "iDQwa-T4TCrG"
      },
      "source": [
        "### **1-2. 데이터 불러오기**"
      ]
    },
    {
      "cell_type": "code",
      "execution_count": null,
      "metadata": {
        "colab": {
          "base_uri": "https://localhost:8080/"
        },
        "id": "azFmQESiH3FV",
        "outputId": "74f0db84-a576-470d-ad87-b9de556a1594"
      },
      "outputs": [
        {
          "name": "stdout",
          "output_type": "stream",
          "text": [
            "Mounted at /content/drive\n",
            "data path:  /content/drive/MyDrive/github/ML-DL-Project/Project_06_Building LSTM Model: Lyrics Generator/src/data\n"
          ]
        }
      ],
      "source": [
        "############################## 데이터 경로지정  ##############################\n",
        "# 구글드라이브 \n",
        "from google.colab import drive\n",
        "import os\n",
        "root = \"/content/drive\"\n",
        "drive.mount(root, force_remount=True)\n",
        "\n",
        "googledrive_path = os.path.join(root,\"MyDrive/github/ML-DL-Project\")\n",
        "project_dir = \"Project_06_Building LSTM Model: Lyrics Generator\"\n",
        "data_path = os.path.join(root,googledrive_path,project_dir,\"src/data\")\n",
        "print('data path: ',data_path)"
      ]
    },
    {
      "cell_type": "code",
      "execution_count": null,
      "metadata": {
        "id": "Y7BHOO0ZyNtn"
      },
      "outputs": [],
      "source": [
        "############################## 데이터 불러오는 함수 정의  ##############################\n",
        "\n",
        "def load_text_data(path = data_path):\n",
        "  # 1) glob 를 활용하여 모든 txt 파일을 읽어온 후,\n",
        "  text_file_list = glob.glob(data_path+'/*.txt')\n",
        "  # 2) 라인 단위로 끊어서 읽어온다.\n",
        "  corpus_and_idx = [(idx, open(txt_file, \"r\").read().splitlines()) for idx, txt_file in enumerate(text_file_list) ]\n",
        "  raw_corpus = [open(txt_file, \"r\").read().splitlines() for txt_file in text_file_list ]\n",
        "  raw_corpus = sum(raw_corpus, []) # 중첩리스트 flatten하게 만들기 \n",
        "  return raw_corpus , corpus_and_idx\n"
      ]
    },
    {
      "cell_type": "markdown",
      "metadata": {
        "id": "5IKiBEq6zpL-"
      },
      "source": [
        "여기서 corpus 란 사전적인 의미로는 말뭉치인데, 자연어처리에서는 모델을 학습시키기 위한 데이터를 의미한다. 본 프로젝트에서 사용하는 데이터는 여러개의 텍스트파일로 나눠져있는데, 각 텍스트파일에는 노래 한곡에 해당하는 가사가 적혀있다. "
      ]
    },
    {
      "cell_type": "code",
      "execution_count": null,
      "metadata": {
        "colab": {
          "base_uri": "https://localhost:8080/"
        },
        "id": "yLRYXp5RuN1V",
        "outputId": "7665223a-20e2-4024-ea9a-ec1899a7564a"
      },
      "outputs": [
        {
          "name": "stdout",
          "output_type": "stream",
          "text": [
            "전체 텍스트파일 갯수: 49 \n",
            "\n",
            "=============================== [데이터 일부 확인] =============================== \n",
            "[idx: 0]\n",
            "* 단어수가 가장 많은 줄: 'But I know a change is gonna come, oh yes it will I go to the movie and I go downtown somebody keep telling me don't hang around' (공백제외 28 단어)\n",
            "* 단어수가 가장 적은 줄: 'Oh' (공백제외 1 단어)\n",
            "* 랜덤으로 5줄 출력\n",
            "   - Wash me in the water\n",
            "   - Love and happiness\n",
            "   - Call me What a beautiful time we had together,\n",
            "   - What I told you, told you, that entire time you're gonna pay\n",
            "   - How can you stop the rain from falling down?\n",
            "---------------------------------------------------------------------------\n",
            "[idx: 1]\n",
            "* 단어수가 가장 많은 줄: 'JW: Another dirty money, heaven sent honey turning on a dime [CHORUS] Its just another way to Hey Its just another way to Youve got to. JW: Another girl with her finger on the world singing do what you wanna hear' (공백제외 41 단어)\n",
            "* 단어수가 가장 적은 줄: 'Ooh' (공백제외 1 단어)\n",
            "* 랜덤으로 5줄 출력\n",
            "   - New York, New York, New York\n",
            "   - And I'd call you back for more If I was your woman\n",
            "   - If you could love somebody like me\n",
            "   - What goes up, must come down)\n",
            "   - Don't wanna hold my pillow, I wanna hold you\n",
            "---------------------------------------------------------------------------\n",
            "[idx: 2]\n",
            "* 단어수가 가장 많은 줄: 'I won't return, forever you will wait You're wondering now, what to do, now you know this is the end First time I swallowed, now you're on your own' (공백제외 29 단어)\n",
            "* 단어수가 가장 적은 줄: 'Black' (공백제외 1 단어)\n",
            "* 랜덤으로 5줄 출력\n",
            "   - I can't help you if you won't help yourself You've got the degree in philosophy\n",
            "   - In this blue shade,\n",
            "   - He's tried to make me go to rehab\n",
            "   - Nobody stands in between me and my man\n",
            "   - And sniff me out like I was Tanqueray 'Cause you're my fella, my guy\n",
            "---------------------------------------------------------------------------\n",
            "[idx: 3]\n",
            "* 단어수가 가장 많은 줄: 'And in the evening he's a singer with the band [Chorus] And if you want some fun sing ob la di bla da When I get older, losing my hair, many years from now' (공백제외 34 단어)\n",
            "* 단어수가 가장 적은 줄: 'Ah' (공백제외 1 단어)\n",
            "* 랜덤으로 5줄 출력\n",
            "   - She's so good-looking, but she looks like a man\n",
            "   - Desmond lets the children lend a hand\n",
            "   - And she keeps calling\n",
            "   - From rocking and a-rolling spinning in a hula hoop\n",
            "   - Well, you know\n",
            "---------------------------------------------------------------------------\n",
            "[idx: 4]\n",
            "* 단어수가 가장 많은 줄: 'It's in my blood and I stain every heart that I use to heal the pain So I blame it on the River Lea, the River Lea, the River Lea' (공백제외 30 단어)\n",
            "* 단어수가 가장 적은 줄: 'Sweetest' (공백제외 1 단어)\n",
            "* 랜덤으로 5줄 출력\n",
            "   - When you don't, ooh don't\n",
            "   - and all the stupid things that love has put me through\n",
            "   - When it crumbles\n",
            "   - Let's just say that maybe\n",
            "   - At skyfall Let the sky fall\n",
            "---------------------------------------------------------------------------\n",
            "[idx: 5]\n",
            "* 단어수가 가장 많은 줄: 'I've never been so lonesome in my life as I am right now. I'm completely lost without you, Darling. I never realized I could miss any one person so much. I just hope it won't be too much longer until I'm able to be with you again... and live a sane and normal life. I'm sick of always hearing' (공백제외 59 단어)\n",
            "* 단어수가 가장 적은 줄: 'Always' (공백제외 1 단어)\n",
            "* 랜덤으로 5줄 출력\n",
            "   - So read my book, with a boring ending\n",
            "   - I felt this thing\n",
            "   - You speak and make time stand still\n",
            "   - Your smile fades in the summer\n",
            "   - And got so far\n",
            "---------------------------------------------------------------------------\n",
            "[idx: 6]\n",
            "* 단어수가 가장 많은 줄: 'I've seen it all there is no more to see You haven't seen elephants, kings or Peru I'm happy to say I had better to do What about China? Have you seen the Great Wall? All walls are great if the roof doesn't fall' (공백제외 44 단어)\n",
            "* 단어수가 가장 적은 줄: 'Suggests' (공백제외 1 단어)\n",
            "* 랜덤으로 5줄 출력\n",
            "   - Undo this privacy\n",
            "   - Muddy with twigs and branches\n",
            "   - Dig bones out of earth\n",
            "   - And enjoy every bit of you I see who you are\n",
            "   - Dark and divine\n",
            "---------------------------------------------------------------------------\n",
            "[idx: 7]\n",
            "* 단어수가 가장 많은 줄: 'ooo... my baby she got me oh no... she left me a prisoner inside my words, ooo... my baby she got me oh no.. she locked me in prison like a criminal i can't stop this, all this daydreaming , i gotta do my time... i ooo... i can't get out, i don't wanna feel this way, save me from this misery... i wanna find out why, you didnt choose to stay, baby..., you got me going crazy... ooo... my baby she got me oh no... she left me a prisoner inside my words, ooo...... my baby she got me oh no.. she locked me in prison like a criminal i promise to love ya, hold ya, even when time got hard and i can still see us being forever, but now we're falling apart... i wanna find out why, you didnt choose to stay, baby... you got me, ooo... my baby she got me oh no... she left me a prisoner inside my words, ooo...... my baby she got me oh no.. she locked me in prison like a criminal Damn...' (공백제외 182 단어)\n",
            "* 단어수가 가장 적은 줄: 'Oh' (공백제외 1 단어)\n",
            "* 랜덤으로 5줄 출력\n",
            "   - I could wait a whole life time\n",
            "   - That's the way it has to be\n",
            "   - Cause she never seemed satisfied\n",
            "   - I'm all about you [Verse 2:]\n",
            "   - But swimming in your world is something spiritual\n",
            "---------------------------------------------------------------------------\n",
            "[idx: 8]\n",
            "* 단어수가 가장 많은 줄: 'If you ever lose your way We are building a religion We are building it bigger We are building A religion A limited Edition We are now accepting callers' (공백제외 29 단어)\n",
            "* 단어수가 가장 적은 줄: 'Yeah' (공백제외 1 단어)\n",
            "* 랜덤으로 5줄 출력\n",
            "   - It's coming down\n",
            "   - I don't wanna hear it that's right\n",
            "   - But you've no need to fear it\n",
            "   - Meanwhile, Rick James takes her nude And there's nothing I can do\n",
            "   - Roll away,\n",
            "---------------------------------------------------------------------------\n",
            "[idx: 9]\n",
            "* 단어수가 가장 많은 줄: 'I'm where I'm meant to go And at last I see the light And it's like the fog has lifted And at last I see the light And it's like the sky is new And it's warm and real and bright' (공백제외 41 단어)\n",
            "* 단어수가 가장 적은 줄: 'Bonjour' (공백제외 1 단어)\n",
            "* 랜덤으로 5줄 출력\n",
            "   - (We use the leaves to build fires)\n",
            "   - Every day\n",
            "   - They can't order me to stop dreaming\n",
            "   - If I kissed her\n",
            "   - With just the bare necessities of life\n",
            "---------------------------------------------------------------------------\n",
            "[idx: 10]\n",
            "* 단어수가 가장 많은 줄: 'WRITERS RUSSELL BROWN, IRWIN LEVINE I'm comin' home, I've done my time Now I've got to know what is and isn't mine If you received my letter telling you I'd soon be free Then you'll know just what to do if you still want me If you still want me Just tie a yellow ribbon 'round the old oak tree It's been way too long, do you still want me? If I don't see a ribbon 'round the old oak tree I'll just stay on the bus, forget about us, put the blame on me If I don't see a yellow ribbon 'round the old oak tree Bus driver, please look for me 'Cause I couldn't bear to see what I might see I'm really still in prison and my love, he holds the key A simple yellow ribbon's all I need to set me free I wrote and told him please... Just tie a yellow ribbon 'round the old oak tree It's been way too long, do you still want me? If I don't see a ribbon 'round the old oak tree I'll just stay on the bus, forget about us, put the blame on me If I don't see a ribbon 'round the old oak tree Tie a yellow ribbon 'round that old oak tree I'm coming home Now the whole dang bus is cheerin' and I can't believe I see a hundred yellow ribbons tied 'round the old oak tree I'm comin' home, I'm glad you waited for me Tie a yellow ribbon 'round the old oak tree Tie a ribbon 'round the old oak tree Tie a ribbon 'round the old oak tree Tie a yellow ribbon if you still want me Tie a yellow ribbon 'round the old oak tree Tie a yellow ribbon 'round the old oak tree Here you come again' (공백제외 308 단어)\n",
            "* 단어수가 가장 적은 줄: '[Chorus]' (공백제외 1 단어)\n",
            "* 랜덤으로 5줄 출력\n",
            "   - Please don't take him just because you can Your beauty is beyond compare\n",
            "   - When it's family, you love and hate and take, then give some more\n",
            "   - I hear God say as they embrace\n",
            "   - Just don't forget who's takin' you home\n",
            "   - And when I'm born again, you're gonna see a change in me God made me for a reason and nothing is in vain\n",
            "---------------------------------------------------------------------------\n",
            "[idx: 11]\n",
            "* 단어수가 가장 많은 줄: 'When a fox is in the bottle where the tweetle beetles battle' (공백제외 12 단어)\n",
            "* 단어수가 가장 적은 줄: '' (공백제외 0 단어)\n",
            "* 랜덤으로 5줄 출력\n",
            "   - So DO something! Fast! said the fish.\n",
            "   - How The Grinch Stole Christmas\n",
            "   - Those Things should not be\n",
            "   - green eggs and ham.\n",
            "   - I can hop up and down on the ball!\n",
            "---------------------------------------------------------------------------\n",
            "[idx: 12]\n",
            "* 단어수가 가장 많은 줄: 'But he sure was funny and he sure told the truth and he knew what he was talkin’ about' (공백제외 19 단어)\n",
            "* 단어수가 가장 적은 줄: '' (공백제외 0 단어)\n",
            "* 랜덤으로 5줄 출력\n",
            "   - And it’s all over now, Baby Blue\n",
            "   - Stayed in Mississippi a day too long\n",
            "   - So I came in here\n",
            "   - It’s not aimed at anyone, it’s just escapin’ on the run\n",
            "   - I’m sick of love; I hear the clock tick\n",
            "---------------------------------------------------------------------------\n",
            "[idx: 13]\n",
            "* 단어수가 가장 많은 줄: 'The \"portfolios\" were found, shortly after Emily Dickinson's death, by her sister and only surviving housemate. Most of the poems had been carefully copied on sheets of note-paper, and tied in little fascicules, each of six or eight sheets. While many of them bear evidence of having been thrown off at white heat, still more had received thoughtful revision. There is the frequent addition of rather perplexing foot-notes, affording large choice of words and phrases. And in the copies which she sent to friends, sometimes one form, sometimes another, is found to have been used. Without important exception, her friends have generously placed at the disposal of the Editors any poems they had received from her; and these have given the obvious advantage of comparison among several renderings of the same verse.' (공백제외 132 단어)\n",
            "* 단어수가 가장 적은 줄: '' (공백제외 0 단어)\n",
            "* 랜덤으로 5줄 출력\n",
            "   - We never know we go, — when we are going\n",
            "   -    Why swagger then?\n",
            "   - Or Arctic creature, dimly stirred\n",
            "   - What first,\n",
            "   - And shouts fill all my childish sky,\n",
            "---------------------------------------------------------------------------\n",
            "[idx: 14]\n",
            "* 단어수가 가장 많은 줄: 'Blew up and I'm in the city still, I'm still i heard once that they would rather hear about memories than enemies , rather hear what was or what will be than what is, rather hear how you got it over how much it cost you rather hear about finding yourself and how you lost you ,rather you make this an open letter about family and struggle and taking forever about hearts that you've broken and ties that you've severed no doubt in my mind that will make them feel better Ooh, ooh,' (공백제외 93 단어)\n",
            "* 단어수가 가장 적은 줄: '[Hook]' (공백제외 1 단어)\n",
            "* 랜덤으로 5줄 출력\n",
            "   - I fell in love with the Rollie\n",
            "   - Yeah, man enough to tell you I was hurt that year\n",
            "   - Yeah, bounce that shit like woah\n",
            "   - I ain't trippin' let 'em rest in peace I been in the crib with the phones off\n",
            "   - They look up to me\n",
            "---------------------------------------------------------------------------\n",
            "[idx: 15]\n",
            "* 단어수가 가장 많은 줄: 'Never gonna give my love to nobody but you baby (but you baby) I'll never gonna give my love to nobody but you baby (but you baby)' (공백제외 27 단어)\n",
            "* 단어수가 가장 적은 줄: 'Inferior' (공백제외 1 단어)\n",
            "* 랜덤으로 5줄 출력\n",
            "   - Movement of Jah people, oh oh oh, yeah Men and people will fight ya down (tell me why)\n",
            "   - I'm a rebel (I am a rebel)\n",
            "   - It was I shot the sheriff\n",
            "   - Asking for Mr. Brown\n",
            "   - Sayin': give thanks and praise to the Lord and I will feel all right;\n",
            "---------------------------------------------------------------------------\n",
            "[idx: 16]\n",
            "* 단어수가 가장 많은 줄: 'Another one (Chorus) Standing on the mountain top, counting all this money, laughing at you haters, ain't nothing gonna save yeah. Yeah, Welcome Back, Another small Buy, we global , Feel my pain They can't deal witha nigga like me. Cus I keep it so hood, yeah I keep it so Street. The industry hate but they gotta see me. Turn your tvs on Bet all you see is me. Nah I ain't playing why you trying to blame me, Might as well hate the world instead of hating on me. Pussy ass nigga (And we taking over, One paper bag at a time) I need that clearence feed me more, come and think about it you need it more Uhh I am miami I do it for miami, 24 and 7 trays yeah nigga we born and raised. See this, Joe Crack we showed them. Damn right I'm so concieted. I know it made you sick, guess what it made me rich. Shout out to all my DJ's. Projects I know you feel me. Thank god for rubber bands. Phantoms on paper tags. This oens for all the fans. We the best. (Chorus) Standing on the mountain top, counting all this money, laughing at you haters, ain't nothing gonna save yeah. x2 I Introduce you to ace hood!' (공백제외 219 단어)\n",
            "* 단어수가 가장 적은 줄: 'amour]' (공백제외 1 단어)\n",
            "* 랜덤으로 5줄 출력\n",
            "   - Mommy so hot, damn it, she gorgeous\n",
            "   - I can hold you down, be your friend and your lover\n",
            "   - You looking like there's nothing that you won't do\n",
            "   - 'Cause your perspective is less effective and rather fake\n",
            "   - I put some ice on my arms (woo!)\n",
            "---------------------------------------------------------------------------\n",
            "[idx: 17]\n",
            "* 단어수가 가장 많은 줄: 'Then I let you go, and even now I regret that I did you wrong, and baby I know that you tried your hardest to keep us together but now i'm down' (공백제외 32 단어)\n",
            "* 단어수가 가장 적은 줄: 'Oh' (공백제외 1 단어)\n",
            "* 랜덤으로 5줄 출력\n",
            "   - Catching feelings\n",
            "   - Despacito What do you mean?\n",
            "   - Ooh, ooh\n",
            "   - Let me, let me, let me, be all your desire\n",
            "   - I will never say never (I will fight)\n",
            "---------------------------------------------------------------------------\n",
            "[idx: 18]\n",
            "* 단어수가 가장 많은 줄: 'Come on up for the rising tonight Li, li, li, li, li, li, li, li, li, li, li, li, li, li, li, li, li Two, three, four Have you ever seen a one trick pony in the field so happy and free?' (공백제외 42 단어)\n",
            "* 단어수가 가장 적은 줄: 'Badlands' (공백제외 1 단어)\n",
            "* 랜덤으로 5줄 출력\n",
            "   - Well that's okay, baby, I don't mind\n",
            "   - It's a death trap, it's a suicide rap\n",
            "   - You just walk on by, darlin' week after week\n",
            "   - She's got a secret garden\n",
            "   - You got a hole in your belly and a gun in your hand\n",
            "---------------------------------------------------------------------------\n",
            "[idx: 19]\n",
            "* 단어수가 가장 많은 줄: 'I hide it well, hope you can't tell but I hope she smells my perfume You wanna, you wanna You want a hot body? You want a Bugatti?' (공백제외 28 단어)\n",
            "* 단어수가 가장 적은 줄: 'Countin'' (공백제외 1 단어)\n",
            "* 랜덤으로 5줄 출력\n",
            "   - I just can't sleep\n",
            "   - Wipe the floor with all the boys\n",
            "   - Just like a circus\n",
            "   - You're a womanizer, baby You, you, you are\n",
            "   - Your biggest fan\n",
            "---------------------------------------------------------------------------\n",
            "[idx: 20]\n",
            "* 단어수가 가장 많은 줄: 'And I miss my clean white linen and my fancy French cologne Oh Carey get out your cane (Carey get out your cane)' (공백제외 23 단어)\n",
            "* 단어수가 가장 적은 줄: 'Hmm' (공백제외 1 단어)\n",
            "* 랜덤으로 5줄 출력\n",
            "   - Like their fathers before them\n",
            "   - And they tell him,\n",
            "   - May your skies be blue\n",
            "   - I wanna knit you a sweater\n",
            "   - Thinking how I'll feel when I find\n",
            "---------------------------------------------------------------------------\n",
            "[idx: 21]\n",
            "* 단어수가 가장 많은 줄: 'And we could laugh as we both pretend that we're not in love and that we're just good friends. Well, I'm tired of pretending, but I'm terrified of it ending.' (공백제외 30 단어)\n",
            "* 단어수가 가장 적은 줄: 'Rain' (공백제외 1 단어)\n",
            "* 랜덤으로 5줄 출력\n",
            "   - When you're going down on me\n",
            "   - But nobody wants to be saved\n",
            "   - You brought the wolves right here\n",
            "   - You know I'd always come for you You know I'd always come for you No matter what gets in my way\n",
            "   - Your ripping up the dance floor honey\n",
            "---------------------------------------------------------------------------\n",
            "[idx: 22]\n",
            "* 단어수가 가장 많은 줄: 'You got me wantin' more and mo mo more and Your love, your love (yeah) Your love, your love (yeah) Your love, your love (yeah) Your love, your love (yeah) Your love, your love Your love, your love Your love, your love Your love, your love He they type to keep a couple hundred grand in the rubber band' (공백제외 59 단어)\n",
            "* 단어수가 가장 적은 줄: '...' (공백제외 1 단어)\n",
            "* 랜덤으로 5줄 출력\n",
            "   - These niggas is fake fucks and opportunists\n",
            "   - She's A Very Freaky Girl Don't Bring Her To Mamma\n",
            "   - That yola all in my bloodline, still give me that money\n",
            "   - The one who came to take claim of this heart\n",
            "   - I can heal your migraine Bitches ain't got punchlines or flow\n",
            "---------------------------------------------------------------------------\n",
            "[idx: 23]\n",
            "* 단어수가 가장 많은 줄: 'Look a golden winged ship is passing my way! And it really didn't have to stop, it just kept on going... And so castles made of sand slips into the sea, eventually Told me a story yesterday' (공백제외 37 단어)\n",
            "* 단어수가 가장 적은 줄: 'Alright' (공백제외 1 단어)\n",
            "* 랜덤으로 5줄 출력\n",
            "   - and you do just the same as him\n",
            "   - If the sun refused to shine\n",
            "   - You better hope love is the answer\n",
            "   - One more kiss and you drive me crazy baby Baby stop\n",
            "   - People passing by they'd stop and say\n",
            "---------------------------------------------------------------------------\n",
            "[idx: 24]\n",
            "* 단어수가 가장 많은 줄: 'She used to love me a lot, she used to love me a lot, she used to love me a lot I have found a friend in Jesus, He's everything to me' (공백제외 32 단어)\n",
            "* 단어수가 가장 적은 줄: 'Jesus' (공백제외 1 단어)\n",
            "* 랜덤으로 5줄 출력\n",
            "   - Travel, I've had my share, man\n",
            "   - Drive the dark clouds\n",
            "   - When the man comes around Whoever is unjust let him be unjust still\n",
            "   - We're learning pretty well too,\n",
            "   - I stuck that lovin' forty-four beneath my head. Got up next mornin' and I grabbed that gun\n",
            "---------------------------------------------------------------------------\n",
            "[idx: 25]\n",
            "* 단어수가 가장 많은 줄: '[Luda] It's get out, put my pedal to the flow and let's roll! Assign your name in the streets (sign your name in the streets) Assign your name in the streets (sign your name in the streets) Assign your name in the streets (sign your name in the streets) Assign your name in the streets (sign your name in the streets) Yo, one of my ways of releasing tension while I'm releasing some steam' (공백제외 74 단어)\n",
            "* 단어수가 가장 적은 줄: 'Shawnna-' (공백제외 1 단어)\n",
            "* 랜덤으로 5줄 출력\n",
            "   - Escalade's, Navigators, Expeditions and Rovers\n",
            "   - And I just put a computer in the glove compartment\n",
            "   - Nobody light-skinded reppin' harder since Ice-T\n",
            "   - Stains they don't get off\n",
            "   - Flying through the sky at amazing speed,\n",
            "---------------------------------------------------------------------------\n",
            "[idx: 26]\n",
            "* 단어수가 가장 많은 줄: 'Of our mutual cares, labors, and dangers One last time George Washington's going home Teach 'em how to say goodbye George Washington's going home You and I George Washington's going home Going home George Washington's going home History has its eyes on you George Washington's going home We're gonna teach 'em how to say goodbye (teach 'em how to say goodbye) Teach 'em how To say goodbye To say goodbye (say goodbye) Say goodbye (say goodbye) One last time Seventeen seventy-six' (공백제외 81 단어)\n",
            "* 단어수가 가장 적은 줄: 'Yo' (공백제외 1 단어)\n",
            "* 랜덤으로 5줄 출력\n",
            "   - You keep out of trouble and you double your choices\n",
            "   - Helpless\n",
            "   - Tell your brother that he's gotta rise up\n",
            "   - Do you know what Angelica said\n",
            "   - He takes and he takes and he takes\n",
            "---------------------------------------------------------------------------\n",
            "[idx: 27]\n",
            "* 단어수가 가장 많은 줄: 'When you're gone I'll still be Bloody (Gaga) Mary (Gaga) Oh oh oh oh oh (Gaga) Oh oh oh oh oh (Gaga) Oh oh oh oh oh (Gaga) Oh oh oh oh oh (Gaga) Oh oh oh oh oh (Gaga) Oh oh oh oh oh (Gaga) Oh oh oh oh oh (Gaga) Oh oh oh oh oh (Gaga) Oh, liberdad mi amor I met a girl in east L.A.' (공백제외 69 단어)\n",
            "* 단어수가 가장 적은 줄: 'Stay' (공백제외 1 단어)\n",
            "* 랜덤으로 5줄 출력\n",
            "   - Don't call my name,\n",
            "   - Ale-ale-jandro Stop, please,\n",
            "   - Now show me your fangs\n",
            "   - Na-na-na, na-na come on\n",
            "   - May not have the fancy things\n",
            "---------------------------------------------------------------------------\n",
            "[idx: 28]\n",
            "* 단어수가 가장 많은 줄: 'But if you really cared for her then you wouldnt have never hit the airport to follow your dreams' (공백제외 19 단어)\n",
            "* 단어수가 가장 적은 줄: '' (공백제외 0 단어)\n",
            "* 랜덤으로 5줄 출력\n",
            "   - Second class bitches wouldnt let me on first base\n",
            "   - When shit gets worse we converse\n",
            "   - He loved Jesus when he he he was worse off\n",
            "   - My style so cold I could skate myself\n",
            "   - Nike out here bad they cant give shit away\n",
            "---------------------------------------------------------------------------\n",
            "[idx: 29]\n",
            "* 단어수가 가장 많은 줄: 'They could never do it like me I C O N or you could call me mr I go in' (공백제외 20 단어)\n",
            "* 단어수가 가장 적은 줄: '' (공백제외 0 단어)\n",
            "* 랜덤으로 5줄 출력\n",
            "   - Tha Bizness tha bizness\n",
            "   - Peelin and leavin killin and greivin\n",
            "   - Thats another fukin story but ima get to that later\n",
            "   - I got a big ass house got cameras everywhere\n",
            "   - Then shake a niXga shorts and we takin what we want\n",
            "---------------------------------------------------------------------------\n",
            "[idx: 30]\n",
            "* 단어수가 가장 많은 줄: 'I came to shake, shake my booty down, like the party. Brrah Do it do it do it do it do it, no! I was lookin for affection' (공백제외 28 단어)\n",
            "* 단어수가 가장 적은 줄: 'Ra-ta-ta-ta-ta-ta-ta-ta-ta-ta' (공백제외 1 단어)\n",
            "* 랜덤으로 5줄 출력\n",
            "   - I wake up, I wanna dance\n",
            "   - Booty bouncing goin' hit Everybody here\n",
            "   - I see that - that somebody likes me\n",
            "   - Stay true to you, live life wit you\n",
            "   - This beat here will make you hoomp, boomp, jump\n",
            "---------------------------------------------------------------------------\n",
            "[idx: 31]\n",
            "* 단어수가 가장 많은 줄: 'And I hear from the nurse that he's gotten much worse and his practice is all in a ruin I heard of a saint who had loved you, I studied all night in his school' (공백제외 35 단어)\n",
            "* 단어수가 가장 적은 줄: 'Hallelujah' (공백제외 1 단어)\n",
            "* 랜덤으로 5줄 출력\n",
            "   - And the night has no right to begin\n",
            "   - Drove you to the station\n",
            "   - I never liked it fast\n",
            "   - I will help you if I must\n",
            "   - I used to play\n",
            "---------------------------------------------------------------------------\n",
            "[idx: 32]\n",
            "* 단어수가 가장 많은 줄: 'They could never do it like me I C O N or you could call me mr I go in' (공백제외 20 단어)\n",
            "* 단어수가 가장 적은 줄: '' (공백제외 0 단어)\n",
            "* 랜덤으로 5줄 출력\n",
            "   - You act brand new And get a brand new coffin\n",
            "   - I said I do\n",
            "   - You aint gotta have Dick Vitale\n",
            "   - But now its Weezy F Baby dont forget the F Baby\n",
            "   - Uh huh\n",
            "---------------------------------------------------------------------------\n",
            "[idx: 33]\n",
            "* 단어수가 가장 많은 줄: 'But if you really cared for her then you wouldnt have never hit the airport to follow your dreams' (공백제외 19 단어)\n",
            "* 단어수가 가장 적은 줄: '' (공백제외 0 단어)\n",
            "* 랜덤으로 5줄 출력\n",
            "   - Arlenis Sosa Selita Ebanks\n",
            "   - Yep then I made myself a smoothie\n",
            "   - Ask me why I came over\n",
            "   - Main reason cause your pastor said you cant abort that\n",
            "   - They got a new bitch now you Jennifer Aniston\n",
            "---------------------------------------------------------------------------\n",
            "[idx: 34]\n",
            "* 단어수가 가장 많은 줄: 'I'll just sit and grin, the money will roll right in I would give you some, if you only would have treated me nice' (공백제외 24 단어)\n",
            "* 단어수가 가장 적은 줄: 'Married' (공백제외 1 단어)\n",
            "* 랜덤으로 5줄 출력\n",
            "   - There is nothing I could say\n",
            "   - I'm afraid\n",
            "   - But he don't know what it means\n",
            "   - Protector of the kennel\n",
            "   - Don't ever ask your love of me Don't expect me to cry\n",
            "---------------------------------------------------------------------------\n",
            "[idx: 35]\n",
            "* 단어수가 가장 많은 줄: 'Promise me if I cave in and break and leave myself open, that I wont be makin' a mistake ('Cause I'm a) I'm a space bound rocket ship and your heart's the moon' (공백제외 33 단어)\n",
            "* 단어수가 가장 적은 줄: 'Yeah' (공백제외 1 단어)\n",
            "* 랜덤으로 5줄 출력\n",
            "   - What year is this?\n",
            "   - That aftershave or cologne that made them just faint\n",
            "   - Yo Slim Shady, come break these motherfuckers off Yo tell the world to hold their breath, they're breathing the wrong air\n",
            "   - Who share the same views and the same exact beliefs\n",
            "   - Now Bruno can show his ass, without the MTV awards gag [Bruno Mars]\n",
            "---------------------------------------------------------------------------\n",
            "[idx: 36]\n",
            "* 단어수가 가장 많은 줄: 'Whoa Tell me why, just because I get to want your love Honny just because I gotta get need,need,need your love, I said I don't understand honny when I wanna turn you high high high , Try..... Try..Try...Honny when everybody in the world whant's the same damm thing, when everyone in the world will need the same loonley thing, when I wanna work for your love dad when I wann try for your love dad, I don't understand,how come you're gone, man. I don't understand why half the world is still crying, man, when the other half the world is still crying too,' (공백제외 103 단어)\n",
            "* 단어수가 가장 적은 줄: 'Whoa,' (공백제외 1 단어)\n",
            "* 랜덤으로 5줄 출력\n",
            "   - And every time you leave I make the very same vow\n",
            "   - Take another little piece of my heart now, baby,\n",
            "   - Yeah, roll all night long.\n",
            "   - I wanna talk about a little bit of loving, yeah,\n",
            "   - Ain't quite a ready for walking\n",
            "---------------------------------------------------------------------------\n",
            "[idx: 37]\n",
            "* 단어수가 가장 많은 줄: 'Let's go down to the tennis court, and talk it up like yeah (yeah) It looked alright in the pictures (yeah) Getting caught soft with the triple is it' (공백제외 29 단어)\n",
            "* 단어수가 가장 적은 줄: 'Generation' (공백제외 1 단어)\n",
            "* 랜덤으로 5줄 출력\n",
            "   - We told you this was melodrama\n",
            "   - Don't tell 'em\n",
            "   - Don't tell 'em\n",
            "   - She's so hard to please\n",
            "   - Bloodstains\n",
            "---------------------------------------------------------------------------\n",
            "[idx: 38]\n",
            "* 단어수가 가장 많은 줄: 'Or your brother's the one that you're running from, but if you got money, fuck it, cause I want someB.I.G. fuckin' with me, oh god, whoaOK ain't nobody fucking with my clique, clique, clique, clique, clique' (공백제외 36 단어)\n",
            "* 단어수가 가장 적은 줄: '' (공백제외 0 단어)\n",
            "* 랜덤으로 5줄 출력\n",
            "   - My people, no goodbyes to you\n",
            "   - 300 bitches, where's the Trojans?\n",
            "   - Under her underarm\n",
            "   - Whole buncha lot of shit\n",
            "   - You're not like the others\n",
            "---------------------------------------------------------------------------\n",
            "[idx: 39]\n",
            "* 단어수가 가장 많은 줄: 'Nothing can come between us if you just hold, hold my, hold, hold my, hold my hand, hold my hand.' (공백제외 20 단어)\n",
            "* 단어수가 가장 적은 줄: '' (공백제외 0 단어)\n",
            "* 랜덤으로 5줄 출력\n",
            "   - Of the truth in chapters of our minds\n",
            "   - (Yeah-Make That Change)\n",
            "   - I am here with you\n",
            "   - (We are here to change the world)\n",
            "   - And I just can't take it\n",
            "---------------------------------------------------------------------------\n",
            "[idx: 40]\n",
            "* 단어수가 가장 많은 줄: 'The cat said: \"If you will get me a saucer of milk from the cow in' (공백제외 16 단어)\n",
            "* 단어수가 가장 적은 줄: '' (공백제외 0 단어)\n",
            "* 랜덤으로 5줄 출력\n",
            "   - \n",
            "   - \n",
            "   - \n",
            "   - KING PIPPIN'S HALL\n",
            "   -     Put him on the bonfire,\n",
            "---------------------------------------------------------------------------\n",
            "[idx: 41]\n",
            "* 단어수가 가장 많은 줄: 'Please don't stop the, please don't stop the, please don't stop the music Please don't stop the music Please don't stop the music, music, music Please don't stop the music, music, music, music, music, music, music Baby, baby' (공백제외 38 단어)\n",
            "* 단어수가 가장 적은 줄: 'Mmmmm' (공백제외 1 단어)\n",
            "* 랜덤으로 5줄 출력\n",
            "   - You leave a breakin keep\n",
            "   - And I'll never stop it (So live your life) Come Mr. DJ song pon de replay\n",
            "   - I knew your face once, but now it's unclear\n",
            "   - But that's all right because I love the way you lie\n",
            "   - Hold me like you (Nobody)\n",
            "---------------------------------------------------------------------------\n",
            "[idx: 42]\n",
            "* 단어수가 가장 많은 줄: 'Na na na na na na, so slow (say it again - na na na na na na, so slow)' (공백제외 20 단어)\n",
            "* 단어수가 가장 적은 줄: '' (공백제외 0 단어)\n",
            "* 랜덤으로 5줄 출력\n",
            "   - I'll give him the keys to my car\n",
            "   - Hey, we got to sho'nuff get off\n",
            "   - 'God only knows where U are 2 night'\n",
            "   - I'm ready now\n",
            "   - \n",
            "---------------------------------------------------------------------------\n",
            "[idx: 43]\n",
            "* 단어수가 가장 많은 줄: 'Boy you're gonna make it through Sister, do you really believe that I can rise again Yes, and not only that, Rob, God will forgive you for your sins Can you tell me what to do? Well first you gotta believe the truth Sometimes it's hard to believe in Him That's okay because he believes in you The winds, the rain' (공백제외 61 단어)\n",
            "* 단어수가 가장 적은 줄: 'Yeah' (공백제외 1 단어)\n",
            "* 랜덤으로 5줄 출력\n",
            "   - You gonna burn what?\n",
            "   - You saved me Now i've been sitting in this chair\n",
            "   - (Here we go my friend) A homie lover friend\n",
            "   - You're not gonna believe it\n",
            "   - And it was enough to pause me\n",
            "---------------------------------------------------------------------------\n",
            "[idx: 44]\n",
            "* 단어수가 가장 많은 줄: 'I treat you right you talk slick I beat you right Just me and my bitch But you know you love that ass dont you Yeah no question No question Yo let me ask you another question What You ever fuck around on me Why would I do that Yo dont lie to me motherfucker Moonlight strolls with the hoes oh no thats not my steelo' (공백제외 66 단어)\n",
            "* 단어수가 가장 적은 줄: 'Yeah' (공백제외 1 단어)\n",
            "* 랜덤으로 5줄 출력\n",
            "   - All them niXgas I gotta fight one all them hoes I gotta like one\n",
            "   - Gazelle shades and corn braids\n",
            "   - cause breakin old habits so hard to do\n",
            "   - Im going going back back to Cali Cali Going back to Cali\n",
            "   - Remember when I used to play between yo feet\n",
            "---------------------------------------------------------------------------\n",
            "[idx: 45]\n",
            "* 단어수가 가장 많은 줄: 'I treat you right you talk slick I beat you right Just me and my bitch But you know you love that ass dont you Yeah no question No question Yo let me ask you another question What You ever fuck around on me Why would I do that Yo dont lie to me motherfucker Moonlight strolls with the hoes oh no thats not my steelo' (공백제외 66 단어)\n",
            "* 단어수가 가장 적은 줄: 'Yeah' (공백제외 1 단어)\n",
            "* 랜덤으로 5줄 출력\n",
            "   - Or some brandNubian shit beatin down punks Chorus Bitches in the back looking righteous\n",
            "   - Ooh Im missin you\n",
            "   - Heard she suck a good dick and can hook a steak up\n",
            "   - They thought luck did it but it didnt cause Im back again\n",
            "   - Conscious of ya nonsense in eightyeight\n",
            "---------------------------------------------------------------------------\n",
            "[idx: 46]\n",
            "* 단어수가 가장 많은 줄: 'Within the context of neo rock we must open up our eyes and seize and rend the veil of smoke which man calls order.' (공백제외 24 단어)\n",
            "* 단어수가 가장 적은 줄: '' (공백제외 0 단어)\n",
            "* 랜덤으로 5줄 출력\n",
            "   - But nobody heard the boy's cry of alarm.\n",
            "   - Outside of society, that's where I want to be.\n",
            "   - \n",
            "   - As you go, as you go\n",
            "   - Your days are numbers\n",
            "---------------------------------------------------------------------------\n",
            "[idx: 47]\n",
            "* 단어수가 가장 많은 줄: 'And I seen that girl as the road to my survival I know, I know, I know, I know, I know, I know Just later on the very same night' (공백제외 30 단어)\n",
            "* 단어수가 가장 적은 줄: 'Upstream' (공백제외 1 단어)\n",
            "* 랜덤으로 5줄 출력\n",
            "   - The only truth I know is you. And as I watch the drops of rain\n",
            "   - Nothin' but the dead and dyin' back in my little town.\n",
            "   - Nothin' but the dead and dyin' back in my little town.\n",
            "   - I don't expect to be treated like a fool no more\n",
            "   - He was a mean individual\n",
            "---------------------------------------------------------------------------\n",
            "[idx: 48]\n",
            "* 단어수가 가장 많은 줄: 'I get on the train and I just stand about now that I don't think of you' (공백제외 17 단어)\n",
            "* 단어수가 가장 적은 줄: '' (공백제외 0 단어)\n",
            "* 랜덤으로 5줄 출력\n",
            "   - Everything\n",
            "   - In your arms\n",
            "   - I keep the wolf from the door\n",
            "   - And I'm sorry for us\n",
            "   - Let me hear both sides let me hear both sides let me hear both\n",
            "---------------------------------------------------------------------------\n"
          ]
        }
      ],
      "source": [
        "\n",
        "############################## 데이터 불러오기& 각 파일마다 랜덤으로 네줄씩 출력하기 ##############################\n",
        "\n",
        "raw_corpus, corpus_and_idx = load_text_data(data_path)\n",
        "\n",
        "# print(\"{:=^75}\".format(\"\"))\n",
        "print(\"전체 텍스트파일 갯수:\", len(corpus_and_idx),\"\\n\")\n",
        "print(\"{:=^75} \".format(\" [데이터 일부 확인] \"))\n",
        "for idx, corpus in np.array(corpus_and_idx):\n",
        "  print(f\"[idx: {idx}]\")\n",
        "  words_counts_per_row = dict([(row,len(row.split())) for row in corpus ])\n",
        "  max_key = max(words_counts_per_row, key = words_counts_per_row.get)\n",
        "  min_key = min(words_counts_per_row, key = words_counts_per_row.get)\n",
        "  print(f\"* 단어수가 가장 많은 줄: '{max_key}' (공백제외 {words_counts_per_row[max_key]} 단어)\")\n",
        "  print(f\"* 단어수가 가장 적은 줄: '{min_key}' (공백제외 {words_counts_per_row[min_key]} 단어)\")\n",
        "  print(\"* 랜덤으로 5줄 출력\")\n",
        "  [print(\"   - \"+row) for row in random.sample(corpus, 5)]\n",
        "  print(\"{:-^75}\".format(\"\"))\n"
      ]
    },
    {
      "cell_type": "markdown",
      "metadata": {
        "id": "OR4Tket2IsKw"
      },
      "source": [
        "> 각 텍스트파일마다 랜덤으로 4줄을 추출해서 출력해본 결과, 대부분의 파일은 문장단위로 한줄씩 구성한것으로 추측할 수 있다. 하지만 몇몇 파일은 문단 단위로 \n",
        "일부 데이터를 살펴보는것만으로 대략적으로 어떤 처리를 해야할지 가늠이 가능한데, 이는 아래에서 확인할 수 있다.  \n",
        "- 아예 공백으로만 이루어진 줄이 존재한다. 이런 데이터는 제거해야한다.\n",
        "- 노래가사의 특성상 한문장안에 같은 단어가 연속적으로 여러번 반복되는 경우가 있는데, 이에 해당하는 경우에는 해당 단어를 삭제하던가하는 처리를 해주면 좋을것같다. \n",
        "  - Oh, oh, oh, oh,\n",
        "  - I'm I'm \n",
        "  - Let's, let's \n",
        "- 한줄안에 괄호가 들어가있는 경우가 있는데 이는 피쳐링으로 예상되는데, 괄호안에 들어가는 패턴도 다양하다. 아래에서 확인해보도록 하겠다.\n",
        "  - \b한줄안에 존재하는 단어와 비슷하거나 같은 단어 (라임을 맞추기위함으로 보임, 주로 마지막 단어와 비슷한 단어인 경우가 많음)\n",
        "  - 불완전한 문장\n",
        "  - 완전한 문장   \n",
        "  이렇게 피쳐링으로 예상되는 경우는 괄호를 하나의 문장으로보고 나눠준후, 또 2차로 단어 1개짜리 제거 or 불완전한 문장 처리 하는식으로 진행을 하면 좋을것같다. \n",
        "- 문장의 마지막이 . 로 되어있지않다. (문장의 끝이 불분명)\n"
      ]
    },
    {
      "cell_type": "markdown",
      "metadata": {
        "id": "f4QZEVtzk29h"
      },
      "source": [
        "### **1-3. 데이터 탐색 및 전처리**"
      ]
    },
    {
      "cell_type": "code",
      "execution_count": null,
      "metadata": {
        "colab": {
          "base_uri": "https://localhost:8080/",
          "height": 301
        },
        "id": "m-rv0HSjntZw",
        "outputId": "ac82fd6e-87e4-4bde-b8c5-7e66929b7728"
      },
      "outputs": [
        {
          "name": "stdout",
          "output_type": "stream",
          "text": [
            "min words per row:  0\n",
            "max words per row:  308\n"
          ]
        },
        {
          "data": {
            "image/png": "[encoded data removed]",
            "text/plain": [
              "<Figure size 1296x288 with 1 Axes>"
            ]
          },
          "metadata": {
            "image/png": {
              "height": 248,
              "width": 1061
            },
            "needs_background": "light"
          },
          "output_type": "display_data"
        }
      ],
      "source": [
        "############################## 1차 문장 필터링 문장내 단어의 갯수 파악 : 단어는 공백기준으로 판단 ##############################\n",
        "# 문장의 단어갯수가 2개 미만이면 삭제처리? \n",
        "# 문장들의 단어갯수 분포 히스토그램을 보면 대부분 몇글자로 이루어져있는지 알 수 있음\n",
        "words_count = [len(row.split()) for row in raw_corpus  ]\n",
        "\n",
        "\n",
        "# 전체 문장의 단어갯수 중에서 제일 작은 수 \n",
        "print(\"min words per row: \", min(words_count) ) \n",
        "# 전체 문장의 단어갯수 중에서 제일 큰 수 \n",
        "print(\"max words per row: \", max(words_count) ) \n",
        "# 시각화\n",
        "plt.figure(figsize=(18,4))\n",
        "sns.distplot(words_count)\n",
        "plt.show()\n"
      ]
    },
    {
      "cell_type": "markdown",
      "metadata": {
        "id": "Ym1Qql0Hh5uH"
      },
      "source": [
        "문장의 단어 갯수가 대부분 1개~30개 사이에 분포한것을 볼 수 있는데, 단어수가 2개 미만인 것 들은 문장이라고 할 수 없다. 또한 30-40개 이상은 여러 문장이 한줄안에 기입된것으로 예상할 수 있다. "
      ]
    },
    {
      "cell_type": "code",
      "execution_count": null,
      "metadata": {
        "colab": {
          "base_uri": "https://localhost:8080/",
          "height": 301
        },
        "id": "w6Wt3_Z6B-0A",
        "outputId": "484c0b52-7c96-44c9-9c57-dcad103af4cc"
      },
      "outputs": [
        {
          "name": "stdout",
          "output_type": "stream",
          "text": [
            "min words per sentence:  0\n",
            "max words per sentence:  308\n"
          ]
        },
        {
          "data": {
            "image/png": "[encoded data removed]",
            "text/plain": [
              "<Figure size 1296x288 with 1 Axes>"
            ]
          },
          "metadata": {
            "image/png": {
              "height": 248,
              "width": 1068
            },
            "needs_background": "light"
          },
          "output_type": "display_data"
        }
      ],
      "source": [
        "############################## 1차 문장 필터링 문장내 단어의 갯수 파악 : 단어는 공백기준으로 판단 ##############################\n",
        "# 문장의 단어갯수가 2개 미만이면 삭제처리? \n",
        "# 문장들의 단어갯수 분포 히스토그램을 보면 대부분 몇글자로 이루어져있는지 알 수 있음\n",
        "words_count = [len(row.split()) for row in raw_corpus if \" \" not in row.split() ]\n",
        "\n",
        "\n",
        "\n",
        "# 전체 문장의 단어갯수 중에서 제일 작은 단어갯수 \n",
        "print(\"min words per sentence: \", min(words_count) ) \n",
        "print(\"max words per sentence: \", max(words_count) ) \n",
        "# 시각화\n",
        "plt.figure(figsize=(18,4))\n",
        "plt.xlim([0, 40])\n",
        "sns.distplot(words_count)\n",
        "plt.show()\n"
      ]
    },
    {
      "cell_type": "code",
      "execution_count": null,
      "metadata": {
        "colab": {
          "base_uri": "https://localhost:8080/"
        },
        "id": "k0PRgCcahRue",
        "outputId": "c91d46f5-cdf5-4e6e-973a-b8274818271f"
      },
      "outputs": [
        {
          "name": "stdout",
          "output_type": "stream",
          "text": [
            "============================= [단어 갯수가 0 인 문장] =============================\n",
            "* 단어갯수가 0인 문장 갯수:  11128\n",
            "* 전체문장수 대비 단어갯수가 0인 문장 갯수 비율:  0.05948003078765073\n",
            "* 단어갯수가 0인 문장 일부 확인 \n",
            " ['', '', '', '', '']\n",
            "* 단어갯수가 0인 문장 중복제거 \n",
            " ['', ' ', '  ']\n",
            "\n",
            " ============================= [단어 갯수가 1 인 문장] =============================\n",
            "* 단어갯수가 1인 문장 갯수:  3500\n",
            "* 전체문장수 대비 단어갯수가 1인 문장 갯수 비율:  0.01870777388180963\n",
            "* 단어갯수가 1인 문장 일부 확인 \n",
            " ['Belle,', 'Belle,', 'Belle,', 'Ooh', 'I,']\n",
            "* 단어갯수가 1인 문장 중복제거 \n",
            " ['Oh', 'Baby', 'Belle,', 'Belle', 'Ooh', 'I,', 'Beautiful', 'Hey', 'Yeah', 'Beauti,', 'Flying', 'Darling', 'Sacrificed', 'Wo-oh-oh-oh-oh-oh', 'Oh-oh-oh-oh-oh-oh', '(Yeah...yeah...)', '(Ho...)', '(La-la-la-la-la-la-la-la-la)', 'No', 'Nah', '(Unbreakable)', 'Kandi', 'Higher', 'Black', 'Valerie', 'innit', 'Cant', 'Ah', 'Quiet', 'Sweetest', 'Depleted', 'Hustle...', 'Always', 'A-a-a-antisocial', 'A-a-a', 'Tonight', 'Again', 'Whoa', 'Suggests', 'Touches', 'Arousal', 'Emergency', 'Sometimes', 'babe', 'Crooked', 'Kahiiiiiii', 'Kahi', 'Thinking,', 'heðan-biður-afte-care,', 'heðan-biður,', 'heðan-liður-afte-care', 'heðan-biður-afte-care', 'Ohhh!!', 'Ohh-er-him', 'Ahh-eða-miður-afte-care', 'En-lickel-afte-sjólvar', 'En-neon-co-cole-ah-ahh', 'Neo-sasar-ohh', 'En-cha-le', '(rapture)', '(oh)', '(see...)', 'Scolanscolan', 'Scanscanscan', 'Sksksksksksk', 'Skskskskksksks', 'Brrbrbrbbbrbrehheee', 'Over', 'Ohrwaaa', 'Unsenononah', 'Aheeeeee', 'Eeeeeeeeeeeeeeeeeeee', 'Howwwooooooooeeeeeee', 'Geeeeeeeheeheeeeeeee', 'Howwwwwwweeeeeeeeeee', 'Heeeeheeeeeeeeeeeeee', 'Owwooooeeeeioioeeeee', 'Fanta', 'Air', 'Ohtuuuuekeah', 'Handeeeeeeey', 'Seeeeeooheeeee', 'Howweeeeeeeee', 'Howweeeeeeeeeeeeeeee', 'Howweeeeeeeeeeee', 'Howweeeeeeeeee', 'Weeeeeeeeeeeee', 'Eeeeeeeeeeeeeeeeee', '..', 'Volunteer', 'Ferocity', 'March', 'Sparkling', 'Luminous', 'Sleepyhead', 'Surrender', 'Sweetly', 'Undo', 'Fingers', 'Complete', 'Notice', 'Clinging', 'Almost', 'Unnecessarily?', 'Unison', 'Explode', 'Woo-ooh', 'Underneath', 'Me', 'I', 'You', 'Live', 'Oooh', 'Ooh!', 'Haha', '(Oooh)', '(Ooh)', 'Oh-oh-oh-oh', '(ahh-ah-ah-ah-ah)', 'oh', '(Oohh)', 'Ohhhhh', 'Ohhhh', 'Up', 'Alright', 'Ok', 'ok', 'Aaaaaa', 'Somebody', 'Perfectly', '[REPEAT]', 'Yeah!', '(Hey!)', 'Ya', 'Anyway', 'Bonjour', 'Pardon', '(Yeah)', 'Cogitatione', \"Ev'rywhere\", 'Hercules!', 'Undefeated', 'Bibbidi-bobbidi-boo', 'Oh!', 'Disney', 'Thanks!', 'Mmmmmm', 'Manatunatu', '(Aha!)', '(Ha!)', 'Villagers:', 'Moana:', 'Maybe', 'Always ', '[Chorus]', 'He-he-he-he-he-he', 'Yodel-a-ee-he-he', 'Oooh-ooh-ooh-ooh', 'Sit!', 'BUMP!', 'So', 'so', 'Well', 'Fox', 'Socks', 'Box', 'Knox', 'AND', 'anywhere.', 'Say!', 'Sam!', 'hethreetreebee', 'tophopstop', 'SO', 'Silvio', '\\t\\t\\tRamona', 'Saved', 'I.', 'SUCCESS.', 'II.', 'III.', 'IV.', 'V.', 'VI.', 'VII.', 'ALMOST!', 'VIII.', 'IX.', 'X.', 'XI.', 'XII.', 'XIII.', 'EXCLUSION.', 'XIV.', 'XV.', 'XVI.', 'XVII.', 'DAWN.', 'XVIII.', 'XIX.', 'XX.', 'XXI.', 'XXII.', 'XXIII.', 'UNRETURNING.', 'XXIV.', 'XXV.', 'XXVI.', 'MINE.', 'BEQUEST.', 'SUSPENSE.', 'SURRENDER.', 'PROOF.', 'TRANSPLANTED.', 'Despair!', 'RENUNCIATION.', 'RESURRECTION.', 'APOCALYPSE.', 'APOTHEOSIS.', 'MAY-FLOWER.', 'Antiquity.', 'WHY?', 'XXVII.', 'XXVIII.', 'AUTUMN.', 'XXIX.', 'BECLOUDED.', 'XXX.', 'XXXI.', 'REAL.', 'REFUGE.', 'PLAYMATES.', 'DYING.', 'RESURGAM.', 'XXXII.', 'XXXIII.', 'XXXIV.', 'XXXV.', 'EMANCIPATION.', 'XXXVI.', 'LOST.', 'XXXVII.', 'XXXVIII.', 'XXXIX.', 'XL.', 'POEMS', 'PREFACE', 'HOPE.', 'TRIUMPHANT.', 'ESCAPE.', 'COMPENSATION.', 'SHIPWRECK.', 'ENOUGH.', 'Again.', 'SIGHT.', 'XLI.', 'DEED.', 'XLII.', 'XLIII.', 'REMORSE.', 'XLIV.', 'XLV.', 'XLVI.', 'XLVII.', 'XLVIII.', 'XLIX.', 'L.', 'HUNGER.', 'LI.', 'LII.', 'LIII.', 'RETURNING.', 'LIV.', 'PRAYER.', 'LV.', 'LVI.', 'LVII.', 'CHOICE.', 'POSSESSION.', 'APRIL.', 'SECRETS.', 'OLD-FASHIONED.', 'GOSSIP.', 'SIMPLICITY.', 'STORM.', 'Equilibrium.', 'SUNSET.', 'PROBLEMS.', 'NOVEMBER.', 'EPITAPH.', 'MEMORIALS.', 'Society.', 'TRIUMPH.', 'FOLLOWING.', 'GOING.', 'GHOSTS.', 'VANISHED.', 'PRECEDENCE.', 'GONE.', 'REQUIEM.', 'VOID.', 'SAVED!', 'PARTING.', 'ASPIRATION.', 'RETICENCE.', 'CONTRAST.', 'FRIENDS.', 'FIRE.', 'VENTURES.', 'GRIEFS.', 'DISENCHANTMENT.', 'REMEMBRANCE.', 'DESIRE.', 'PHILOSOPHY.', 'POWER.', 'EXPERIENCE.', 'CONSECRATION.', 'LOVE.', 'SATISFIED.', 'SONG.', 'LOYALTY.', 'FORGOTTEN.', 'WHO?', 'DREAMS.', 'LONGING.', 'WEDDED.', 'MARCH.', 'COBWEBS.', 'EVENING.', 'COCOON.', 'AURORA.', 'AFTERMATH.', 'ENDING.', 'IMMORTALITY.', 'DEATH.', 'UNWARNED.', 'ASLEEP.', 'INVISIBLE.', 'WAITING.', 'FAREWELL.', 'DEAD.', 'THIRST.', 'SLEEPING.', 'LVIII.', 'RETROSPECT.', 'LIX.', 'ETERNITY.', '[Hook]', 'Baka', '(yeah)', 'Showtime', 'Halloween', '(Killa)', 'Uh', 'Killa', '(Look)', 'Damn', 'Yea', '\"Hello', 'Inferior', 'Discredited', '---', 'Exodus', 'Na-na-na-na-na-na-na-na-na;', 'amour]', 'Two-twenty-three', 'YMCMB', 'Incredible', 'Whatever', 'virgin-akins.', 'me!', 'Ayy!', 'Unhh', 'Pluto', 'Plies', '(YMCMB)', 'International', 'Movie', 'Foshigady', 'K.H.A.L.E.D', 'Despacito', 'Sorry', 'Yo,B.I.G', 'Paradise', 'Forever', 'Hesitate', 'Away', 'No...', 'Yeah ', 'Badlands', 'well...', 'Freehold', 'Hey!', 'Fire', \"Countin'\", '(Woah!)', 'Gimme', 'Gimme,', 'Chorus', '(Oh)', '(ahhhh)', 'Oooh!', 'Britney:', 'Crazy', 'Ow', 'Wo-wo-wo-wo-wo-wo', 'Everything', 'Sabi', 'Yup', 'Ahh', 'Hmm', 'Please', 'Clandestine', 'Fifty-fifty', 'Lakota!', 'Brave', 'Broken', 'Grave', 'Lakota', 'Weak', 'Faithful', 'Meek', 'Mother', 'Father', 'Shadows', 'Water', 'Gleam', 'Love', 'Hollow-grey-fire-escape-thief', '\"Pin-cushion-prick-', 'Darkness', 'Illumination', 'Corruption', 'Boring!', '(Boring!)', 'Rain', 'Scream', 'Ooooooooooooooohhhhhhhhhhh', 'Ooooohhhhh', 'Ooooohhhhhhh', 'Slowly!', 'High', 'Yeah,', '...', 'Woo!', '[Speakin:-]', 'Hahahahahaha', '-Laughter-', 'yeah', 'Niggas', 'Nigga-nigga', 'Roman!', 'Please!', 'Stop,', 'Swalla-la-la', '(J.D)', '....', 'Foxy', 'Ha!', 'Whaa', \"Understandin'\", 'Time', 'Mind', 'Existing', 'Everybody', 'Everybody,', 'Stop', 'miscellaneous', 'again\"', 'heyaaaa', 'jimi:', 'yeah,Foxy', 'ooh,Foxy', 'foxy,foxy,foxy,foxy', '??', 'Dreams-', 'Happiness...', 'Jesus', 'Sister', 'Brothers', 'One', 'Tremble', 'Reno', 'Chicago', 'Fargo', 'Minnesota', 'Buffalo', 'Toronto', 'Winslow', 'Sarasota', 'Whichta', 'Tulsa', 'Ottowa', 'Oklahoma', 'Tampa', 'Panama', 'Mattua', 'LaPaloma', 'Bangor', 'Baltimore', 'Salvador', 'Amarillo', 'Tocapillo', 'Pocotello', 'Boston', 'Charleston', 'Dayton', 'Louisiana', 'Washington', 'Houston', 'Kingston', 'Texarkana', 'Monterey', 'Fairaday', 'Tollaperson', 'Oskaloussa', 'Tennessee', 'Tinnesay', 'Chickapee', 'Louisville', 'Nashville', 'Knoxville', 'Omerback', 'Shereville', 'Jacksonville', 'Waterville', 'Richfield', 'Springfield', 'Bakersfield', 'Shreveport', 'Hakensack', 'Cadallic', 'Davenport', 'Idaho', 'Jellico', 'Argentina', 'Diamondtina', 'Pasadena', 'Pittsburgh', 'Parkersburg', 'Gravelburg', 'Colorado', 'Ellisburg', 'Rexburg', 'Vicksburg', 'Eldorado', 'Larimore', 'Adimore', 'Habastock', 'Chadanocka', 'Shasta', 'Nebraska', 'Alaska', 'Opalacka', 'Baraboo', 'Waterloo', 'Kalamazoo', 'Shawnna-', 'Ludacris', 'Rearrange', 'Luda!(yep)', 'S.g.!', 'Women,', 'Luda!', 'Heeshy', 'Amen', '(Bing)', 'Yo', 'Wait', 'Climb', 'Lose', 'Helpless', 'Burn', 'Goodbye', 'Madison?', 'Stay', 'Love-love-love', '(Oh-oh-oh-oh-oooh!)', '(Oh-oh-oh-oh-ooh!)', 'Papa-paparazzi', 'Alejandro', 'Ale-ale-jandro', 'Venus', 'Uranus!', 'Fashion!', 'Swine', 'A-yo', 'Anything', 'Vierzehn', 'Mi-Mi-Bella', 'Preach', 'Thinking', 'Hah', 'Hallelujah', 'Gnarly', 'Now', 'Ohhhhhhhh', 'Look', 'Club', 'Ohsa', 'Naaaaananaaaaa', 'Lollipop', 'He', 'Word', 'Friendly', 'Clone', 'started', 'Yes', 'Cmon', 'OV', 'Who', 'Caller', 'Hello', 'shit', 'Intro', 'Ai', 'Santana', 'Outro', 'Assholes', 'Verse', 'Gone', 'Bridge', 'Hook', 'Mario', 'Chrous', 'Bass', 'honey', 'YeahChainz', 'Tunechi', 'Nikki', 'Wayne', 'Weezy', 'TPain', 'wasnt', 'fustin', 'puffin', 'Drake', 'Tyga', 'Young', 'Streets', 'Aye', 'OK', 'Bitch', 'Aha', 'Cole', 'Currency', 'Wow', 'BG', 'What', 'Tanto', 'motherfuckin', 'nothin', 'McDonalds', 'Eastside', 'Ra-ta-ta-ta-ta-ta-ta-ta-ta-ta', 'Why-thai,-thai-o-toy-o-thai-thai', 'Rock-thai,-thai-o-toy-o-thai-thai', '[Mya]', '[Pink]', '[Christina]', 'More-more-more', '[Missy]', '(Crazy)', 'M-I-S,Miss', 'Jiggle,jiggle,jangle', '(WHO-DI-WHOOOOOOOOOOOOO!)', \"I'm-I'm\", 'Visualize', 'N-Y-M-B-A', 'suckas.', 'Slap!Slap!Slap!', 'Nigga,Slap!Slap!Slap!', 'Anymore', '(Rewind)', 'Blaaah!', 'Hugh!', 'Raaah!', '[Chorus]2x', '(Cheese)', 'Missy', 'Timbaland', '(Hollar!)', 'Funk', 'Nevermind', 'Argument', 'Married', 'Wait!', 'Free', 'Pain', 'Ummmmm', 'Drone!', 'Shit', 'Bull', 'Cry', 'Hell', 'Now...', 'Dive', 'Ecto-plasma', 'Ecto-Skeletal', 'Than', 'Yeah?', '(Damn!)', 'Helplessness', \"(C'mon)\", '(No!)', '(Baby)', '(Sorry!)', '(Yes!)', '(Ah!)', 'Shit,', '{Eminem]', 'Serious', 'Obie', 'Vegas', 'S***.', 'Damn.', 'Roxanne', 'D12!', 'Underpants', 'Whoa,', 'Alright!', 'No.', 'Yeah.', 'Phew!', 'Cried,', 'Lord!', 'Yeah!!!', 'Woman,', 'Gutra', 'Alright!!!', 'My-my-my-my-my-my-my-man.', 'Harry', 'Generation', 'L-O-V-E-L-E-S-S', 'Bloodstains', 'Crystal', 'Maybach', 'Islands', 'Limelight', '[Intro]', '[Bridge]', '[?]', '[Kanye]', 'ExtraterrestrialExtraterrestrial', 'Extraterrestrial ', 'Runaway', 'Blazin', 'Faster', 'Huh?', '(Perfect!)[Hook]', 'Scary', 'SWISH ', '[Chorus:]', '[Bridge:]', '[Refrain]', '[Spoken:]', '(Anywhere) ', 'People... ', 'People', '[Instrumental]', 'Ooooh... ', 'Shoo-be-doo-be-doo-be-doo-da-day', 'Refrain', 'E-U-P-H-O-R-I-A', 'Ooh!! ', '[BRIDGE]', '[INTRO]', '[CHORUS]', '(Ouuuuuuuuuuuuuuuuuuuuuuuuuuuuh) ', '(Ouuuuuuuuuuuuuuuuuuuuuuuuuuuuuh) ', 'Yeah, ', '(Ooh!)', '(Ah)', '(Girl)', 'Especially', 'Especially ', '[Chant]', 'Girlfriend', '[Chant:]', '[Ad-Lib]', '[Repeat/Fade-Out]', 'Make', 'Today', '[Michael]', '[Paul]', '[Fade-Out/Repeat]', '[Background]', 'Breakdown', '(Proud)', 'Hee-Hee!', 'Aaow!', 'Loveliness', 'Satisfied', 'A-Acha-Acha', 'Acha-Ooh!', 'Forevermore', 'Chika-Chika', 'Chika-Chika-Chika', 'Ugh!', 'Uhh!', 'Hoo!', 'Piya-Mpenziwe)', '[Stevie]', \"Dancin'-Hee!\", 'Me-No', 'Remember', 'Ooo', '[Both]', '(Mind)', 'There', '(Doot-Do-Do-Doo)', 'Know', 'Alone?', 'Ways', 'Change!', 'Yeah!)', 'Heart)', 'Mind!', 'Mind!)', 'Yourself!', 'Today!', '[Siedah]', 'Tomorrow', 'Yesterday', 'Girl!', 'Band', 'Doors', 'Say', 'Diana!', 'Back', 'Fight)', 'Take)', \"'Cause\", 'Right)', 'Make)', 'Because ', 'Jam', 'Understand', '(Aahh)', '[Rap]', 'Faces', '[2x]', 'Weary', '(Carry)', '[Spoken]', 'Dangerous', 'Dangerous ', '[Janet]', '(Janet)', 'Money.', 'Money...', 'Insurance?', 'Scandal', 'Slander', 'Ooo...', 'Relax', 'Demerol', 'Hee-hee-hee', 'Hee', 'Hoo-hoo!', 'Hoo-hoo', 'Morphine!', 'Shoo-hee', 'Woh', 'Hee!', '(Hee!)', '(Hoo!)', '(Oooh!)', '(Ho!)', '(Doh)', \"(She's)\", 'Aaow', 'Hey.', 'Eccentrialities ', '[RAP]', 'Unthinkable', 'Ho...oh...', 'life)', '(Whoa...oh...oh...)', 'baby)', 'world)', '(love) ', '[Interlude]', 'Cheater... ', 'Cheater...', '(Uuh)', '(uuh)', '(hee)', 'Ooooooh', 'Ooooooh ', 'Uh...', '[Akon]', '[Together]', '[ad-libs]', 'Uuuuuuuuuuh', 'Chcksthtshtshtsh', 'Monster', '[x2]', '(Wooh)', '[Laughing]', '[Pitbull:]', 'Shameone', 'Luchando', 'Because', 'Go!', 'COCK-A-DOODLE-DO', '    Cock-a-doodle-do!', 'CHRISTMAS', 'PEG', 'ROBIN-A-BOBIN', '    Robin-a-Bobin', 'BANDY-LEGS', '    +----------------+--------------+--------------+--------------+', 'SNAIL', 'DIDDLEY-DIDDLEY-DUMPTY', '    Diddley-Diddley-Dumpty,', '    Diddley-diddley-dumpty.', 'COCK-CROW', 'HUMPTY-DUMPTY', 'IF', 'BUTTONS', 'TIT-TAT-TOE', '    Tit-tat-toe,', 'CROSS-PATCH', '    Rub-a-dub-dub,', 'ANDREW', 'NOTHING-AT-ALL', 'TONGS', 'sixpence.', 'TELL-TALE-TIT', '    Tell-tale-tit,', 'NONSENSE', '    Dickory,', '      Dickory,', '        Dock!', 'FEETIKINS', 'JOHNNY', 'Mmmmm', '(Please)', 'Tonight,', 'Moo-la-lah', 'Disturbia', 'Articulate', 'Nooo', 'Both:', 'Hot!', 'Play', 'Uptown', 'YEAH!', 'Head', 'Controversy', 'Everybody...', 'Sexuality', 'Dontcha.', 'Work!', 'ABSCAM', '1999', '(Party)', '(Delirious)', 'Ooh-we-sha-sha-coo-coo-yeah', '(Ooh-we-sha-sha-coo-coo-yeah)', 'A-U-T-O-matic', '(A-U-T-O-matic)', 'Go', 'Coming', 'Baby,', 'Wendy?', '1,2,3,4', 'Doctor!', 'Ooh-la-la', 'Ooh-la-la-la-la-la-la', 'No-sha-sha', 'Listen', 'Tamborine', 'Peace!', 'Freedom', 'Joy', 'Peace', '(salvation)', 'Sex', 'Temptation', 'Lust', 'Good-bye', 'Face...', '(drips)', '[starvation]', 'Mountains', 'Kiss', 'Housequake', 'Question:', 'Bullshit!', 'Bullshit', '(Ring)', \"Slammin'\", '(Oh-we-oh-oooh)', '(groove!)', '(oh-we-oh-ooh)', 'Confusion!', 'Hundalasiliah', 'No!', 'Yeah-yeah', 'L-L-L-L-Lovesexy', 'Lovesexy', 'Yes,yes,yes,yes,yes', 'Positivity', 'Somebody...', 'Lawrence...\"', 'Partyman', 'phonebook...\"', '(W,X,Y,Z)', 'Trust', 'Scandalous', 'BATMAN', 'BATDANCE', '(screams)', 'WORK!', 'POWER', 'SOUL', 'Nobody!', 'Batman', 'Stop!', 'What?', 'U.', 'Bang.', 'Shake!', 'Every-everybody.', '(Melody...Melody...Melody)', 'Thunder', '(thunder)', 'Cream', 'Boogie', \"(willin')\", '(able)', 'Sha-la-la-la-la', '(jughead)', 'Tony...', 'Push', '(push)', '(Prince...)', '10,9,8,7,6,5,4', 'Where?', 'There!', 'Shucks', 'La-la-la-la-la-la', 'La-la-la-la-la-la-la', 'Hello?', 'Continental', 'Con-con-continental', 'God', 'U', 'Woman', '{S.A.C.R.I.F.I.C.E}', '(sac-sacrifice)', 'Grind', '(dead)', '[Gal]', 'Who?', 'Prince?', 'Gotcha', 'Bob', 'Superfunkycalifragisexy', 'Baby...', 'Super..', '(Come)', 'Come', 'Dream', '[Missile..Internal..]', 'Affirmative', 'Ready', 'Check', 'Space', 'Grow', '[Missile..]', 'Pheromone', '1-2-3-4!', 'Loose!', '(Loose!)', 'Cool', 'Smack!', 'Boom!', 'Papa...', 'Papa...Papa', 'Papa...Papa...', 'Race', '(letitgo)', 'Ow!', '(Uh)', '(Mmm)', 'Dig..', 'Dolphin', 'Now!', 'Band!', '(Now)', 'Commitment..', 'Commitment', '(319)', '319', 'Shy', '(Shy)', 'Yep', 'Man?', 'But', 'Mmm', 'Why', 'Music', 'La', 'Loves', '(huh)', 'side', 'Whoh', 'Dippin', 'Benjamins', 'Uhh', 'Notorious', 'Capiche', 'for', 'Thai', 'Brooklyn', 'Saying', 'Years', 'CeaseaLee', 'BIG', 'MethTical', '(possibility)', 'song', '(babble)', '(Lenny!)', 'Name', 'Frederick', '[chorus]', 'Revenge', 'Jersey.', 'Wave', 'Everywhere', 'Awake', 'Known', 'Emptiness', 'oh-oh', 'alive', '1959', 'Holy', 'Apocalypse', '(Apocalypse)', 'Upstream', '(forever)', 'December,', 'Graceland', 'Yawning', 'Mexico', 'Do-n-do-d-do-n-do', 'Old', 'Proof', 'Faith', 'Moonbeam', 'Run', 'Escape', 'Reckoner', 'Invisible', 'Dreamers', 'Through', 'Nothing.', 'Mmmhm', 'Wake', 'Pack', 'Before', 'Breathe', 'Alone', 'Sing', \"There's\", 'Bloom', 'Obligations', 'Complications', 'Feral', 'Codex', 'Separator', 'Fantasize', \"Nothin'\", 'Underground', 'Comfortable', 'Uptight', 'Everyone', 'go', 'Face']\n",
            "\n",
            " =========================== [단어 갯수가 40개 초과인 문장] ===========================\n",
            "* 단어갯수가 40개 초과인 문장 갯수:  65\n",
            "* 전체문장수 대비 단어갯수가 40개 초과인 문장 갯수 비율:  0.00034743008637646455\n",
            "* 단어갯수가 40개 초과인 문장 일부 확인 \n",
            " ['Although Emily Dickinson had been in the habit of sending occasional poems to friends and correspondents, the full extent of her writing was by no means imagined by them. Her friend \"H.H.\" must at least have suspected it, for in a letter dated 5th September, 1884, she wrote:—', 'If such a thing should happen as that I should outlive you, I wish you would make me your literary legatee and executor. Surely after you are what is called \"dead\" you will be willing that the poor ghosts you have left behind should be cheered and pleased by your verses, will you not? You ought to be. I do not think we have a right to withhold from the world a word or a thought any more than a deed which might help a single soul. . . .', 'The \"portfolios\" were found, shortly after Emily Dickinson\\'s death, by her sister and only surviving housemate. Most of the poems had been carefully copied on sheets of note-paper, and tied in little fascicules, each of six or eight sheets. While many of them bear evidence of having been thrown off at white heat, still more had received thoughtful revision. There is the frequent addition of rather perplexing foot-notes, affording large choice of words and phrases. And in the copies which she sent to friends, sometimes one form, sometimes another, is found to have been used. Without important exception, her friends have generously placed at the disposal of the Editors any poems they had received from her; and these have given the obvious advantage of comparison among several renderings of the same verse.', 'To what further rigorous pruning her verses would have been subjected had she published them herself, we cannot know. They should be regarded in many cases as merely the first strong and suggestive sketches of an artist, intended to be embodied at some time in the finished picture.', 'The handwriting was at first somewhat like the delicate, running Italian hand of our elder gentlewomen; but as she advanced in breadth of thought, it grew bolder and more abrupt, until in her latest years each letter stood distinct and separate from its fellows. In most of her poems, particularly the later ones, everything by way of punctuation was discarded, except numerous dashes; and all important words began with capitals. The effect of a page of her more recent manuscript is exceedingly quaint and strong. The fac-simile given in the present volume is from one of the earlier transition periods. Although there is nowhere a date, the handwriting makes it possible to arrange the poems with general chronologic accuracy.']\n",
            "* 단어갯수가 40개 초과인 문장 중복제거 \n",
            " ['JW: Another dirty money, heaven sent honey turning on a dime [CHORUS] Its just another way to Hey Its just another way to Youve got to. JW: Another girl with her finger on the world singing do what you wanna hear', \"I've read your letter through at least four times, and will probably read it more times before I'm through. I've been sitting here, looking at your picture and getting more homesick every minute. I've wanted that picture more than anything else I know of, except, of course, you yourself.\", \"I keep thinking of you, Darling, keep wishing I could be home with you. I want to leave in the worst possible way so I can come home to see you, but things don't look so good on that subject. But this war has spoiled a lot of things for everyone, I guess.\", \"I've never been so lonesome in my life as I am right now. I'm completely lost without you, Darling. I never realized I could miss any one person so much. I just hope it won't be too much longer until I'm able to be with you again... and live a sane and normal life. I'm sick of always hearing\", \"I've seen it all there is no more to see You haven't seen elephants, kings or Peru I'm happy to say I had better to do What about China? Have you seen the Great Wall? All walls are great if the roof doesn't fall\", \"you got me going crazy ooo... my baby she got me oh no... she left me a prisoner inside my words, ooo...... my baby she got me oh no.. she locked me in prison like a criminal everyday's the same, your word, lied away, when all you go and done isnt me, i can see you now, your long brown hair and your white wedding gown, baby im missing you... i wanna find out why, you didnt choose to stay oh..., oh ya...,\", \"ooo... my baby she got me oh no... she left me a prisoner inside my words, ooo... my baby she got me oh no.. she locked me in prison like a criminal i can't stop this, all this daydreaming , i gotta do my time... i ooo... i can't get out, i don't wanna feel this way, save me from this misery... i wanna find out why, you didnt choose to stay, baby..., you got me going crazy... ooo... my baby she got me oh no... she left me a prisoner inside my words, ooo...... my baby she got me oh no.. she locked me in prison like a criminal i promise to love ya, hold ya, even when time got hard and i can still see us being forever, but now we're falling apart... i wanna find out why, you didnt choose to stay, baby... you got me, ooo... my baby she got me oh no... she left me a prisoner inside my words, ooo...... my baby she got me oh no.. she locked me in prison like a criminal Damn...\", \"I'm where I'm meant to go And at last I see the light And it's like the fog has lifted And at last I see the light And it's like the sky is new And it's warm and real and bright\", \"WRITERS RUSSELL BROWN, IRWIN LEVINE I'm comin' home, I've done my time Now I've got to know what is and isn't mine If you received my letter telling you I'd soon be free Then you'll know just what to do if you still want me If you still want me Just tie a yellow ribbon 'round the old oak tree It's been way too long, do you still want me? If I don't see a ribbon 'round the old oak tree I'll just stay on the bus, forget about us, put the blame on me If I don't see a yellow ribbon 'round the old oak tree Bus driver, please look for me 'Cause I couldn't bear to see what I might see I'm really still in prison and my love, he holds the key A simple yellow ribbon's all I need to set me free I wrote and told him please... Just tie a yellow ribbon 'round the old oak tree It's been way too long, do you still want me? If I don't see a ribbon 'round the old oak tree I'll just stay on the bus, forget about us, put the blame on me If I don't see a ribbon 'round the old oak tree Tie a yellow ribbon 'round that old oak tree I'm coming home Now the whole dang bus is cheerin' and I can't believe I see a hundred yellow ribbons tied 'round the old oak tree I'm comin' home, I'm glad you waited for me Tie a yellow ribbon 'round the old oak tree Tie a ribbon 'round the old oak tree Tie a ribbon 'round the old oak tree Tie a yellow ribbon if you still want me Tie a yellow ribbon 'round the old oak tree Tie a yellow ribbon 'round the old oak tree Here you come again\", 'The eagerness with which the first volume of Emily Dickinson\\'s poems has been read shows very clearly that all our alleged modern artificiality does not prevent a prompt appreciation of the qualities of directness and simplicity in approaching the greatest themes,—life and love and death. That \"irresistible needle-touch,\" as one of her best critics has called it, piercing at once the very core of a thought, has found a response as wide and sympathetic as it has been unexpected even to those who knew best her compelling power. This second volume, while open to the same criticism as to form with its predecessor, shows also the same shining beauties.', 'Although Emily Dickinson had been in the habit of sending occasional poems to friends and correspondents, the full extent of her writing was by no means imagined by them. Her friend \"H.H.\" must at least have suspected it, for in a letter dated 5th September, 1884, she wrote:—', 'If such a thing should happen as that I should outlive you, I wish you would make me your literary legatee and executor. Surely after you are what is called \"dead\" you will be willing that the poor ghosts you have left behind should be cheered and pleased by your verses, will you not? You ought to be. I do not think we have a right to withhold from the world a word or a thought any more than a deed which might help a single soul. . . .', 'The \"portfolios\" were found, shortly after Emily Dickinson\\'s death, by her sister and only surviving housemate. Most of the poems had been carefully copied on sheets of note-paper, and tied in little fascicules, each of six or eight sheets. While many of them bear evidence of having been thrown off at white heat, still more had received thoughtful revision. There is the frequent addition of rather perplexing foot-notes, affording large choice of words and phrases. And in the copies which she sent to friends, sometimes one form, sometimes another, is found to have been used. Without important exception, her friends have generously placed at the disposal of the Editors any poems they had received from her; and these have given the obvious advantage of comparison among several renderings of the same verse.', 'To what further rigorous pruning her verses would have been subjected had she published them herself, we cannot know. They should be regarded in many cases as merely the first strong and suggestive sketches of an artist, intended to be embodied at some time in the finished picture.', 'The handwriting was at first somewhat like the delicate, running Italian hand of our elder gentlewomen; but as she advanced in breadth of thought, it grew bolder and more abrupt, until in her latest years each letter stood distinct and separate from its fellows. In most of her poems, particularly the later ones, everything by way of punctuation was discarded, except numerous dashes; and all important words began with capitals. The effect of a page of her more recent manuscript is exceedingly quaint and strong. The fac-simile given in the present volume is from one of the earlier transition periods. Although there is nowhere a date, the handwriting makes it possible to arrange the poems with general chronologic accuracy.', 'The variation of readings, with the fact that she often wrote in pencil and not always clearly, have at times thrown a good deal of responsibility upon her Editors. But all interference not absolutely inevitable has been avoided. The very roughness of her rendering is part of herself, and not lightly to be touched; for it seems in many cases that she intentionally avoided the smoother and more usual rhymes.', 'Like impressionist pictures, or Wagner\\'s rugged music, the very absence of conventional form challenges attention. In Emily Dickinson\\'s exacting hands, the especial, intrinsic fitness of a particular order of words might not be sacrificed to anything virtually extrinsic; and her verses all show a strange cadence of inner rhythmical music. Lines are always daringly constructed, and the \"thought-rhyme\" appears frequently,—appealing, indeed, to an unrecognized sense more elusive than hearing.', 'Emily Dickinson scrutinized everything with clear-eyed frankness. Every subject was proper ground for legitimate study, even the sombre facts of death and burial, and the unknown life beyond. She touches these themes sometimes lightly, sometimes almost humorously, more often with weird and peculiar power; but she is never by any chance frivolous or trivial. And while, as one critic has said, she may exhibit toward God \"an Emersonian self-possession,\" it was because she looked upon all life with a candor as unprejudiced as it is rare.', 'She had tried society and the world, and found them lacking. She was not an invalid, and she lived in seclusion from no love-disappointment. Her life was the normal blossoming of a nature introspective to a high degree, whose best thought could not exist in pretence.', 'Storm, wind, the wild March sky, sunsets and dawns; the birds and bees, butterflies and flowers of her garden, with a few trusted human friends, were sufficient companionship. The coming of the first robin was a jubilee beyond crowning of monarch or birthday of pope; the first red leaf hurrying through \"the altered air,\" an epoch. Immortality was close about her; and while never morbid or melancholy, she lived in its presence.', \"Hold on, hold on, fuck that. Fuck that shit. Hold on, I got to start this mothafuckin' record over again, wait a minute. Fuck that shit. Still on this mothafuckin' record. I'ma play this mothafucka for y'all. Aye, y'all get some more drinks goin' on, I'll sound a whole lot better. [Verse 1]\", \"Blew up and I'm in the city still, I'm still i heard once that they would rather hear about memories than enemies , rather hear what was or what will be than what is, rather hear how you got it over how much it cost you rather hear about finding yourself and how you lost you ,rather you make this an open letter about family and struggle and taking forever about hearts that you've broken and ties that you've severed no doubt in my mind that will make them feel better Ooh, ooh,\", \"Another one (Chorus) Standing on the mountain top, counting all this money, laughing at you haters, ain't nothing gonna save yeah. Yeah, Welcome Back, Another small Buy, we global , Feel my pain They can't deal witha nigga like me. Cus I keep it so hood, yeah I keep it so Street. The industry hate but they gotta see me. Turn your tvs on Bet all you see is me. Nah I ain't playing why you trying to blame me, Might as well hate the world instead of hating on me. Pussy ass nigga (And we taking over, One paper bag at a time) I need that clearence feed me more, come and think about it you need it more Uhh I am miami I do it for miami, 24 and 7 trays yeah nigga we born and raised. See this, Joe Crack we showed them. Damn right I'm so concieted. I know it made you sick, guess what it made me rich. Shout out to all my DJ's. Projects I know you feel me. Thank god for rubber bands. Phantoms on paper tags. This oens for all the fans. We the best. (Chorus) Standing on the mountain top, counting all this money, laughing at you haters, ain't nothing gonna save yeah. x2 I Introduce you to ace hood!\", \"More money more problems they hollar I get em, I got em Bitch I am ace. that'd H to the double O D and when you mention greatness you better be mentioning me. Or when you say the best you deffinitly mentioning we. They said I couldn't do it, proving them ludacris niggas. Lamborghini got a S\", 'Come on up for the rising tonight Li, li, li, li, li, li, li, li, li, li, li, li, li, li, li, li, li Two, three, four Have you ever seen a one trick pony in the field so happy and free?', \"You got me wantin' more and mo mo more and Your love, your love (yeah) Your love, your love (yeah) Your love, your love (yeah) Your love, your love (yeah) Your love, your love Your love, your love Your love, your love Your love, your love He the type to pop tags and be cockin' the brim\", \"You got me wantin' more and mo mo more and Your love, your love (yeah) Your love, your love (yeah) Your love, your love (yeah) Your love, your love (yeah) Your love, your love Your love, your love Your love, your love Your love, your love He they type to keep a couple hundred grand in the rubber band\", \"You got me wantin' more and mo mo more and Your love, your love (yeah) Your love, your love (yeah) Your love, your love (yeah) Your love, your love (yeah) Your love, your love Your love, your love Your love, your love Your love, your love Find me in the dark\", 'Hit em wit the Mac, hit em wit the Tech 9, hit em wit the Ruger by the intersex sine. hit em wit a Tommy so my n****s call me Pammy and I always the jammy in the trunk or in the lamby', \"[Luda] It's get out, put my pedal to the flow and let's roll! Assign your name in the streets (sign your name in the streets) Assign your name in the streets (sign your name in the streets) Assign your name in the streets (sign your name in the streets) Assign your name in the streets (sign your name in the streets) Yo, one of my ways of releasing tension while I'm releasing some steam\", \"[Luda] It's get out, put my pedal to the flow and let's roll! Assign your name in the streets (sign your name in the streets) Assign your name in the streets (sign your name in the streets) Assign your name in the streets (sign your name in the streets) Assign your name in the streets (sign your name in the streets) Chorus\", \"See if you can spot him Another immigrant comin' up from the bottom His enemies destroyed his rep America forgot him We fought with him Me, I died for him Me, I trusted him Me, I loved him And me, I'm the damn fool that shot him There's a million things I haven't done\", \"Time to get some pistols and a doctor on site You pay him in advance, you treat him with civility You have him turn around so he can have deniability Five Duel before the sun is in the sky Pick a place to die where it's high and dry\", \"But your man has to answer for his words, Burr With his life? We both know that's absurd, sir Hang on, how many men died because Lee was inexperienced and ruinous? Okay, so we're doin' this Number nine Look 'em in the eye, aim no higher\", \"Graduate in two, then join the revolution he looked at me like I was stupid I'm not stupid So how'd you do it, how'd you graduate so fast? It was my parent's dying wish before they passed You're an orphan, of course I'm an orphan\", \"I'm willing to wait for it My grandfather was a fire and brimstone preacher But there are things that the homilies and hymns won't teach ya My mother was a genius My father commanded respect When they died they left no instructions\", \"It's a pleasure to meet you Schuyler? My sister Thank you for all your service If it takes fighting a war for us to meet, it will have been worth it I'll leave you to it One week later I'm writin' a letter nightly\", \"I hope you saved some money for your daughter and sons Ya best g'wan run back where ya come from Ha you don't even know what you're asking me to confess Confess You have nothing, I don't have to tell you anything at all\", \"Uh do whatever you want, I'm super dead Enough, Hamilton is right Mister President We're too fragile to start another fight But sir, do we not fight for freedom Sure, when the French figure out who's gonna lead 'em The people are leading The people are rioting\", \"Where do we draw the line So quick witted Alas, I admit it I bet you were quite a lawyer My defendants got acquitted Yeah, well, someone oughta remind you What You're nothing without Washington behind you Hamilton Daddy's calling In the eye of a hurricane\", \"I'll write under a pseudonym, you'll see what I can do to him I need you to draft an address Yes, he resigned, you can finally speak your mind No, he's stepping down so he can run for President Ha, good luck defeating you, sir I'm stepping down, I'm not running for President I'm sorry, what One last time\", \"You and I Mister President, they will say you're weak No, they will see we're strong Your position is so unique So I'll use it to move them along Why do you have to say goodbye If I say goodbye, the nation learns to move on\", \"Of our mutual cares, labors, and dangers One last time George Washington's going home Teach 'em how to say goodbye George Washington's going home You and I George Washington's going home Going home George Washington's going home History has its eyes on you George Washington's going home We're gonna teach 'em how to say goodbye (teach 'em how to say goodbye) Teach 'em how To say goodbye To say goodbye (say goodbye) Say goodbye (say goodbye) One last time Seventeen seventy-six\", \"But just you wait What's your name, man? Alexander Hamilton The issue on the table: a petition from a Quaker delegation in Philadelphia calling on Congress to end the African slave trade and abolish slavery, in all its forms. This petition was written and signed by Benjamin Franklin, it cannot go ignored. If this comes to a vote in Congress, what is the White House's position? Secretary Jefferson, you first. Tread lightly... Sir\", \"He ate my heart (Wanna talk to her, she's hot as hell) He ate my heart he ate my heart instead he's a monster in my bed He ate my heart he ate my heart instead he's a monster in my bed I wanna just dance but he took me home instead\", \"When you're gone I'll still be Bloody (Gaga) Mary (Gaga) Oh oh oh oh oh (Gaga) Oh oh oh oh oh (Gaga) Oh oh oh oh oh (Gaga) Oh oh oh oh oh (Gaga) Oh oh oh oh oh (Gaga) Oh oh oh oh oh (Gaga) Oh oh oh oh oh (Gaga) Oh oh oh oh oh (Gaga) Oh, liberdad mi amor I met a girl in east L.A.\", \"Whoa Tell me why, just because I get to want your love Honny just because I gotta get need,need,need your love, I said I don't understand honny when I wanna turn you high high high , Try..... Try..Try...Honny when everybody in the world whant's the same damm thing, when everyone in the world will need the same loonley thing, when I wanna work for your love dad when I wann try for your love dad, I don't understand,how come you're gone, man. I don't understand why half the world is still crying, man, when the other half the world is still crying too,\", \"got 365 days. You got it for one day, man. Well I tell you that one day man, better be your life man, because you know you could say oh man you could cry about the other 364 man, but you're gonna loose that one day man, and That's all you got. You gotta' call\", \"day, ma., So you gotta, when you wann hold somebody, you gotta hold 'em like it's the las minute of your life baby, you gotta hold hold hold......hold him 'cause some day some weight it's gonna come on your shoulders babe, it's gonna feel to hevy, it's gonna weigh on you, it's gonna feel just like a ball.....................oh dady and a chain..... There's a light, certain kinda light,\", 'Gonna sing at ya now. Do do do do do do do do do do do do do. Right now we\\'re gonna do ... we wanna do a song right now, I hope no one hangs around, one more little song, it\\'s all we gonna do, this is called \"the farewell song\" written by sam.', \"Ones goin' on next, and then us ? is that it ? ok, well you gotta stay and see that chick, man, she's out of sight. and you gotta stay and see us, too, so... please stay. last song ... thank you Ready!\", 'Do you, er, do you actually sit down when you get up in the morning and, and write out a song, or do you . . . when you say you write it, you compose it you write it on a paper.', \"Lord, Lord, whoaah!! Ha ha ha! ha. Whew! Whew! Wow! That's getting a little too close, too heavy here. That's Nick Gravenites, that was a tune called Ego Rock. No! ... All right, rock, rock & roll song Oh, ain't no problem\", \"If you got a cat for one day, man I mean, if you, say, say, if you want a cat for 365 days, right you ain't got him for 365 days, you got him for one day, man. well I tell you that one da\", \"Boy you're gonna make it through Sister, do you really believe that I can rise again Yes, and not only that, Rob, God will forgive you for your sins Can you tell me what to do? Well first you gotta believe the truth Sometimes it's hard to believe in Him That's okay because he believes in you The winds, the rain\", \"And we'll make it through (We'll make it through yeah) So, so what you're saying is believe a little more? Yes, cause faith is the key that will opens up the door What you're saying to me, it's hard to receive\", \"And besides you need this You know how church folk can be Boy I'm your sister, trust in me Mm Now hold on Maybe she's gone No Maybe we ought to just try... Hello Shh shh, hello, is Kim there? Yes, I think she's around here somewhere\", 'I treat you right you talk slick I beat you right Just me and my bitch But you know you love that ass dont you Yeah no question No question Yo let me ask you another question What You ever fuck around on me Why would I do that Yo dont lie to me motherfucker Moonlight strolls with the hoes oh no thats not my steelo']\n"
          ]
        }
      ],
      "source": [
        "words_count_0 = [sentence for sentence in raw_corpus if len(sentence.split()) == 0 ]\n",
        "words_count_1 = [sentence for sentence in raw_corpus if len(sentence.split()) == 1 ]\n",
        "words_count_over40 = [sentence for sentence in raw_corpus if len(sentence.split()) > 40 ]\n",
        "\n",
        "\n",
        "print(\"{:=^75}\".format(\" [단어 갯수가 0 인 문장] \"))\n",
        "print(\"* 단어갯수가 0인 문장 갯수: \",len(words_count_0))\n",
        "print(\"* 전체문장수 대비 단어갯수가 0인 문장 갯수 비율: \",len(words_count_0)/len(raw_corpus))\n",
        "print(\"* 단어갯수가 0인 문장 일부 확인 \\n\",words_count_0[10:15])\n",
        "print(\"* 단어갯수가 0인 문장 중복제거 \\n\",list(dict.fromkeys(words_count_0) ))\n",
        "\n",
        "\n",
        "print(\"\\n {:=^75}\".format(\" [단어 갯수가 1 인 문장] \"))\n",
        "print(\"* 단어갯수가 1인 문장 갯수: \",len(words_count_1))\n",
        "print(\"* 전체문장수 대비 단어갯수가 1인 문장 갯수 비율: \",len(words_count_1)/len(raw_corpus))\n",
        "print(\"* 단어갯수가 1인 문장 일부 확인 \\n\",words_count_1[10:15])\n",
        "print(\"* 단어갯수가 1인 문장 중복제거 \\n\",list(dict.fromkeys(words_count_1) ))\n",
        "\n",
        "\n",
        "\n",
        "print(\"\\n {:=^75}\".format(\" [단어 갯수가 40개 초과인 문장] \"))\n",
        "print(\"* 단어갯수가 40개 초과인 문장 갯수: \",len(words_count_over40))\n",
        "print(\"* 전체문장수 대비 단어갯수가 40개 초과인 문장 갯수 비율: \",len(words_count_over40)/len(raw_corpus))\n",
        "print(\"* 단어갯수가 40개 초과인 문장 일부 확인 \\n\",words_count_over40[10:15])\n",
        "print(\"* 단어갯수가 40개 초과인 문장 중복제거 \\n\",list(dict.fromkeys(words_count_over40) ))\n"
      ]
    },
    {
      "cell_type": "markdown",
      "metadata": {
        "id": "NOTq4g0m-lV2"
      },
      "source": [
        "\n",
        "위에서 본 데이터의 문장 일부를 출력해보니 특수문자가 들어가있는 문장들이 존재한다. 또한 공백으로만 이루어져있거나, 단어하나로만 이루어진 문장들이 존재하는것을 확인 할 수 있다. 이러한 요소는 앞으로 진행할 데이터 토큰화 과정에서 약간의 문제로 작용할 수 있\b기에 불필요한문자들을 제거하는 전처리과정을 진행하기로 한다."
      ]
    },
    {
      "cell_type": "markdown",
      "metadata": {
        "id": "IUIoROv--nqu"
      },
      "source": [
        "## **2. 데이터 전처리**"
      ]
    },
    {
      "cell_type": "markdown",
      "metadata": {
        "id": "EOcs3O9cDC_K"
      },
      "source": [
        "### **2-1. 정제(Cleaning) and 정규화(Normalization)**"
      ]
    },
    {
      "cell_type": "markdown",
      "metadata": {
        "id": "s5KKPLiADL7o"
      },
      "source": [
        "코퍼스에서 용도에 맞게 토큰을 분류하는 작업을 토큰화(tokenization)라고 하며, 토큰화 작업 전, 후에는 텍스트 데이터를 용도에 맞게 정제(cleaning) 및 정규화(normalization)하는 일이 항상 함께한다. 정제 및 정규화의 목적은 각각 다음과 같다.\n",
        "\n",
        "- 정제(cleaning) : 갖고 있는 코퍼스로부터 노이즈 데이터를 제거한다.\n",
        "- 정규화(normalization) : 표현 방법이 다른 단어들을 통합시켜서 같은 단어로 만들어준다.   \n",
        "\n",
        "정제 작업은 토큰화 작업에 방해가 되는 부분들을 배제시키고 토큰화 작업을 수행하기 위해서 토큰화 작업보다 앞서 이루어지기도 하지만, 토큰화 작업 이후에도 여전히 남아있는 노이즈들을 제거하기위해 지속적으로 이루어지기도 합니다. 사실 완벽한 정제 작업은 어려운 편이라서, 대부분의 경우 이 정도면 됐다.라는 일종의 합의점을 찾기도 합니다.\n",
        "\n"
      ]
    },
    {
      "cell_type": "markdown",
      "metadata": {
        "id": "-u8TY8uu_933"
      },
      "source": [
        "### **2-1. 정규표현식을 활용한 불필요한 문자 필터링**"
      ]
    },
    {
      "cell_type": "code",
      "execution_count": null,
      "metadata": {
        "id": "MMMXX3TR_Wyd"
      },
      "outputs": [],
      "source": [
        "##############################  공백,특수문자,문장부호,대소문자 정제하는 함수 정의  ##############################\n",
        "\n",
        "# 1. 소문자로 바꾸고, 양쪽 공백을 지운다\n",
        "# 2. 특수문자 양쪽에 공백을 넣고\n",
        "# 3. 여러개의 공백은 하나의 공백으로 바꾼다\n",
        "# 4. a-zA-Z?.!,¿가 아닌 모든 문자를 하나의 공백으로 바꾼다\n",
        "# 5. 다시 양쪽 공백을 지운다\n",
        "# 6. 문장 시작에는 <start>, 끝에는 <end>를 추가한다\n",
        "\n",
        "def preprocess_sentence(sentence):\n",
        "  if sentence[-1] == \":\" : sentence = \"\"\n",
        "  sentence = sentence.lower().strip() # 1\n",
        "  sentence = re.sub(r\"([?.!,¿])\", r\" \\1 \", sentence) # 2\n",
        "  sentence = re.sub(r'[\" \"]+', \" \", sentence) # 3\n",
        "  sentence = re.sub(r\"[^a-zA-Z?.!,¿]+\", \" \", sentence) # 4\n",
        "  sentence = sentence.strip() # 5\n",
        "  sentence = '<start> ' + sentence + ' <end>' # 6\n",
        "  return sentence "
      ]
    },
    {
      "cell_type": "code",
      "execution_count": null,
      "metadata": {
        "colab": {
          "base_uri": "https://localhost:8080/"
        },
        "id": "xpog1A42Teaf",
        "outputId": "7540d360-445a-4a72-8b45-f8d6cb0a3e9a"
      },
      "outputs": [
        {
          "data": {
            "text/plain": [
              "['<start> let s stay together i , i m i m so in love with you <end>',\n",
              " '<start> whatever you want to do <end>',\n",
              " '<start> is all right with me <end>',\n",
              " '<start> cause you make me feel so brand new <end>',\n",
              " '<start> and i want to spend my life with you let me say that since , baby , since we ve been together <end>',\n",
              " '<start> loving you forever <end>',\n",
              " '<start> is what i need <end>',\n",
              " '<start> let me , be the one you come running to <end>',\n",
              " '<start> i ll never be untrue oh baby <end>',\n",
              " '<start> let s , let s stay together gether <end>',\n",
              " '<start> lovin you whether , whether <end>',\n",
              " '<start> times are good or bad , happy or sad <end>',\n",
              " '<start> oh , oh , oh , oh , yeah <end>',\n",
              " '<start> whether times are good or bad , happy or sad why , why some people break up <end>',\n",
              " '<start> then turn around and make up <end>',\n",
              " '<start> i just can t see <end>',\n",
              " '<start> you d never do that to me would you , baby <end>',\n",
              " '<start> staying around you is all i see <end>',\n",
              " '<start> here s what i want us do let s , we oughta stay together gether <end>',\n",
              " '<start> loving you whether , whether <end>',\n",
              " '<start> times are good or bad , happy or sad <end>',\n",
              " '<start> come on <end>',\n",
              " '<start> let s stay , let s stay together let s stay together <end>',\n",
              " '<start> loving you whether , whether times are good or bad i can think of younger days when living for my life <end>',\n",
              " '<start> was everything a man could want to do <end>',\n",
              " '<start> i could never see tomorrow , but i was never told about the sorrow and how can you mend a broken heart ? <end>',\n",
              " '<start> how can you stop the rain from falling down ? <end>',\n",
              " '<start> how can you stop the sun from shining ? <end>',\n",
              " '<start> what makes the world go round ? <end>',\n",
              " '<start> how can you mend a this broken man ? <end>']"
            ]
          },
          "execution_count": 6,
          "metadata": {},
          "output_type": "execute_result"
        }
      ],
      "source": [
        "##############################  정제데이터 구축  ##############################\n",
        "corpus = [preprocess_sentence(sentence) for sentence in raw_corpus if len(sentence) != 0 ]\n",
        "corpus[:30]"
      ]
    },
    {
      "cell_type": "markdown",
      "metadata": {
        "id": "X_rhx5wPAROW"
      },
      "source": [
        "### **2-2. 데이터 토큰화 & 텐서 변환**"
      ]
    },
    {
      "cell_type": "code",
      "execution_count": null,
      "metadata": {
        "id": "PG-aPEJp_U5u"
      },
      "outputs": [],
      "source": [
        "##############################  데이터 토큰화를 위한 함수 정의  ############################## \n",
        "\n",
        "# 토큰화 할 때 텐서플로우의 Tokenizer와 pad_sequences를 사용합니다\n",
        "# 더 잘 알기 위해 아래 문서들을 참고하면 좋습니다\n",
        "# https://www.tensorflow.org/api_docs/python/tf/keras/preprocessing/text/Tokenizer\n",
        "# https://www.tensorflow.org/api_docs/python/tf/keras/preprocessing/sequence/pad_sequences\n",
        "def tokenize(corpus):\n",
        "    # 12,000단어를 기억할 수 있는 tokenizer를 만들겁니다\n",
        "    # 우리는 이미 문장을 정제했으니 filters가 필요없어요\n",
        "    # 12,000단어에 포함되지 못한 단어는 '<unk>'로 바꿀거에요\n",
        "    tokenizer = tf.keras.preprocessing.text.Tokenizer(\n",
        "        num_words=12000, \n",
        "        filters=' ',\n",
        "        oov_token=\"<unk>\"\n",
        "    )\n",
        "    # corpus를 이용해 tokenizer 내부의 단어장을 완성합니다\n",
        "    tokenizer.fit_on_texts(corpus)\n",
        "    # 준비한 tokenizer를 이용해 corpus를 Tensor로 변환합니다\n",
        "    tensor = tokenizer.texts_to_sequences(corpus)   \n",
        "    # 입력 데이터의 시퀀스 길이를 일정하게 맞춰줍니다\n",
        "    # 만약 시퀀스가 짧다면 문장 뒤에 패딩을 붙여 길이를 맞춰줍니다.\n",
        "    # 문장 앞에 패딩을 붙여 길이를 맞추고 싶다면 padding='pre'를 사용합니다\n",
        "    # 토큰화 했을 때 토큰의 개수가 20개를 넘어가는 문장을 학습 데이터에서 제외하기 \n",
        "    tensor = tf.keras.preprocessing.sequence.pad_sequences(tensor, padding='post',maxlen=20)  \n",
        "    \n",
        "    print(tensor,tokenizer)\n",
        "    return tensor, tokenizer\n"
      ]
    },
    {
      "cell_type": "code",
      "execution_count": null,
      "metadata": {
        "colab": {
          "base_uri": "https://localhost:8080/"
        },
        "id": "BW6zVfUzAoAd",
        "outputId": "89460f0b-552e-403c-e84e-31668b95511c"
      },
      "outputs": [
        {
          "name": "stdout",
          "output_type": "stream",
          "text": [
            "[[   2   63   16 ...    0    0    0]\n",
            " [   2  598    7 ...    0    0    0]\n",
            " [   2   26   24 ...    0    0    0]\n",
            " ...\n",
            " [   2  211    3 ...    0    0    0]\n",
            " [   2  400    9 ...    0    0    0]\n",
            " [   2    9 1296 ...    0    0    0]] <keras_preprocessing.text.Tokenizer object at 0x7f1a28265290>\n",
            "[[  2  63  16 222 283   5   4   5  22   5]\n",
            " [  2 598   7  62  10  47   3   0   0   0]\n",
            " [  2  26  24  84  31  12   3   0   0   0]]\n"
          ]
        }
      ],
      "source": [
        "##############################  토큰화된 텐서 데이터 생성 및 출력  ############################## \n",
        "tensor, tokenizer = tokenize(corpus)\n",
        "print(tensor[:3, :10]) #생성된 텐서 데이터를 3번째 행, 10번째 열까지만 출력해 봅시다."
      ]
    },
    {
      "cell_type": "code",
      "execution_count": null,
      "metadata": {
        "colab": {
          "base_uri": "https://localhost:8080/"
        },
        "id": "KLOOeDu3Cs2F",
        "outputId": "802e06e6-50ab-451c-eac5-e40a36b53dc3"
      },
      "outputs": [
        {
          "name": "stdout",
          "output_type": "stream",
          "text": [
            "1 : <unk>\n",
            "2 : <start>\n",
            "3 : <end>\n",
            "4 : ,\n",
            "5 : i\n",
            "6 : the\n",
            "7 : you\n",
            "8 : and\n",
            "9 : a\n",
            "10 : to\n"
          ]
        }
      ],
      "source": [
        "##############################  tokenizer에 구축된 단어 사전 확인  ############################## \n",
        "\n",
        "for idx in tokenizer.index_word:\n",
        "    print(idx, \":\", tokenizer.index_word[idx])\n",
        "\n",
        "    if idx >= 10: break"
      ]
    },
    {
      "cell_type": "code",
      "execution_count": null,
      "metadata": {
        "colab": {
          "base_uri": "https://localhost:8080/"
        },
        "id": "X_bvKkR1DGf3",
        "outputId": "0ed173e5-a158-458b-d6d8-43d1b3c8e09a"
      },
      "outputs": [
        {
          "name": "stdout",
          "output_type": "stream",
          "text": [
            "[  2  63  16 222 283   5   4   5  22   5  22  30  14  33  31   7   3   0\n",
            "   0]\n",
            "[ 63  16 222 283   5   4   5  22   5  22  30  14  33  31   7   3   0   0\n",
            "   0]\n"
          ]
        }
      ],
      "source": [
        "##############################  텐서를 소스와 타겟으로 분리  ############################## \n",
        "\n",
        "# tensor에서 마지막 토큰을 잘라내서 소스 문장을 생성합니다\n",
        "# 마지막 토큰은 <end>가 아니라 <pad>일 가능성이 높습니다.\n",
        "src_input = tensor[:, :-1]  \n",
        "# tensor에서 <start>를 잘라내서 타겟 문장을 생성합니다.\n",
        "tgt_input = tensor[:, 1:]    \n",
        "\n",
        "print(src_input[0])\n",
        "print(tgt_input[0])"
      ]
    },
    {
      "cell_type": "markdown",
      "metadata": {
        "id": "fNNPbK8tDrpB"
      },
      "source": [
        "### **2-3. 데이터셋(tf.data.Dataset) 객체 생성**"
      ]
    },
    {
      "cell_type": "code",
      "execution_count": null,
      "metadata": {
        "colab": {
          "base_uri": "https://localhost:8080/"
        },
        "id": "EnNqXMd32kgP",
        "outputId": "f376b283-9477-42e9-b1ed-e2c9fc61dbb5"
      },
      "outputs": [
        {
          "name": "stdout",
          "output_type": "stream",
          "text": [
            "Source Train:  (140788, 19)\n",
            "Target Train:  (140788, 19)\n"
          ]
        }
      ],
      "source": [
        "################### 학습, 테스트 데이터 나누기  ###############\n",
        "enc_train, enc_val, dec_train, dec_val = train_test_split(src_input, \n",
        "                                                          tgt_input,\n",
        "                                                          test_size=0.2,\n",
        "                                                          shuffle=True, \n",
        "                                                          random_state=121)\n",
        "\n",
        "\n",
        "\n",
        "print('Source Train: ', enc_train.shape)\n",
        "print('Target Train: ', dec_train.shape)"
      ]
    },
    {
      "cell_type": "code",
      "execution_count": null,
      "metadata": {
        "colab": {
          "base_uri": "https://localhost:8080/"
        },
        "id": "oPLB4L39DrpC",
        "outputId": "64d8981b-6b89-45d1-a8a0-b2570221aa4e"
      },
      "outputs": [
        {
          "data": {
            "text/plain": [
              "<BatchDataset element_spec=(TensorSpec(shape=(256, 19), dtype=tf.int32, name=None), TensorSpec(shape=(256, 19), dtype=tf.int32, name=None))>"
            ]
          },
          "execution_count": 12,
          "metadata": {},
          "output_type": "execute_result"
        }
      ],
      "source": [
        "##############################  tf.data.Dataset.from_tensor_slices() : tf.data.Dataset객체를 생성  ############################## \n",
        "\n",
        "BUFFER_SIZE = len(src_input)\n",
        "BATCH_SIZE = 256\n",
        "# steps_per_epoch = len(src_input) // BATCH_SIZE\n",
        "\n",
        "# tokenizer가 구축한 단어사전 내 12000개와, 여기 포함되지 않은 0:<pad>를 포함하여 12001개\n",
        "VOCAB_SIZE = tokenizer.num_words + 1   \n",
        "\n",
        "# 준비한 데이터 소스로부터 데이터셋을 만듭니다\n",
        "# 데이터셋에 대해서는 아래 문서를 참고하세요\n",
        "# 자세히 알아둘수록 도움이 많이 되는 중요한 문서입니다\n",
        "# https://www.tensorflow.org/api_docs/python/tf/data/Dataset\n",
        "dataset = tf.data.Dataset.from_tensor_slices((src_input, tgt_input))\n",
        "dataset = dataset.shuffle(BUFFER_SIZE)\n",
        "dataset = dataset.batch(BATCH_SIZE, drop_remainder=True)\n",
        "dataset"
      ]
    },
    {
      "cell_type": "markdown",
      "metadata": {
        "id": "jx-aSsS9UhvD"
      },
      "source": [
        "## **3. 모델 구현 및 평가**\n",
        "---"
      ]
    },
    {
      "cell_type": "markdown",
      "metadata": {
        "id": "6Fnrku28KjwZ"
      },
      "source": [
        "### **3-1. 모델 생성**"
      ]
    },
    {
      "cell_type": "code",
      "execution_count": null,
      "metadata": {
        "id": "CEYAOgRAEVHV"
      },
      "outputs": [],
      "source": [
        "##############################  모델구조  ############################## \n",
        "\n",
        "\n",
        "class TextGenerator(tf.keras.Model):\n",
        "    def __init__(self, vocab_size, embedding_size, hidden_size):\n",
        "        super().__init__()\n",
        "        \n",
        "        # representation: 의미 벡터 공간에서 단어의 추상적 표현으로 사용되도록 \n",
        "            # 입력텐서의 단어사전 인덱스값을 해당 인덱스번째의 워드 벡터로 밤꿔줌 \n",
        "        self.embedding = tf.keras.layers.Embedding(vocab_size, embedding_size)\n",
        "        self.rnn_1 = tf.keras.layers.LSTM(hidden_size, return_sequences=True)\n",
        "        self.rnn_2 = tf.keras.layers.LSTM(hidden_size, return_sequences=True)\n",
        "        self.linear = tf.keras.layers.Dense(vocab_size)\n",
        "\n",
        "    def call(self, x):\n",
        "        out = self.embedding(x)\n",
        "        out = self.rnn_1(out)\n",
        "        out = self.rnn_2(out)\n",
        "        out = self.linear(out)\n",
        "        \n",
        "        return out\n",
        "\n",
        "\n",
        "\n",
        "\n",
        "embedding_size = 20 \n",
        "hidden_size = 2000 \n",
        "\n",
        "\n",
        "model = TextGenerator(tokenizer.num_words + 1, embedding_size , hidden_size)"
      ]
    },
    {
      "cell_type": "markdown",
      "metadata": {
        "id": "8kMUis07EDO1"
      },
      "source": [
        "### **3-2. 모델 학습**\n"
      ]
    },
    {
      "cell_type": "markdown",
      "metadata": {
        "id": "qifr__LGMdQo"
      },
      "source": [
        "#### **3-2-1. 모델 구조 확인**\n"
      ]
    },
    {
      "cell_type": "code",
      "execution_count": null,
      "metadata": {
        "colab": {
          "base_uri": "https://localhost:8080/"
        },
        "id": "LR1nLmvhKu-3",
        "outputId": "8f091b5d-a2e4-47ee-d956-57b4752b8bb9"
      },
      "outputs": [
        {
          "data": {
            "text/plain": [
              "<tf.Tensor: shape=(256, 19, 12001), dtype=float32, numpy=\n",
              "array([[[-1.67036637e-06,  2.37896347e-06, -2.94493420e-05, ...,\n",
              "          4.08373126e-05,  1.57522427e-05, -2.84374109e-05],\n",
              "        [ 2.03639520e-05, -4.18423515e-05, -1.36453935e-04, ...,\n",
              "          7.67088659e-06, -7.93689469e-06, -9.01278472e-05],\n",
              "        [-2.70104720e-05, -4.12160989e-05, -2.18690038e-04, ...,\n",
              "         -3.33810603e-05, -2.11230545e-05, -1.42800593e-04],\n",
              "        ...,\n",
              "        [ 2.00014274e-05, -5.09017962e-04,  2.60916160e-04, ...,\n",
              "          2.86882569e-04, -2.76135514e-04,  1.18806413e-04],\n",
              "        [-2.22591152e-05, -6.05480105e-04,  2.08397847e-04, ...,\n",
              "          3.02605506e-04, -3.39197082e-04,  1.48113395e-04],\n",
              "        [-6.37937483e-05, -6.92480942e-04,  1.64300320e-04, ...,\n",
              "          3.06288683e-04, -3.94686213e-04,  1.79276380e-04]],\n",
              "\n",
              "       [[-1.67036637e-06,  2.37896347e-06, -2.94493420e-05, ...,\n",
              "          4.08373126e-05,  1.57522427e-05, -2.84374109e-05],\n",
              "        [ 2.53311664e-05,  1.23425139e-04, -5.38691820e-05, ...,\n",
              "          7.51025000e-05, -2.79895698e-06, -2.00269606e-05],\n",
              "        [ 6.90199449e-05,  1.28341737e-04, -1.25021836e-06, ...,\n",
              "          1.14408365e-04,  3.02465378e-05, -1.05499093e-04],\n",
              "        ...,\n",
              "        [-3.69155430e-04, -9.33272764e-04,  3.80818201e-05, ...,\n",
              "          1.78598231e-04, -5.41409245e-04,  2.59437191e-04],\n",
              "        [-3.75837350e-04, -9.88951419e-04,  3.44467953e-05, ...,\n",
              "          1.70195170e-04, -5.66580624e-04,  2.80871231e-04],\n",
              "        [-3.79574951e-04, -1.03622372e-03,  3.42798558e-05, ...,\n",
              "          1.62153694e-04, -5.88893075e-04,  2.97083869e-04]],\n",
              "\n",
              "       [[-1.31212128e-05, -7.18032743e-06,  6.36466575e-05, ...,\n",
              "          1.98296511e-05,  1.19683609e-05,  5.26196200e-05],\n",
              "        [-3.03947763e-05, -3.77793804e-05,  5.25074938e-06, ...,\n",
              "         -6.37671974e-06, -3.76163989e-05,  1.47680053e-04],\n",
              "        [-5.64917682e-05, -6.97278956e-05,  2.89191539e-05, ...,\n",
              "         -2.52735772e-05, -4.28107924e-05,  2.44147435e-04],\n",
              "        ...,\n",
              "        [-2.67652217e-06, -2.32517254e-04, -1.50561376e-04, ...,\n",
              "         -2.23939845e-04, -4.83648764e-05,  1.32278306e-04],\n",
              "        [-3.32427699e-05, -1.76868780e-04, -1.05301900e-04, ...,\n",
              "         -2.43169168e-04, -3.58177640e-05,  4.14294664e-05],\n",
              "        [-6.81601741e-05, -1.53081302e-04, -1.43494064e-04, ...,\n",
              "         -2.51961814e-04, -9.07244612e-05,  3.77019496e-05]],\n",
              "\n",
              "       ...,\n",
              "\n",
              "       [[-1.67036637e-06,  2.37896347e-06, -2.94493420e-05, ...,\n",
              "          4.08373126e-05,  1.57522427e-05, -2.84374109e-05],\n",
              "        [-2.16039880e-05,  2.98979649e-06,  3.90760433e-05, ...,\n",
              "          9.56349759e-05,  1.12223524e-05, -2.33133414e-05],\n",
              "        [-1.46769548e-06, -6.86978310e-05,  5.45980838e-05, ...,\n",
              "          1.22636324e-04,  3.21481730e-06, -2.57683696e-05],\n",
              "        ...,\n",
              "        [-3.13498691e-04, -1.05890224e-03,  2.14159700e-05, ...,\n",
              "          1.94790569e-04, -6.37364865e-04,  3.21764906e-04],\n",
              "        [-3.20661988e-04, -1.09459634e-03,  2.50470512e-05, ...,\n",
              "          1.76554662e-04, -6.51118695e-04,  3.31931747e-04],\n",
              "        [-3.25760542e-04, -1.12514442e-03,  3.08152084e-05, ...,\n",
              "          1.60674987e-04, -6.63091720e-04,  3.38154641e-04]],\n",
              "\n",
              "       [[-1.67036637e-06,  2.37896347e-06, -2.94493420e-05, ...,\n",
              "          4.08373126e-05,  1.57522427e-05, -2.84374109e-05],\n",
              "        [ 2.14088650e-05,  3.78349478e-06, -7.95360465e-05, ...,\n",
              "          7.79926486e-05, -3.83203369e-05, -1.13004319e-06],\n",
              "        [ 5.08788980e-05, -1.19580531e-04, -7.43662213e-06, ...,\n",
              "          1.96972527e-04, -1.35836730e-04,  3.45535082e-05],\n",
              "        ...,\n",
              "        [-1.27314670e-05,  1.54241076e-04,  1.89278944e-04, ...,\n",
              "          2.37808968e-06, -8.85610716e-05,  8.23198061e-05],\n",
              "        [-5.67244824e-05,  1.13404771e-04,  2.46427575e-04, ...,\n",
              "          3.06056463e-05, -1.42832301e-04,  1.20282195e-04],\n",
              "        [-9.85897859e-05,  1.51131599e-05,  2.63195368e-04, ...,\n",
              "          7.03487312e-05, -2.07255987e-04,  1.44761754e-04]],\n",
              "\n",
              "       [[-1.67036637e-06,  2.37896347e-06, -2.94493420e-05, ...,\n",
              "          4.08373126e-05,  1.57522427e-05, -2.84374109e-05],\n",
              "        [ 1.81693722e-05, -8.32473015e-05, -2.99499243e-05, ...,\n",
              "          9.81726989e-05, -2.71619101e-05,  1.68354891e-05],\n",
              "        [ 4.60405026e-05, -1.24497674e-04, -5.43250899e-05, ...,\n",
              "          1.85590747e-04, -5.48787393e-05, -2.78962689e-05],\n",
              "        ...,\n",
              "        [-2.60105153e-04, -8.93691787e-04,  4.54526089e-05, ...,\n",
              "          1.85853307e-04, -6.34871714e-04,  2.62862857e-04],\n",
              "        [-2.73451034e-04, -9.53242299e-04,  4.32725828e-05, ...,\n",
              "          1.74768909e-04, -6.51526672e-04,  2.85000424e-04],\n",
              "        [-2.84102774e-04, -1.00517168e-03,  4.34860376e-05, ...,\n",
              "          1.63900055e-04, -6.65641739e-04,  3.02274449e-04]]],\n",
              "      dtype=float32)>"
            ]
          },
          "execution_count": 14,
          "metadata": {},
          "output_type": "execute_result"
        }
      ],
      "source": [
        "##############################  모델구조 확인을 위해 하나의 배치만 가지고오기  ############################## \n",
        "\n",
        "for src_sample, tgt_sample in dataset.take(1): break\n",
        "\n",
        "model(src_sample) # 한 배치만 불러온 데이터를 모델에 넣어봄"
      ]
    },
    {
      "cell_type": "code",
      "execution_count": null,
      "metadata": {
        "colab": {
          "base_uri": "https://localhost:8080/"
        },
        "id": "DJzh4j_SK5PA",
        "outputId": "b79a6e48-c7dc-4afb-c95f-df17862acbe6"
      },
      "outputs": [
        {
          "name": "stdout",
          "output_type": "stream",
          "text": [
            "Model: \"text_generator\"\n",
            "_________________________________________________________________\n",
            " Layer (type)                Output Shape              Param #   \n",
            "=================================================================\n",
            " embedding (Embedding)       multiple                  240020    \n",
            "                                                                 \n",
            " lstm (LSTM)                 multiple                  16168000  \n",
            "                                                                 \n",
            " lstm_1 (LSTM)               multiple                  32008000  \n",
            "                                                                 \n",
            " dense (Dense)               multiple                  24014001  \n",
            "                                                                 \n",
            "=================================================================\n",
            "Total params: 72,430,021\n",
            "Trainable params: 72,430,021\n",
            "Non-trainable params: 0\n",
            "_________________________________________________________________\n"
          ]
        }
      ],
      "source": [
        "model.summary()"
      ]
    },
    {
      "cell_type": "markdown",
      "metadata": {
        "id": "Hm3KdUNVLFKH"
      },
      "source": [
        "#### **3-2-2. 모델 학습**\n"
      ]
    },
    {
      "cell_type": "code",
      "execution_count": null,
      "metadata": {
        "colab": {
          "base_uri": "https://localhost:8080/"
        },
        "id": "Eb9yW6Btmp2f",
        "outputId": "297273d2-e600-4dc9-a08a-b5baa6f29dad"
      },
      "outputs": [
        {
          "name": "stdout",
          "output_type": "stream",
          "text": [
            "WARNING:tensorflow:From <ipython-input-16-050fdbe178ac>:2: is_gpu_available (from tensorflow.python.framework.test_util) is deprecated and will be removed in a future version.\n",
            "Instructions for updating:\n",
            "Use `tf.config.list_physical_devices('GPU')` instead.\n"
          ]
        },
        {
          "data": {
            "text/plain": [
              "True"
            ]
          },
          "execution_count": 16,
          "metadata": {},
          "output_type": "execute_result"
        }
      ],
      "source": [
        "###################### \n",
        "tf.test.is_gpu_available()"
      ]
    },
    {
      "cell_type": "code",
      "execution_count": null,
      "metadata": {
        "colab": {
          "base_uri": "https://localhost:8080/"
        },
        "id": "nxJC0paqMlX6",
        "outputId": "bd73be97-c8fd-4eb2-b08a-f3990129070f"
      },
      "outputs": [
        {
          "name": "stdout",
          "output_type": "stream",
          "text": [
            "Epoch 1/10\n",
            "550/550 [==============================] - 182s 323ms/step - loss: 3.0898 - val_loss: 2.6975\n",
            "Epoch 2/10\n",
            "550/550 [==============================] - 177s 321ms/step - loss: 2.5709 - val_loss: 2.4839\n",
            "Epoch 3/10\n",
            "550/550 [==============================] - 177s 321ms/step - loss: 2.3928 - val_loss: 2.3722\n",
            "Epoch 4/10\n",
            "550/550 [==============================] - 177s 321ms/step - loss: 2.2534 - val_loss: 2.2884\n",
            "Epoch 5/10\n",
            "550/550 [==============================] - 177s 321ms/step - loss: 2.1196 - val_loss: 2.2091\n",
            "Epoch 6/10\n",
            "550/550 [==============================] - 177s 321ms/step - loss: 1.9816 - val_loss: 2.1451\n",
            "Epoch 7/10\n",
            "550/550 [==============================] - 176s 320ms/step - loss: 1.8402 - val_loss: 2.0823\n",
            "Epoch 8/10\n",
            "550/550 [==============================] - 176s 320ms/step - loss: 1.6980 - val_loss: 2.0346\n",
            "Epoch 9/10\n",
            "550/550 [==============================] - 176s 321ms/step - loss: 1.5576 - val_loss: 1.9944\n",
            "Epoch 10/10\n",
            "550/550 [==============================] - 177s 321ms/step - loss: 1.4226 - val_loss: 1.9673\n"
          ]
        }
      ],
      "source": [
        "# optimizer와 loss등은 차차 배웁니다\n",
        "# 혹시 미리 알고 싶다면 아래 문서를 참고하세요\n",
        "# https://www.tensorflow.org/api_docs/python/tf/keras/optimizers\n",
        "# https://www.tensorflow.org/api_docs/python/tf/keras/losses\n",
        "# 양이 상당히 많은 편이니 지금 보는 것은 추천하지 않습니다\n",
        "optimizer = tf.keras.optimizers.Adam()\n",
        "# tf.keras.optimizers.RMSprop(lr=0.001, rho=0.9, epsilon=1e-06)\n",
        "\n",
        "loss = tf.keras.losses.SparseCategoricalCrossentropy(\n",
        "    from_logits=True,\n",
        "    reduction='none'\n",
        ")\n",
        "epochs = 10\n",
        "\n",
        "\n",
        "model.compile(loss=loss, optimizer=optimizer)\n",
        "history = model.fit(enc_train, \n",
        "          dec_train, \n",
        "          epochs=epochs,\n",
        "          batch_size=256,\n",
        "          validation_data=(enc_val, dec_val), \n",
        "          verbose=1)\n"
      ]
    },
    {
      "cell_type": "code",
      "execution_count": null,
      "metadata": {
        "colab": {
          "base_uri": "https://localhost:8080/",
          "height": 278
        },
        "id": "15AKaScOSDhQ",
        "outputId": "a23a224c-ad79-4535-88f1-0cfc23cb282e"
      },
      "outputs": [
        {
          "data": {
            "image/png": "[encoded data removed]",
            "text/plain": [
              "<Figure size 432x288 with 1 Axes>"
            ]
          },
          "metadata": {
            "image/png": {
              "height": 261,
              "width": 392
            },
            "needs_background": "light"
          },
          "output_type": "display_data"
        }
      ],
      "source": [
        "\n",
        " #################### epoch 별 loss 시각화 #################################################\n",
        "y_vloss = history.history['val_loss']\n",
        "y_loss = history.history['loss']\n",
        "\n",
        "x_len = np.arange(len(y_loss))\n",
        "plt.plot(x_len, y_vloss, marker='.', c='red', label=\"Validation-set Loss\")\n",
        "plt.plot(x_len, y_loss, marker='.', c='blue', label=\"Train-set Loss\")\n",
        "\n",
        "plt.legend(loc='upper right')\n",
        "plt.grid()\n",
        "plt.xlabel('epoch')\n",
        "plt.ylabel('loss')\n",
        "plt.show()"
      ]
    },
    {
      "cell_type": "markdown",
      "metadata": {
        "id": "AfoSgiUYMsAS"
      },
      "source": [
        "### **3-3. 모델 평가**\n"
      ]
    },
    {
      "cell_type": "code",
      "execution_count": null,
      "metadata": {
        "id": "czVrgjeaMt5T"
      },
      "outputs": [],
      "source": [
        "\n",
        "##############################  작문수행하는 함수 정의  ############################## \n",
        "# 모델에게 시작 문장을 전달하면 모델이 시작 문장을 바탕으로 작문\n",
        "\n",
        "def generate_text(model, tokenizer, init_sentence=\"<start>\", max_len=20):\n",
        "    # 테스트를 위해서 입력받은 init_sentence도 텐서로 변환합니다\n",
        "    test_input = tokenizer.texts_to_sequences([init_sentence])\n",
        "    test_tensor = tf.convert_to_tensor(test_input, dtype=tf.int64)\n",
        "    end_token = tokenizer.word_index[\"<end>\"]\n",
        "\n",
        "    # 단어 하나씩 예측해 문장을 만듭니다\n",
        "    #    1. 입력받은 문장의 텐서를 입력합니다\n",
        "    #    2. 예측된 값 중 가장 높은 확률인 word index를 뽑아냅니다\n",
        "    #    3. 2에서 예측된 word index를 문장 뒤에 붙입니다\n",
        "    #    4. 모델이 <end>를 예측했거나, max_len에 도달했다면 문장 생성을 마칩니다\n",
        "    while True:\n",
        "        # 1\n",
        "        predict = model(test_tensor) \n",
        "        # 2\n",
        "        predict_word = tf.argmax(tf.nn.softmax(predict, axis=-1), axis=-1)[:, -1] \n",
        "        # 3 \n",
        "        test_tensor = tf.concat([test_tensor, tf.expand_dims(predict_word, axis=0)], axis=-1)\n",
        "        # 4\n",
        "        if predict_word.numpy()[0] == end_token: break\n",
        "        if test_tensor.shape[1] >= max_len: break\n",
        "\n",
        "    generated = \"\"\n",
        "    # tokenizer를 이용해 word index를 단어로 하나씩 변환합니다 \n",
        "    for word_index in test_tensor[0].numpy():\n",
        "        generated += tokenizer.index_word[word_index] + \" \"\n",
        "\n",
        "    return generated"
      ]
    },
    {
      "cell_type": "code",
      "execution_count": null,
      "metadata": {
        "colab": {
          "base_uri": "https://localhost:8080/",
          "height": 36
        },
        "id": "K0OctMxsNNX6",
        "outputId": "29bace37-fc37-4efe-866f-5e60b9e53cd2"
      },
      "outputs": [
        {
          "data": {
            "application/vnd.google.colaboratory.intrinsic+json": {
              "type": "string"
            },
            "text/plain": [
              "'<start> i love you , i m not gonna crack <end> '"
            ]
          },
          "execution_count": 21,
          "metadata": {},
          "output_type": "execute_result"
        }
      ],
      "source": [
        "##############################  작문수행 함수 실행  ############################## \n",
        "generate_text(model, tokenizer, init_sentence=\"<start> i love\", max_len=20)"
      ]
    },
    {
      "cell_type": "code",
      "execution_count": null,
      "metadata": {
        "colab": {
          "base_uri": "https://localhost:8080/",
          "height": 36
        },
        "id": "1j7RZ2FAdB8_",
        "outputId": "f889c3fc-501a-4d31-ce89-4a5e0a5b7acd"
      },
      "outputs": [
        {
          "data": {
            "application/vnd.google.colaboratory.intrinsic+json": {
              "type": "string"
            },
            "text/plain": [
              "'<start> i am not throwing away my shot <end> '"
            ]
          },
          "execution_count": 24,
          "metadata": {},
          "output_type": "execute_result"
        }
      ],
      "source": [
        "generate_text(model, tokenizer, init_sentence=\"<start> i am\", max_len=20)"
      ]
    },
    {
      "cell_type": "code",
      "execution_count": null,
      "metadata": {
        "colab": {
          "base_uri": "https://localhost:8080/",
          "height": 36
        },
        "id": "SvnbU_RdiZ8_",
        "outputId": "18be2866-63f0-4699-b95c-c87d37c25597"
      },
      "outputs": [
        {
          "data": {
            "application/vnd.google.colaboratory.intrinsic+json": {
              "type": "string"
            },
            "text/plain": [
              "'<start> your love is fadin <end> '"
            ]
          },
          "execution_count": 28,
          "metadata": {},
          "output_type": "execute_result"
        }
      ],
      "source": [
        "generate_text(model, tokenizer, init_sentence=\"<start> your love\", max_len=20)"
      ]
    }
  ],
  "metadata": {
    "accelerator": "GPU",
    "colab": {
      "collapsed_sections": [],
      "machine_shape": "hm",
      "name": "[E06] Building LSTM Model: Lyrics Generator.ipynb",
      "provenance": []
    },
    "kernelspec": {
      "display_name": "Python 3",
      "name": "python3"
    },
    "language_info": {
      "name": "python"
    }
  },
  "nbformat": 4,
  "nbformat_minor": 0
}
