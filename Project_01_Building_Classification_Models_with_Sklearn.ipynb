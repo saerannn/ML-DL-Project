{
  "nbformat": 4,
  "nbformat_minor": 0,
  "metadata": {
    "colab": {
      "name": "Project_01_Building Classification Models with Sklearn.ipynb",
      "provenance": [],
      "collapsed_sections": []
    },
    "kernelspec": {
      "name": "python3",
      "display_name": "Python 3"
    },
    "language_info": {
      "name": "python"
    }
  },
  "cells": [
    {
      "cell_type": "markdown",
      "source": [
        "# **Building Classification Models with Sklearn**\n",
        "\n"
      ],
      "metadata": {
        "id": "zY-sEKzjJg2q"
      }
    },
    {
      "cell_type": "markdown",
      "source": [
        "## **프로젝트 요약**\n",
        "----\n",
        "\n",
        "> 본 프로젝트는 sklearn패키지를 활용하여 다양한 분류모델을 구현하고 성능을 평가한 후 최종적으로는 최적의 모델을 선정하는 것을 목표로 한다. \n",
        "<br>\n",
        "이를 위해 sklearn패키지에서 제공하는 분류용 예제 데이터셋인 손글씨숫자데이터, 와인데이터, 유방암진단데이터 를 사용하였다.\n",
        "<br>\n",
        "각 프로젝트는 ~~~~단계로 이루어져있다.(수행하였다)\n",
        "<br>\n",
        "손글씨 프로젝트 결과(데이터셋소개-전처리-모델링-평가)\n",
        "<br>\n",
        "와인 프로젝트 결과\n",
        "<br>\n",
        "유방암 프로젝트 결과\n",
        "<br>\n",
        "회고 **적기**"
      ],
      "metadata": {
        "id": "MTdveC8_KMD8"
      }
    },
    {
      "cell_type": "markdown",
      "source": [
        "## **목차**\n",
        "- [**1. 손글씨 이미지 분류**](#--1-------------)\n",
        "  * [**1-0. 문제 정의**](#--1-0--------)\n",
        "  * [**1-1. 데이터 불러오기**](#--1-1-----------)\n",
        "  * [**1-2. \b탐색적 데이터 분석 및 전처리**](#--1-2--------------------)\n",
        "  * [**1-3. 피쳐 엔지니어링**](#--1-3-----------)\n",
        "  * [**1-4. 모델 구현 및 평가**](#--1-4-------------)\n"
      ],
      "metadata": {
        "id": "cEunjkFVzWsI"
      }
    },
    {
      "cell_type": "markdown",
      "source": [
        "## **1. 손글씨 이미지 분류** <a class=\"anchor\" id=\"chapter1\"></a> \n",
        "---"
      ],
      "metadata": {
        "id": "Sy6DkHj5PIIA"
      }
    },
    {
      "cell_type": "markdown",
      "source": [
        "### **1-0. 문제 정의**\n",
        "- 이슈 파악 및 문제 도출\n",
        "- 분석 데이터 정의\n",
        "- 모델링 task 정의"
      ],
      "metadata": {
        "id": "_-_xF4PJT_em"
      }
    },
    {
      "cell_type": "markdown",
      "source": [
        "### **1-1. 데이터 불러오기**"
      ],
      "metadata": {
        "id": "o9icB7ejPZfp"
      }
    },
    {
      "cell_type": "markdown",
      "source": [
        "### **1-2. \b탐색적 데이터 분석 및 전처리**\n",
        "> - Feature Data 지정하기\n",
        "> - Label Data 지정하기\n",
        "> - Target Names 출력해 보기\n",
        "> - 데이터 Describe 해 보기\n"
      ],
      "metadata": {
        "id": "1kJWs27mTRy1"
      }
    },
    {
      "cell_type": "markdown",
      "source": [
        "### **1-3. 피쳐 엔지니어링**"
      ],
      "metadata": {
        "id": "INPrHx7_UcRH"
      }
    },
    {
      "cell_type": "code",
      "source": [
        ""
      ],
      "metadata": {
        "id": "ZWSHiiaNXIam"
      },
      "execution_count": null,
      "outputs": []
    },
    {
      "cell_type": "markdown",
      "source": [
        "### **1-4. 모델 구현 및 평가**\n",
        "- 예측 모델 학습\n",
        "- 모델 성능 개선\n",
        "- 성능 평가\n",
        "- 최종 모델 선정"
      ],
      "metadata": {
        "id": "jx-aSsS9UhvD"
      }
    },
    {
      "cell_type": "code",
      "execution_count": null,
      "metadata": {
        "id": "tIcQNofjJdr6"
      },
      "outputs": [],
      "source": [
        ""
      ]
    }
  ]
}