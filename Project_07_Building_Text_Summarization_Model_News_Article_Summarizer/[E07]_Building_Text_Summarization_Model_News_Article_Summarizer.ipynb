{
  "nbformat": 4,
  "nbformat_minor": 0,
  "metadata": {
    "colab": {
      "name": "\b[E07] Building Text Summarization Model: News Article Summarizer.ipynb",
      "provenance": [],
      "collapsed_sections": [],
      "toc_visible": true,
      "machine_shape": "hm",
      "authorship_tag": "ABX9TyOp4VytZUy/PF1fbmWzaQlk",
      "include_colab_link": true
    },
    "kernelspec": {
      "name": "python3",
      "display_name": "Python 3"
    },
    "language_info": {
      "name": "python"
    },
    "accelerator": "GPU"
  },
  "cells": [
    {
      "cell_type": "markdown",
      "metadata": {
        "id": "view-in-github",
        "colab_type": "text"
      },
      "source": [
        "<a href=\"https://colab.research.google.com/github/saerannn/ML-DL-Project/blob/main/Project_07_Building_Text_Summarization_Model_News_Article_Summarizer/%5BE07%5D_Building_Text_Summarization_Model_News_Article_Summarizer.ipynb\" target=\"_parent\"><img src=\"https://colab.research.google.com/assets/colab-badge.svg\" alt=\"Open In Colab\"/></a>"
      ]
    },
    {
      "cell_type": "markdown",
      "source": [
        "## **Project_07_Building Text Summarization Model: News Article Summarizer**"
      ],
      "metadata": {
        "id": "c75Vc6sMfGGU"
      }
    },
    {
      "cell_type": "markdown",
      "source": [
        "# **1. 추상적 요약**\n",
        "----"
      ],
      "metadata": {
        "id": "EuDEAkWTFmBL"
      }
    },
    {
      "cell_type": "markdown",
      "source": [
        "## **1-1. 데이터 불러오기 및 확인**\n",
        "---"
      ],
      "metadata": {
        "id": "o9icB7ejPZfp"
      }
    },
    {
      "cell_type": "markdown",
      "source": [
        "### **1-1-1. 라이브러리 불러오기**"
      ],
      "metadata": {
        "id": "tjtM3YZxS_FT"
      }
    },
    {
      "cell_type": "code",
      "source": [
        "############################################## 라이브러리 불러오기 #####################################################\n",
        "\n",
        "# !pip install summa\n",
        "import nltk\n",
        "nltk.download('stopwords')\n",
        "import requests\n",
        "from summa.summarizer import summarize\n",
        "import numpy as np\n",
        "import pandas as pd\n",
        "from locale import Error\n",
        "import os\n",
        "import re\n",
        "import matplotlib.pyplot as plt\n",
        "from nltk.corpus import stopwords\n",
        "from bs4 import BeautifulSoup \n",
        "from tensorflow.keras.preprocessing.text import Tokenizer \n",
        "from tensorflow.keras.preprocessing.sequence import pad_sequences\n",
        "from tensorflow.keras.layers import Input, LSTM, Embedding, Dense, Concatenate, TimeDistributed\n",
        "from tensorflow.keras.models import Model\n",
        "from tensorflow.keras.callbacks import EarlyStopping, ModelCheckpoint\n",
        "import requests\n",
        "from summa.summarizer import summarize\n",
        "\n",
        "from sklearn.model_selection import train_test_split\n",
        "import urllib.request\n",
        "import warnings\n",
        "warnings.filterwarnings(\"ignore\", category=UserWarning, module='bs4')\n",
        "\n"
      ],
      "metadata": {
        "colab": {
          "base_uri": "https://localhost:8080/"
        },
        "id": "5Mtd2m8WtnSv",
        "outputId": "73537b3e-08fe-4118-fd50-27ad057a07ba"
      },
      "execution_count": 204,
      "outputs": [
        {
          "output_type": "stream",
          "name": "stdout",
          "text": [
            "[nltk_data] Downloading package stopwords to /root/nltk_data...\n",
            "[nltk_data]   Package stopwords is already up-to-date!\n"
          ]
        }
      ]
    },
    {
      "cell_type": "markdown",
      "source": [
        "### **1-1-2. 데이터 불러오기**"
      ],
      "metadata": {
        "id": "A8Nf4WPEin9L"
      }
    },
    {
      "cell_type": "code",
      "source": [
        "############################################## \b데이터불러오기 #####################################################\n",
        "import urllib.request\n",
        "urllib.request.urlretrieve(\"https://raw.githubusercontent.com/sunnysai12345/News_Summary/master/news_summary_more.csv\", filename=\"news_summary_more.csv\")\n",
        "data = pd.read_csv('news_summary_more.csv', encoding='iso-8859-1')\n",
        "data['Summary'] = data['headlines']\n",
        "data = data.rename(columns={\"['Text']\":'Text\b'})\n",
        "data['Text'] = data['text']\n",
        "data = data[['Summary', 'Text']]\n",
        "data"
      ],
      "metadata": {
        "colab": {
          "base_uri": "https://localhost:8080/",
          "height": 423
        },
        "id": "_ahPGpPDhQyV",
        "outputId": "2122f97d-e0fa-4a2a-8243-390961d9866a"
      },
      "execution_count": 205,
      "outputs": [
        {
          "output_type": "execute_result",
          "data": {
            "text/plain": [
              "                                                 Summary  \\\n",
              "0      upGrad learner switches to career in ML & Al w...   \n",
              "1      Delhi techie wins free food from Swiggy for on...   \n",
              "2      New Zealand end Rohit Sharma-led India's 12-ma...   \n",
              "3      Aegon life iTerm insurance plan helps customer...   \n",
              "4      Have known Hirani for yrs, what if MeToo claim...   \n",
              "...                                                  ...   \n",
              "98396  CRPF jawan axed to death by Maoists in Chhatti...   \n",
              "98397  First song from Sonakshi Sinha's 'Noor' titled...   \n",
              "98398         'The Matrix' film to get a reboot: Reports   \n",
              "98399  Snoop Dogg aims gun at clown dressed as Trump ...   \n",
              "98400  Madhesi Morcha withdraws support to Nepalese g...   \n",
              "\n",
              "                                                    Text  \n",
              "0      Saurav Kant, an alumnus of upGrad and IIIT-B's...  \n",
              "1      Kunal Shah's credit card bill payment platform...  \n",
              "2      New Zealand defeated India by 8 wickets in the...  \n",
              "3      With Aegon Life iTerm Insurance plan, customer...  \n",
              "4      Speaking about the sexual harassment allegatio...  \n",
              "...                                                  ...  \n",
              "98396  A CRPF jawan was on Tuesday axed to death with...  \n",
              "98397  'Uff Yeh', the first song from the Sonakshi Si...  \n",
              "98398  According to reports, a new version of the 199...  \n",
              "98399  A new music video shows rapper Snoop Dogg aimi...  \n",
              "98400  Madhesi Morcha, an alliance of seven political...  \n",
              "\n",
              "[98401 rows x 2 columns]"
            ],
            "text/html": [
              "\n",
              "  <div id=\"df-bf23f037-c830-4845-ad9f-d71cde9d51cd\">\n",
              "    <div class=\"colab-df-container\">\n",
              "      <div>\n",
              "<style scoped>\n",
              "    .dataframe tbody tr th:only-of-type {\n",
              "        vertical-align: middle;\n",
              "    }\n",
              "\n",
              "    .dataframe tbody tr th {\n",
              "        vertical-align: top;\n",
              "    }\n",
              "\n",
              "    .dataframe thead th {\n",
              "        text-align: right;\n",
              "    }\n",
              "</style>\n",
              "<table border=\"1\" class=\"dataframe\">\n",
              "  <thead>\n",
              "    <tr style=\"text-align: right;\">\n",
              "      <th></th>\n",
              "      <th>Summary</th>\n",
              "      <th>Text</th>\n",
              "    </tr>\n",
              "  </thead>\n",
              "  <tbody>\n",
              "    <tr>\n",
              "      <th>0</th>\n",
              "      <td>upGrad learner switches to career in ML &amp; Al w...</td>\n",
              "      <td>Saurav Kant, an alumnus of upGrad and IIIT-B's...</td>\n",
              "    </tr>\n",
              "    <tr>\n",
              "      <th>1</th>\n",
              "      <td>Delhi techie wins free food from Swiggy for on...</td>\n",
              "      <td>Kunal Shah's credit card bill payment platform...</td>\n",
              "    </tr>\n",
              "    <tr>\n",
              "      <th>2</th>\n",
              "      <td>New Zealand end Rohit Sharma-led India's 12-ma...</td>\n",
              "      <td>New Zealand defeated India by 8 wickets in the...</td>\n",
              "    </tr>\n",
              "    <tr>\n",
              "      <th>3</th>\n",
              "      <td>Aegon life iTerm insurance plan helps customer...</td>\n",
              "      <td>With Aegon Life iTerm Insurance plan, customer...</td>\n",
              "    </tr>\n",
              "    <tr>\n",
              "      <th>4</th>\n",
              "      <td>Have known Hirani for yrs, what if MeToo claim...</td>\n",
              "      <td>Speaking about the sexual harassment allegatio...</td>\n",
              "    </tr>\n",
              "    <tr>\n",
              "      <th>...</th>\n",
              "      <td>...</td>\n",
              "      <td>...</td>\n",
              "    </tr>\n",
              "    <tr>\n",
              "      <th>98396</th>\n",
              "      <td>CRPF jawan axed to death by Maoists in Chhatti...</td>\n",
              "      <td>A CRPF jawan was on Tuesday axed to death with...</td>\n",
              "    </tr>\n",
              "    <tr>\n",
              "      <th>98397</th>\n",
              "      <td>First song from Sonakshi Sinha's 'Noor' titled...</td>\n",
              "      <td>'Uff Yeh', the first song from the Sonakshi Si...</td>\n",
              "    </tr>\n",
              "    <tr>\n",
              "      <th>98398</th>\n",
              "      <td>'The Matrix' film to get a reboot: Reports</td>\n",
              "      <td>According to reports, a new version of the 199...</td>\n",
              "    </tr>\n",
              "    <tr>\n",
              "      <th>98399</th>\n",
              "      <td>Snoop Dogg aims gun at clown dressed as Trump ...</td>\n",
              "      <td>A new music video shows rapper Snoop Dogg aimi...</td>\n",
              "    </tr>\n",
              "    <tr>\n",
              "      <th>98400</th>\n",
              "      <td>Madhesi Morcha withdraws support to Nepalese g...</td>\n",
              "      <td>Madhesi Morcha, an alliance of seven political...</td>\n",
              "    </tr>\n",
              "  </tbody>\n",
              "</table>\n",
              "<p>98401 rows × 2 columns</p>\n",
              "</div>\n",
              "      <button class=\"colab-df-convert\" onclick=\"convertToInteractive('df-bf23f037-c830-4845-ad9f-d71cde9d51cd')\"\n",
              "              title=\"Convert this dataframe to an interactive table.\"\n",
              "              style=\"display:none;\">\n",
              "        \n",
              "  <svg xmlns=\"http://www.w3.org/2000/svg\" height=\"24px\"viewBox=\"0 0 24 24\"\n",
              "       width=\"24px\">\n",
              "    <path d=\"M0 0h24v24H0V0z\" fill=\"none\"/>\n",
              "    <path d=\"M18.56 5.44l.94 2.06.94-2.06 2.06-.94-2.06-.94-.94-2.06-.94 2.06-2.06.94zm-11 1L8.5 8.5l.94-2.06 2.06-.94-2.06-.94L8.5 2.5l-.94 2.06-2.06.94zm10 10l.94 2.06.94-2.06 2.06-.94-2.06-.94-.94-2.06-.94 2.06-2.06.94z\"/><path d=\"M17.41 7.96l-1.37-1.37c-.4-.4-.92-.59-1.43-.59-.52 0-1.04.2-1.43.59L10.3 9.45l-7.72 7.72c-.78.78-.78 2.05 0 2.83L4 21.41c.39.39.9.59 1.41.59.51 0 1.02-.2 1.41-.59l7.78-7.78 2.81-2.81c.8-.78.8-2.07 0-2.86zM5.41 20L4 18.59l7.72-7.72 1.47 1.35L5.41 20z\"/>\n",
              "  </svg>\n",
              "      </button>\n",
              "      \n",
              "  <style>\n",
              "    .colab-df-container {\n",
              "      display:flex;\n",
              "      flex-wrap:wrap;\n",
              "      gap: 12px;\n",
              "    }\n",
              "\n",
              "    .colab-df-convert {\n",
              "      background-color: #E8F0FE;\n",
              "      border: none;\n",
              "      border-radius: 50%;\n",
              "      cursor: pointer;\n",
              "      display: none;\n",
              "      fill: #1967D2;\n",
              "      height: 32px;\n",
              "      padding: 0 0 0 0;\n",
              "      width: 32px;\n",
              "    }\n",
              "\n",
              "    .colab-df-convert:hover {\n",
              "      background-color: #E2EBFA;\n",
              "      box-shadow: 0px 1px 2px rgba(60, 64, 67, 0.3), 0px 1px 3px 1px rgba(60, 64, 67, 0.15);\n",
              "      fill: #174EA6;\n",
              "    }\n",
              "\n",
              "    [theme=dark] .colab-df-convert {\n",
              "      background-color: #3B4455;\n",
              "      fill: #D2E3FC;\n",
              "    }\n",
              "\n",
              "    [theme=dark] .colab-df-convert:hover {\n",
              "      background-color: #434B5C;\n",
              "      box-shadow: 0px 1px 3px 1px rgba(0, 0, 0, 0.15);\n",
              "      filter: drop-shadow(0px 1px 2px rgba(0, 0, 0, 0.3));\n",
              "      fill: #FFFFFF;\n",
              "    }\n",
              "  </style>\n",
              "\n",
              "      <script>\n",
              "        const buttonEl =\n",
              "          document.querySelector('#df-bf23f037-c830-4845-ad9f-d71cde9d51cd button.colab-df-convert');\n",
              "        buttonEl.style.display =\n",
              "          google.colab.kernel.accessAllowed ? 'block' : 'none';\n",
              "\n",
              "        async function convertToInteractive(key) {\n",
              "          const element = document.querySelector('#df-bf23f037-c830-4845-ad9f-d71cde9d51cd');\n",
              "          const dataTable =\n",
              "            await google.colab.kernel.invokeFunction('convertToInteractive',\n",
              "                                                     [key], {});\n",
              "          if (!dataTable) return;\n",
              "\n",
              "          const docLinkHtml = 'Like what you see? Visit the ' +\n",
              "            '<a target=\"_blank\" href=https://colab.research.google.com/notebooks/data_table.ipynb>data table notebook</a>'\n",
              "            + ' to learn more about interactive tables.';\n",
              "          element.innerHTML = '';\n",
              "          dataTable['output_type'] = 'display_data';\n",
              "          await google.colab.output.renderOutput(dataTable, element);\n",
              "          const docLink = document.createElement('div');\n",
              "          docLink.innerHTML = docLinkHtml;\n",
              "          element.appendChild(docLink);\n",
              "        }\n",
              "      </script>\n",
              "    </div>\n",
              "  </div>\n",
              "  "
            ]
          },
          "metadata": {},
          "execution_count": 205
        }
      ]
    },
    {
      "cell_type": "markdown",
      "source": [
        "## **1-2. 데이터 전처리 (추상적 요약)**\n",
        "---"
      ],
      "metadata": {
        "id": "DG6OuSQdiud7"
      }
    },
    {
      "cell_type": "markdown",
      "source": [
        "실습에서 사용된 전처리를 참고하여 각자 필요하다고 생각하는 전처리를 추가 사용하여 텍스트를 정규화 또는 정제해 보세요. 만약, 불용어 제거를 선택한다면 상대적으로 길이가 짧은 요약 데이터에 대해서도 불용어를 제거하는 것이 좋을지 고민해 보세요."
      ],
      "metadata": {
        "id": "uSc15X6yl-se"
      }
    },
    {
      "cell_type": "markdown",
      "source": [
        "### **1-2-1. 중복 샘플과 NULL 값이 존재하는 샘플 제거**"
      ],
      "metadata": {
        "id": "I_HKYxPViud7"
      }
    },
    {
      "cell_type": "code",
      "source": [
        "\n",
        "############################################## \b중복데이터갯수 출력 #####################################################\n",
        "\n",
        "print('Text 열에서 중복을 배제한 유일한 샘플의 수 :', data['Text'].nunique())\n",
        "print('Summary 열에서 중복을 배제한 유일한 샘플의 수 :', data['Summary'].nunique())\n",
        "\n",
        "\n",
        "\n",
        "############################################## \b중복데이터 제거 #####################################################\n",
        "data['Text'].drop_duplicates(inplace=True)\n",
        "print('전체 샘플수 :', (len(data)))\n"
      ],
      "metadata": {
        "colab": {
          "base_uri": "https://localhost:8080/"
        },
        "id": "_vA0esQ1iRfo",
        "outputId": "10a56d63-a0e5-4319-b9e2-01b7ea0c1311"
      },
      "execution_count": 206,
      "outputs": [
        {
          "output_type": "stream",
          "name": "stdout",
          "text": [
            "Text 열에서 중복을 배제한 유일한 샘플의 수 : 98360\n",
            "Summary 열에서 중복을 배제한 유일한 샘플의 수 : 98280\n",
            "전체 샘플수 : 98401\n"
          ]
        }
      ]
    },
    {
      "cell_type": "markdown",
      "source": [
        "\n",
        "### **1-2-2. 결측데이터 확인**"
      ],
      "metadata": {
        "id": "heuMd4fMiQjg"
      }
    },
    {
      "cell_type": "code",
      "source": [
        "\n",
        "############################################## \b결측치 갯수 출력 #####################################################\n",
        "print(data.isnull().sum())\n",
        "\n",
        "\n",
        "############################################## \b결측치 제거 #####################################################\n",
        "data.dropna(axis=0, inplace=True)\n",
        "print('전체 샘플수 :', (len(data)))"
      ],
      "metadata": {
        "colab": {
          "base_uri": "https://localhost:8080/"
        },
        "id": "8B6vkWCLjhuF",
        "outputId": "dabaca7b-3711-4b01-9eec-8c3cce6d1591"
      },
      "execution_count": 207,
      "outputs": [
        {
          "output_type": "stream",
          "name": "stdout",
          "text": [
            "Summary    0\n",
            "Text       0\n",
            "dtype: int64\n",
            "전체 샘플수 : 98401\n"
          ]
        }
      ]
    },
    {
      "cell_type": "markdown",
      "source": [
        "\n",
        "### **1-2-3. 텍스트 정규화와 불용어 제거**"
      ],
      "metadata": {
        "id": "TLZgdxb0iQt-"
      }
    },
    {
      "cell_type": "markdown",
      "source": [
        "> 텍스트를 정규화하는 방법은 다양한데 본 프로젝트에서는 직접 정규표현식을 사용해서 데이터 정규화를 진행하도록 하겠다. 전처리를 진행하는 내용은 다음과 같다. \n",
        "- 소문자 처리\n",
        "- html 태그 제거\n",
        "- 특수문자를 제거\n",
        "- 괄호로 닫힌 문자열 (...) 제거 \n",
        "- 쌍따옴표 \" 제거\n",
        "- 소유격 제거\n",
        "- 약어 정규화\n",
        "  - 링크의 게시글을 참고해 약어 정규화 사전을 생성했다.  [Expanding English language contractions in Python](https://stackoverflow.com/questions/19790188/expanding-english-language-contractions-in-python)\n",
        "- 영어 외 문자(숫자, 특수문자 등) 공백으로 변환\n",
        "- m이 3개 이상이면 2개로 변경\n",
        "\n"
      ],
      "metadata": {
        "id": "3rsVCGFWj7rr"
      }
    },
    {
      "cell_type": "code",
      "source": [
        "\n",
        "############################################## \b약어를 정규화하는 사전 구성 #####################################################\n",
        "\n",
        "contractions = {\"ain't\": \"is not\", \"aren't\": \"are not\",\"can't\": \"cannot\", \"'cause\": \"because\", \"could've\": \"could have\", \"couldn't\": \"could not\",\n",
        "                           \"didn't\": \"did not\",  \"doesn't\": \"does not\", \"don't\": \"do not\", \"hadn't\": \"had not\", \"hasn't\": \"has not\", \"haven't\": \"have not\",\n",
        "                           \"he'd\": \"he would\",\"he'll\": \"he will\", \"he's\": \"he is\", \"how'd\": \"how did\", \"how'd'y\": \"how do you\", \"how'll\": \"how will\", \"how's\": \"how is\",\n",
        "                           \"I'd\": \"I would\", \"I'd've\": \"I would have\", \"I'll\": \"I will\", \"I'll've\": \"I will have\",\"I'm\": \"I am\", \"I've\": \"I have\", \"i'd\": \"i would\",\n",
        "                           \"i'd've\": \"i would have\", \"i'll\": \"i will\",  \"i'll've\": \"i will have\",\"i'm\": \"i am\", \"i've\": \"i have\", \"isn't\": \"is not\", \"it'd\": \"it would\",\n",
        "                           \"it'd've\": \"it would have\", \"it'll\": \"it will\", \"it'll've\": \"it will have\",\"it's\": \"it is\", \"let's\": \"let us\", \"ma'am\": \"madam\",\n",
        "                           \"mayn't\": \"may not\", \"might've\": \"might have\",\"mightn't\": \"might not\",\"mightn't've\": \"might not have\", \"must've\": \"must have\",\n",
        "                           \"mustn't\": \"must not\", \"mustn't've\": \"must not have\", \"needn't\": \"need not\", \"needn't've\": \"need not have\",\"o'clock\": \"of the clock\",\n",
        "                           \"oughtn't\": \"ought not\", \"oughtn't've\": \"ought not have\", \"shan't\": \"shall not\", \"sha'n't\": \"shall not\", \"shan't've\": \"shall not have\",\n",
        "                           \"she'd\": \"she would\", \"she'd've\": \"she would have\", \"she'll\": \"she will\", \"she'll've\": \"she will have\", \"she's\": \"she is\",\n",
        "                           \"should've\": \"should have\", \"shouldn't\": \"should not\", \"shouldn't've\": \"should not have\", \"so've\": \"so have\",\"so's\": \"so as\",\n",
        "                           \"this's\": \"this is\",\"that'd\": \"that would\", \"that'd've\": \"that would have\", \"that's\": \"that is\", \"there'd\": \"there would\",\n",
        "                           \"there'd've\": \"there would have\", \"there's\": \"there is\", \"here's\": \"here is\",\"they'd\": \"they would\", \"they'd've\": \"they would have\",\n",
        "                           \"they'll\": \"they will\", \"they'll've\": \"they will have\", \"they're\": \"they are\", \"they've\": \"they have\", \"to've\": \"to have\",\n",
        "                           \"wasn't\": \"was not\", \"we'd\": \"we would\", \"we'd've\": \"we would have\", \"we'll\": \"we will\", \"we'll've\": \"we will have\", \"we're\": \"we are\",\n",
        "                           \"we've\": \"we have\", \"weren't\": \"were not\", \"what'll\": \"what will\", \"what'll've\": \"what will have\", \"what're\": \"what are\",\n",
        "                           \"what's\": \"what is\", \"what've\": \"what have\", \"when's\": \"when is\", \"when've\": \"when have\", \"where'd\": \"where did\", \"where's\": \"where is\",\n",
        "                           \"where've\": \"where have\", \"who'll\": \"who will\", \"who'll've\": \"who will have\", \"who's\": \"who is\", \"who've\": \"who have\",\n",
        "                           \"why's\": \"why is\", \"why've\": \"why have\", \"will've\": \"will have\", \"won't\": \"will not\", \"won't've\": \"will not have\",\n",
        "                           \"would've\": \"would have\", \"wouldn't\": \"would not\", \"wouldn't've\": \"would not have\", \"y'all\": \"you all\",\n",
        "                           \"y'all'd\": \"you all would\",\"y'all'd've\": \"you all would have\",\"y'all're\": \"you all are\",\"y'all've\": \"you all have\",\n",
        "                           \"you'd\": \"you would\", \"you'd've\": \"you would have\", \"you'll\": \"you will\", \"you'll've\": \"you will have\",\n",
        "                           \"you're\": \"you are\", \"you've\": \"you have\"}\n",
        "\n",
        "\n",
        "############################################## 약어 정규화 사전수 확인  #####################################################\n",
        "print(\"약어 사전의 수: \", len(contractions))"
      ],
      "metadata": {
        "colab": {
          "base_uri": "https://localhost:8080/"
        },
        "id": "gBk-U1iTj8JX",
        "outputId": "4f7ed1e8-e9aa-439a-ce64-87a48ec68da5"
      },
      "execution_count": 208,
      "outputs": [
        {
          "output_type": "stream",
          "name": "stdout",
          "text": [
            "약어 사전의 수:  120\n"
          ]
        }
      ]
    },
    {
      "cell_type": "code",
      "source": [
        "\n",
        "############################################## 정규화하는 함수 정의 #####################################################\n",
        "\n",
        "def preprocess_sentence(df):\n",
        "  try:\n",
        "    df = df.applymap(str.lower) # 텍스트 소문자화\n",
        "    df.replace(r'<[^>]*>', '', regex=True, inplace = True) # <br />, <a href = ...> 등의 html 태그 제거 \n",
        "    df.replace(r'\\([^)]*\\)', '', regex=True, inplace = True) # 괄호로 닫힌 문자열 (...) 제거 Ex) my husband (and myself!) for => my husband for \n",
        "    df.replace('\"','',regex=True, inplace = True)# 쌍따옴표 \" 제거\n",
        "    df.replace(contractions,regex=True, inplace = True) # 약어 정규화\n",
        "    df.replace(r\"'s\\b\",\"\",  regex=True, inplace = True)# 소유격 제거. Ex) roland's -> roland\n",
        "    df.replace(\"[^a-zA-Z]\", \" \", regex=True, inplace = True) # 영어 외 문자(숫자, 특수문자 등) 공백으로 변환\n",
        "    df.replace('[m]{2,}', 'mm', regex=True, inplace = True) # m이 3개 이상이면 2개로 변경. Ex) ummmmmmm yeah -> umm yeah   \n",
        "    \n",
        "    return df \n",
        "\n",
        "  except Exception as e:\n",
        "    print(e)\n"
      ],
      "metadata": {
        "id": "HCz1NkjymD2J"
      },
      "execution_count": 209,
      "outputs": []
    },
    {
      "cell_type": "code",
      "source": [
        "############################################## 데이터프레임 전체 전처리 #####################################################\n",
        "import timeit\n",
        "start = timeit.default_timer()\n",
        "\n",
        "data = preprocess_sentence(data)\n",
        "end=timeit.default_timer()\n",
        "total = end - start\n",
        "total"
      ],
      "metadata": {
        "colab": {
          "base_uri": "https://localhost:8080/"
        },
        "id": "mYMCSHWnFXkB",
        "outputId": "b429c1c8-1f6f-4c6f-9d92-cc0dd9c72f0f"
      },
      "execution_count": 210,
      "outputs": [
        {
          "output_type": "execute_result",
          "data": {
            "text/plain": [
              "39.95053587500115"
            ]
          },
          "metadata": {},
          "execution_count": 210
        }
      ]
    },
    {
      "cell_type": "code",
      "source": [
        "data"
      ],
      "metadata": {
        "colab": {
          "base_uri": "https://localhost:8080/",
          "height": 423
        },
        "id": "NOVgjRJBHfSa",
        "outputId": "3f973bed-8abf-4ef0-9381-6bc7ecc48b8b"
      },
      "execution_count": 211,
      "outputs": [
        {
          "output_type": "execute_result",
          "data": {
            "text/plain": [
              "                                                 Summary  \\\n",
              "0      upgrad learner switches to career in ml   al w...   \n",
              "1      delhi techie wins free food from swiggy for on...   \n",
              "2      new zealand end rohit sharma led india    matc...   \n",
              "3      aegon life iterm insurance plan helps customer...   \n",
              "4      have known hirani for yrs  what if metoo claim...   \n",
              "...                                                  ...   \n",
              "98396  crpf jawan axed to death by maoists in chhatti...   \n",
              "98397  first song from sonakshi sinha  noor  titled  ...   \n",
              "98398          the matrix  film to get a reboot  reports   \n",
              "98399  snoop dogg aims gun at clown dressed as trump ...   \n",
              "98400  madhesi morcha withdraws support to nepalese g...   \n",
              "\n",
              "                                                    Text  \n",
              "0      saurav kant  an alumnus of upgrad and iiit b p...  \n",
              "1      kunal shah credit card bill payment platform  ...  \n",
              "2      new zealand defeated india by   wickets in the...  \n",
              "3      with aegon life iterm insurance plan  customer...  \n",
              "4      speaking about the sexual harassment allegatio...  \n",
              "...                                                  ...  \n",
              "98396  a crpf jawan was on tuesday axed to death with...  \n",
              "98397   uff yeh   the first song from the sonakshi si...  \n",
              "98398  according to reports  a new version of the    ...  \n",
              "98399  a new music video shows rapper snoop dogg aimi...  \n",
              "98400  madhesi morcha  an alliance of seven political...  \n",
              "\n",
              "[98401 rows x 2 columns]"
            ],
            "text/html": [
              "\n",
              "  <div id=\"df-621aed7a-9dd9-4e43-8062-cd6999b3f5d6\">\n",
              "    <div class=\"colab-df-container\">\n",
              "      <div>\n",
              "<style scoped>\n",
              "    .dataframe tbody tr th:only-of-type {\n",
              "        vertical-align: middle;\n",
              "    }\n",
              "\n",
              "    .dataframe tbody tr th {\n",
              "        vertical-align: top;\n",
              "    }\n",
              "\n",
              "    .dataframe thead th {\n",
              "        text-align: right;\n",
              "    }\n",
              "</style>\n",
              "<table border=\"1\" class=\"dataframe\">\n",
              "  <thead>\n",
              "    <tr style=\"text-align: right;\">\n",
              "      <th></th>\n",
              "      <th>Summary</th>\n",
              "      <th>Text</th>\n",
              "    </tr>\n",
              "  </thead>\n",
              "  <tbody>\n",
              "    <tr>\n",
              "      <th>0</th>\n",
              "      <td>upgrad learner switches to career in ml   al w...</td>\n",
              "      <td>saurav kant  an alumnus of upgrad and iiit b p...</td>\n",
              "    </tr>\n",
              "    <tr>\n",
              "      <th>1</th>\n",
              "      <td>delhi techie wins free food from swiggy for on...</td>\n",
              "      <td>kunal shah credit card bill payment platform  ...</td>\n",
              "    </tr>\n",
              "    <tr>\n",
              "      <th>2</th>\n",
              "      <td>new zealand end rohit sharma led india    matc...</td>\n",
              "      <td>new zealand defeated india by   wickets in the...</td>\n",
              "    </tr>\n",
              "    <tr>\n",
              "      <th>3</th>\n",
              "      <td>aegon life iterm insurance plan helps customer...</td>\n",
              "      <td>with aegon life iterm insurance plan  customer...</td>\n",
              "    </tr>\n",
              "    <tr>\n",
              "      <th>4</th>\n",
              "      <td>have known hirani for yrs  what if metoo claim...</td>\n",
              "      <td>speaking about the sexual harassment allegatio...</td>\n",
              "    </tr>\n",
              "    <tr>\n",
              "      <th>...</th>\n",
              "      <td>...</td>\n",
              "      <td>...</td>\n",
              "    </tr>\n",
              "    <tr>\n",
              "      <th>98396</th>\n",
              "      <td>crpf jawan axed to death by maoists in chhatti...</td>\n",
              "      <td>a crpf jawan was on tuesday axed to death with...</td>\n",
              "    </tr>\n",
              "    <tr>\n",
              "      <th>98397</th>\n",
              "      <td>first song from sonakshi sinha  noor  titled  ...</td>\n",
              "      <td>uff yeh   the first song from the sonakshi si...</td>\n",
              "    </tr>\n",
              "    <tr>\n",
              "      <th>98398</th>\n",
              "      <td>the matrix  film to get a reboot  reports</td>\n",
              "      <td>according to reports  a new version of the    ...</td>\n",
              "    </tr>\n",
              "    <tr>\n",
              "      <th>98399</th>\n",
              "      <td>snoop dogg aims gun at clown dressed as trump ...</td>\n",
              "      <td>a new music video shows rapper snoop dogg aimi...</td>\n",
              "    </tr>\n",
              "    <tr>\n",
              "      <th>98400</th>\n",
              "      <td>madhesi morcha withdraws support to nepalese g...</td>\n",
              "      <td>madhesi morcha  an alliance of seven political...</td>\n",
              "    </tr>\n",
              "  </tbody>\n",
              "</table>\n",
              "<p>98401 rows × 2 columns</p>\n",
              "</div>\n",
              "      <button class=\"colab-df-convert\" onclick=\"convertToInteractive('df-621aed7a-9dd9-4e43-8062-cd6999b3f5d6')\"\n",
              "              title=\"Convert this dataframe to an interactive table.\"\n",
              "              style=\"display:none;\">\n",
              "        \n",
              "  <svg xmlns=\"http://www.w3.org/2000/svg\" height=\"24px\"viewBox=\"0 0 24 24\"\n",
              "       width=\"24px\">\n",
              "    <path d=\"M0 0h24v24H0V0z\" fill=\"none\"/>\n",
              "    <path d=\"M18.56 5.44l.94 2.06.94-2.06 2.06-.94-2.06-.94-.94-2.06-.94 2.06-2.06.94zm-11 1L8.5 8.5l.94-2.06 2.06-.94-2.06-.94L8.5 2.5l-.94 2.06-2.06.94zm10 10l.94 2.06.94-2.06 2.06-.94-2.06-.94-.94-2.06-.94 2.06-2.06.94z\"/><path d=\"M17.41 7.96l-1.37-1.37c-.4-.4-.92-.59-1.43-.59-.52 0-1.04.2-1.43.59L10.3 9.45l-7.72 7.72c-.78.78-.78 2.05 0 2.83L4 21.41c.39.39.9.59 1.41.59.51 0 1.02-.2 1.41-.59l7.78-7.78 2.81-2.81c.8-.78.8-2.07 0-2.86zM5.41 20L4 18.59l7.72-7.72 1.47 1.35L5.41 20z\"/>\n",
              "  </svg>\n",
              "      </button>\n",
              "      \n",
              "  <style>\n",
              "    .colab-df-container {\n",
              "      display:flex;\n",
              "      flex-wrap:wrap;\n",
              "      gap: 12px;\n",
              "    }\n",
              "\n",
              "    .colab-df-convert {\n",
              "      background-color: #E8F0FE;\n",
              "      border: none;\n",
              "      border-radius: 50%;\n",
              "      cursor: pointer;\n",
              "      display: none;\n",
              "      fill: #1967D2;\n",
              "      height: 32px;\n",
              "      padding: 0 0 0 0;\n",
              "      width: 32px;\n",
              "    }\n",
              "\n",
              "    .colab-df-convert:hover {\n",
              "      background-color: #E2EBFA;\n",
              "      box-shadow: 0px 1px 2px rgba(60, 64, 67, 0.3), 0px 1px 3px 1px rgba(60, 64, 67, 0.15);\n",
              "      fill: #174EA6;\n",
              "    }\n",
              "\n",
              "    [theme=dark] .colab-df-convert {\n",
              "      background-color: #3B4455;\n",
              "      fill: #D2E3FC;\n",
              "    }\n",
              "\n",
              "    [theme=dark] .colab-df-convert:hover {\n",
              "      background-color: #434B5C;\n",
              "      box-shadow: 0px 1px 3px 1px rgba(0, 0, 0, 0.15);\n",
              "      filter: drop-shadow(0px 1px 2px rgba(0, 0, 0, 0.3));\n",
              "      fill: #FFFFFF;\n",
              "    }\n",
              "  </style>\n",
              "\n",
              "      <script>\n",
              "        const buttonEl =\n",
              "          document.querySelector('#df-621aed7a-9dd9-4e43-8062-cd6999b3f5d6 button.colab-df-convert');\n",
              "        buttonEl.style.display =\n",
              "          google.colab.kernel.accessAllowed ? 'block' : 'none';\n",
              "\n",
              "        async function convertToInteractive(key) {\n",
              "          const element = document.querySelector('#df-621aed7a-9dd9-4e43-8062-cd6999b3f5d6');\n",
              "          const dataTable =\n",
              "            await google.colab.kernel.invokeFunction('convertToInteractive',\n",
              "                                                     [key], {});\n",
              "          if (!dataTable) return;\n",
              "\n",
              "          const docLinkHtml = 'Like what you see? Visit the ' +\n",
              "            '<a target=\"_blank\" href=https://colab.research.google.com/notebooks/data_table.ipynb>data table notebook</a>'\n",
              "            + ' to learn more about interactive tables.';\n",
              "          element.innerHTML = '';\n",
              "          dataTable['output_type'] = 'display_data';\n",
              "          await google.colab.output.renderOutput(dataTable, element);\n",
              "          const docLink = document.createElement('div');\n",
              "          docLink.innerHTML = docLinkHtml;\n",
              "          element.appendChild(docLink);\n",
              "        }\n",
              "      </script>\n",
              "    </div>\n",
              "  </div>\n",
              "  "
            ]
          },
          "metadata": {},
          "execution_count": 211
        }
      ]
    },
    {
      "cell_type": "markdown",
      "source": [
        "> 정규화 처리외에도 자연어 처리 성능을 높이는 방법 중 하나가 불용어를 제거하는것이다. 본 프로젝트에서는 NLTk에서 제공하는 불용어 리스트를 참고해서 불용어 제거처리하도록 하곘다. 우선 영어 불용어 리스트를 먼저 확인해보도록하겠다."
      ],
      "metadata": {
        "id": "r8kp4h3Aq3Y7"
      }
    },
    {
      "cell_type": "code",
      "source": [
        "############################################## NLTk의 영어 불용어 확인  #####################################################\n",
        "print('불용어 개수 :', len(stopwords.words('english') ))\n",
        "print(stopwords.words('english'))"
      ],
      "metadata": {
        "colab": {
          "base_uri": "https://localhost:8080/"
        },
        "id": "56s5U_qaloE1",
        "outputId": "c2e1541b-e45e-4faf-804d-de5a04d2bfa4"
      },
      "execution_count": 212,
      "outputs": [
        {
          "output_type": "stream",
          "name": "stdout",
          "text": [
            "불용어 개수 : 179\n",
            "['i', 'me', 'my', 'myself', 'we', 'our', 'ours', 'ourselves', 'you', \"you're\", \"you've\", \"you'll\", \"you'd\", 'your', 'yours', 'yourself', 'yourselves', 'he', 'him', 'his', 'himself', 'she', \"she's\", 'her', 'hers', 'herself', 'it', \"it's\", 'its', 'itself', 'they', 'them', 'their', 'theirs', 'themselves', 'what', 'which', 'who', 'whom', 'this', 'that', \"that'll\", 'these', 'those', 'am', 'is', 'are', 'was', 'were', 'be', 'been', 'being', 'have', 'has', 'had', 'having', 'do', 'does', 'did', 'doing', 'a', 'an', 'the', 'and', 'but', 'if', 'or', 'because', 'as', 'until', 'while', 'of', 'at', 'by', 'for', 'with', 'about', 'against', 'between', 'into', 'through', 'during', 'before', 'after', 'above', 'below', 'to', 'from', 'up', 'down', 'in', 'out', 'on', 'off', 'over', 'under', 'again', 'further', 'then', 'once', 'here', 'there', 'when', 'where', 'why', 'how', 'all', 'any', 'both', 'each', 'few', 'more', 'most', 'other', 'some', 'such', 'no', 'nor', 'not', 'only', 'own', 'same', 'so', 'than', 'too', 'very', 's', 't', 'can', 'will', 'just', 'don', \"don't\", 'should', \"should've\", 'now', 'd', 'll', 'm', 'o', 're', 've', 'y', 'ain', 'aren', \"aren't\", 'couldn', \"couldn't\", 'didn', \"didn't\", 'doesn', \"doesn't\", 'hadn', \"hadn't\", 'hasn', \"hasn't\", 'haven', \"haven't\", 'isn', \"isn't\", 'ma', 'mightn', \"mightn't\", 'mustn', \"mustn't\", 'needn', \"needn't\", 'shan', \"shan't\", 'shouldn', \"shouldn't\", 'wasn', \"wasn't\", 'weren', \"weren't\", 'won', \"won't\", 'wouldn', \"wouldn't\"]\n"
          ]
        }
      ]
    },
    {
      "cell_type": "markdown",
      "source": [
        "> NLTK에서 제공하고 있는 불용어는 179개라는 것을 알 수 있다. 이제 불용어 제거를 진행하도록 하겠다.  "
      ],
      "metadata": {
        "id": "cvb23ao4sMkV"
      }
    },
    {
      "cell_type": "code",
      "source": [
        "##############################################  불용어 제거하는 함수 정의  #####################################################\n",
        "\n",
        "# 불용어 제거 (Text)\n",
        "def remove_stopwords(series):\n",
        "  stop_words = stopwords.words('english') \n",
        "  stopwords_dict = {string : '' for string in stop_words}\n",
        "  series.replace(stopwords_dict, regex=True)\n",
        "  return series\n"
      ],
      "metadata": {
        "id": "RUA7HakGEXfP"
      },
      "execution_count": 213,
      "outputs": []
    },
    {
      "cell_type": "code",
      "source": [
        "############################################# Text컬럼  불용어 처리 #####################################################\n",
        "\n",
        "data['Text']  = remove_stopwords(data['Text'])\n",
        "\n",
        "\n",
        "# 전처리 후 출력\n",
        "print(\"Text 전처리 후 결과: \", data['Text'] [:5])\n",
        "print(\"====\"*45)\n",
        "print(\"Summary 전처리 후 결과: \", data['Summary'] [:5])"
      ],
      "metadata": {
        "colab": {
          "base_uri": "https://localhost:8080/"
        },
        "id": "OoyyKHYRyllO",
        "outputId": "154726d1-b0ba-494f-bd0f-41c5b550c015"
      },
      "execution_count": 214,
      "outputs": [
        {
          "output_type": "stream",
          "name": "stdout",
          "text": [
            "Text 전처리 후 결과:  0    saurav kant  an alumnus of upgrad and iiit b p...\n",
            "1    kunal shah credit card bill payment platform  ...\n",
            "2    new zealand defeated india by   wickets in the...\n",
            "3    with aegon life iterm insurance plan  customer...\n",
            "4    speaking about the sexual harassment allegatio...\n",
            "Name: Text, dtype: object\n",
            "====================================================================================================================================================================================\n",
            "Summary 전처리 후 결과:  0    upgrad learner switches to career in ml   al w...\n",
            "1    delhi techie wins free food from swiggy for on...\n",
            "2    new zealand end rohit sharma led india    matc...\n",
            "3    aegon life iterm insurance plan helps customer...\n",
            "4    have known hirani for yrs  what if metoo claim...\n",
            "Name: Summary, dtype: object\n"
          ]
        }
      ]
    },
    {
      "cell_type": "markdown",
      "source": [
        "> 전처리를 진행한 후 결측데이터가 존재하는지 한번 더 확인해주겠다. 전처리과정에서 문장의 모든 단어가 사라지는 경우가 생기기 때문이다. "
      ],
      "metadata": {
        "id": "-HhY9PXr4jeg"
      }
    },
    {
      "cell_type": "code",
      "source": [
        "############################################## 결측치갯수 확인 #####################################################\n",
        "\n",
        "# 빈 값을 Null 값으로 변환\n",
        "data.replace('', np.nan, inplace=True)\n",
        "\n",
        "# 결측데이터 갯수 확인 \n",
        "data.isnull().sum()"
      ],
      "metadata": {
        "colab": {
          "base_uri": "https://localhost:8080/"
        },
        "id": "csjbYkjmzMl4",
        "outputId": "d87abe5f-9923-48a6-9ca0-da1913581247"
      },
      "execution_count": 215,
      "outputs": [
        {
          "output_type": "execute_result",
          "data": {
            "text/plain": [
              "Summary    0\n",
              "Text       0\n",
              "dtype: int64"
            ]
          },
          "metadata": {},
          "execution_count": 215
        }
      ]
    },
    {
      "cell_type": "markdown",
      "source": [
        "> 결측데이터가 생긴것을 확인할 수 있는데, 이런 샘플들은 제거해주도록 하겠다."
      ],
      "metadata": {
        "id": "GkAgChOn7Upe"
      }
    },
    {
      "cell_type": "code",
      "source": [
        "############################################## 결측치 삭제 #####################################################\n",
        "data.dropna(axis=0, inplace=True)\n",
        "print('전체 샘플수 :', (len(data)))"
      ],
      "metadata": {
        "colab": {
          "base_uri": "https://localhost:8080/"
        },
        "id": "nulf5ixM7aBW",
        "outputId": "5adea2f2-c9eb-4dac-ddf7-57107ad70c2c"
      },
      "execution_count": 216,
      "outputs": [
        {
          "output_type": "stream",
          "name": "stdout",
          "text": [
            "전체 샘플수 : 98401\n"
          ]
        }
      ]
    },
    {
      "cell_type": "markdown",
      "source": [
        "### **1-2-4. 샘플의 최대 길이 정하기**"
      ],
      "metadata": {
        "id": "fRv1YaUg7hIz"
      }
    },
    {
      "cell_type": "markdown",
      "source": [
        "> 훈련에 사용할 샘플의 최대 길이를 구하기위해 Text와 Summary의 최소, 최대, 평균 길이를 구하고 또한 길이 분포를 시각화해보도록 하겠다."
      ],
      "metadata": {
        "id": "d9z680xj-7i6"
      }
    },
    {
      "cell_type": "code",
      "source": [
        "############################################## Text와 Summary 길이 통계값 출력 #####################################################\n",
        "\n",
        "text_len = [len(s.split()) for s in data['Text']]\n",
        "summary_len = [len(s.split()) for s in data['Summary']]\n",
        "\n",
        "print(\"{:=^75}\".format(\" [Text,Summary 길이 통계값 확인] \\n\"))\n",
        "print('  - 텍스트의 최소 길이 : {}'.format(np.min(text_len)))\n",
        "print('  - 텍스트의 최대 길이 : {}'.format(np.max(text_len)))\n",
        "print('  - 텍스트의 평균 길이 : {}'.format(np.mean(text_len)))\n",
        "print('  - 요약의 최소 길이 : {}'.format(np.min(summary_len)))\n",
        "print('  - 요약의 최대 길이 : {}'.format(np.max(summary_len)))\n",
        "print('  - 요약의 평균 길이 : {}'.format(np.mean(summary_len)))\n",
        "\n",
        "\n",
        "############################################## Text와 Summary  길이 시각화 #####################################################\n",
        "\n",
        "print(\"\\n\\n{:=^75}\".format(\" [Text,Summary 길이 시각화] \\n\"))\n",
        "# 실제 텍스트와 요약의 길이 분포 \n",
        "plt.subplot(1,2,1)\n",
        "plt.boxplot(text_len)\n",
        "plt.title('Text')\n",
        "plt.subplot(1,2,2)\n",
        "plt.boxplot(summary_len)\n",
        "plt.title('Summary')\n",
        "plt.tight_layout()\n",
        "plt.show()\n",
        "\n",
        "#  실제 텍스트 샘플 길이별 개수\n",
        "plt.title('Text')\n",
        "plt.hist(text_len, bins = 40)\n",
        "plt.xlabel('length of samples')\n",
        "plt.ylabel('number of samples')\n",
        "plt.show()\n",
        "\n",
        "# 요약본 샘플 길이별 개수\n",
        "plt.title('Summary')\n",
        "plt.hist(summary_len, bins = 40)\n",
        "plt.xlabel('length of samples')\n",
        "plt.ylabel('number of samples')\n",
        "plt.show()"
      ],
      "metadata": {
        "colab": {
          "base_uri": "https://localhost:8080/",
          "height": 1000
        },
        "id": "2r9jzFiC-5C9",
        "outputId": "7f77ae08-261f-4ee4-afc7-b145a7c693e7"
      },
      "execution_count": 217,
      "outputs": [
        {
          "output_type": "stream",
          "name": "stdout",
          "text": [
            "======================== [Text,Summary 길이 통계값 확인] \n",
            "========================\n",
            "  - 텍스트의 최소 길이 : 1\n",
            "  - 텍스트의 최대 길이 : 72\n",
            "  - 텍스트의 평균 길이 : 57.93326287334478\n",
            "  - 요약의 최소 길이 : 1\n",
            "  - 요약의 최대 길이 : 17\n",
            "  - 요약의 평균 길이 : 9.48493409619821\n",
            "\n",
            "\n",
            "========================= [Text,Summary 길이 시각화] \n",
            "==========================\n"
          ]
        },
        {
          "output_type": "display_data",
          "data": {
            "text/plain": [
              "<Figure size 432x288 with 2 Axes>"
            ],
            "image/png": "[encoded data removed]"
          },
          "metadata": {
            "needs_background": "light"
          }
        },
        {
          "output_type": "display_data",
          "data": {
            "text/plain": [
              "<Figure size 432x288 with 1 Axes>"
            ],
            "image/png": "[encoded data removed]"
          },
          "metadata": {
            "needs_background": "light"
          }
        },
        {
          "output_type": "display_data",
          "data": {
            "text/plain": [
              "<Figure size 432x288 with 1 Axes>"
            ],
            "image/png": "[encoded data removed]"
          },
          "metadata": {
            "needs_background": "light"
          }
        }
      ]
    },
    {
      "cell_type": "code",
      "source": [
        " - 텍스트의 최소 길이 : 1\n",
        "  - 텍스트의 최대 길이 : 72\n",
        "  - 텍스트의 평균 길이 : 57.93326287334478\n",
        "  - 요약의 최소 길이 : 1\n",
        "  - 요약의 최대 길이 : 17\n",
        "  - 요약의 평균 길이 : 9.48493409619821\n"
      ],
      "metadata": {
        "id": "au6o-W35Pelh"
      },
      "execution_count": null,
      "outputs": []
    },
    {
      "cell_type": "markdown",
      "source": [
        "> 시각화 결과 Text의 최대길이와 ummary의 적절한 최대 길이를 확인 할 수 있어 train용 적정 길이를 설정할수있을것이다. 자세한건 아래에서 정리해보도록 하겠다.\n",
        "- **Text**\n",
        "  - 통계값: 최소 길이는 1, 최대 길이는 72, 평균 길이는 57이다. \n",
        "  - 시각화: 샘플길이는 대부분 50~65 사이에서 분포한다.  \n",
        "- **Summary**\n",
        "  - 통계값: 최소 길이가 1, 최대 길이가 17, 그리고 평균 길이가 9로 Text에 비해 상대적으로 길이 짧다. \n",
        "  - 시각화: 샘플길이는 대부분 6~14 사이에서 분포한다.   "
      ],
      "metadata": {
        "id": "BYah0Uf7_SLN"
      }
    },
    {
      "cell_type": "code",
      "source": [
        "################################## 위에서 파악한 값으로 임의로 값을 설정 ################################################\n",
        "text_max_len = 70\n",
        "summary_max_len = 12"
      ],
      "metadata": {
        "id": "zjODDcsRJVep"
      },
      "execution_count": 227,
      "outputs": []
    },
    {
      "cell_type": "markdown",
      "source": [
        "> 임의로 값을 설정했는데 이것이 적당한 값인지 통계적으로 확인하는 과정을 진행하는것이 좋기에 이를 확인할 수 있는 함수를 정의하도록하겠다. 이후 이 함수의 파라미터로 임의로 설정한 Text와 Summary 최대길이값을 넣어 그 결과를 확인해보도록하겠다. "
      ],
      "metadata": {
        "id": "VlClH5p_KbHR"
      }
    },
    {
      "cell_type": "code",
      "source": [
        "################################## Text와 Summary 적절 길이를 파악하기위한 함수 정의 ################################################\n",
        "def below_threshold_len(max_len, nested_list):\n",
        "  cnt = 0\n",
        "  for s in nested_list:\n",
        "    if(len(s.split()) <= max_len):\n",
        "        cnt = cnt + 1\n",
        "  print('전체 샘플 중 길이가 %s 이하인 샘플의 비율: %s'%(max_len, (cnt / len(nested_list))))\n"
      ],
      "metadata": {
        "id": "9ql35qPpH-Zc"
      },
      "execution_count": 228,
      "outputs": []
    },
    {
      "cell_type": "code",
      "source": [
        "################################## 임의로 설정한 값의 적절성 파악 ################################################\n",
        "print(\"{:=^75}\".format(\" [Text] \"))\n",
        "below_threshold_len(text_max_len, data['Text'])\n",
        "print(\" \\n {:=^75}\".format(\" [Text,Summary 길이 통계값 확인]\"))\n",
        "below_threshold_len(summary_max_len,  data['Summary'])"
      ],
      "metadata": {
        "colab": {
          "base_uri": "https://localhost:8080/"
        },
        "id": "eQSTdZQfIbgx",
        "outputId": "8c08c42a-0a83-4472-8cc9-90098ccdb92a"
      },
      "execution_count": 229,
      "outputs": [
        {
          "output_type": "stream",
          "name": "stdout",
          "text": [
            "================================= [Text] ==================================\n",
            "전체 샘플 중 길이가 70 이하인 샘플의 비율: 0.9999898375016514\n",
            " \n",
            " ========================= [Text,Summary 길이 통계값 확인]=========================\n",
            "전체 샘플 중 길이가 12 이하인 샘플의 비율: 0.97556935396998\n"
          ]
        }
      ]
    },
    {
      "cell_type": "code",
      "source": [
        "################################## 임의로 설정한 값 보다 길면 그 값을 제외 ################################################\n",
        "data = data[data['Text'].apply(lambda x: len(x.split()) <= text_max_len)]\n",
        "data = data[data['Summary'].apply(lambda x: len(x.split()) <= summary_max_len)]\n",
        "print('전체 샘플수 :', (len(data)))"
      ],
      "metadata": {
        "id": "sGFif0MWLpAl",
        "colab": {
          "base_uri": "https://localhost:8080/"
        },
        "outputId": "21850340-4542-4001-cdec-7e85eec671f5"
      },
      "execution_count": 230,
      "outputs": [
        {
          "output_type": "stream",
          "name": "stdout",
          "text": [
            "전체 샘플수 : 95997\n"
          ]
        }
      ]
    },
    {
      "cell_type": "markdown",
      "source": [
        "\n",
        "### **1-2-5. 시작 토큰과 종료 토큰 추가**"
      ],
      "metadata": {
        "id": "Iwe6qRpEjAEl"
      }
    },
    {
      "cell_type": "markdown",
      "source": [
        "> seq2seq 훈련을 위해서는 디코더의 입력과 레이블에 시작 토큰과 종료 토큰을 추가 하는 과정이 필요하다. 요약데이터의 시작 토큰으로는 sostoken 을, 종료 토큰으로는 eostoken을 추가하도록 하겠다. "
      ],
      "metadata": {
        "id": "ulF50_B9Mr4K"
      }
    },
    {
      "cell_type": "code",
      "source": [
        "################################## 요약 데이터에는 시작 토큰과 종료 토큰을 추가 ################################################\n",
        "\n",
        "data['decoder_input'] = data['Summary'].apply(lambda x : 'sostoken '+ x)\n",
        "data['decoder_target'] = data['Summary'].apply(lambda x : x + ' eostoken')\n",
        "data.head()"
      ],
      "metadata": {
        "id": "1mnPq7TnMrKV",
        "colab": {
          "base_uri": "https://localhost:8080/",
          "height": 206
        },
        "outputId": "c68f5127-a46f-458d-bfba-67533830ad4f"
      },
      "execution_count": 231,
      "outputs": [
        {
          "output_type": "execute_result",
          "data": {
            "text/plain": [
              "                                             Summary  \\\n",
              "0  upgrad learner switches to career in ml   al w...   \n",
              "1  delhi techie wins free food from swiggy for on...   \n",
              "2  new zealand end rohit sharma led india    matc...   \n",
              "3  aegon life iterm insurance plan helps customer...   \n",
              "5  rahat fateh ali khan denies getting notice for...   \n",
              "\n",
              "                                                Text  \\\n",
              "0  saurav kant  an alumnus of upgrad and iiit b p...   \n",
              "1  kunal shah credit card bill payment platform  ...   \n",
              "2  new zealand defeated india by   wickets in the...   \n",
              "3  with aegon life iterm insurance plan  customer...   \n",
              "5  pakistani singer rahat fateh ali khan has deni...   \n",
              "\n",
              "                                       decoder_input  \\\n",
              "0  sostoken upgrad learner switches to career in ...   \n",
              "1  sostoken delhi techie wins free food from swig...   \n",
              "2  sostoken new zealand end rohit sharma led indi...   \n",
              "3  sostoken aegon life iterm insurance plan helps...   \n",
              "5  sostoken rahat fateh ali khan denies getting n...   \n",
              "\n",
              "                                      decoder_target  \n",
              "0  upgrad learner switches to career in ml   al w...  \n",
              "1  delhi techie wins free food from swiggy for on...  \n",
              "2  new zealand end rohit sharma led india    matc...  \n",
              "3  aegon life iterm insurance plan helps customer...  \n",
              "5  rahat fateh ali khan denies getting notice for...  "
            ],
            "text/html": [
              "\n",
              "  <div id=\"df-3bdb6078-4f07-45eb-a189-53edebf84b3f\">\n",
              "    <div class=\"colab-df-container\">\n",
              "      <div>\n",
              "<style scoped>\n",
              "    .dataframe tbody tr th:only-of-type {\n",
              "        vertical-align: middle;\n",
              "    }\n",
              "\n",
              "    .dataframe tbody tr th {\n",
              "        vertical-align: top;\n",
              "    }\n",
              "\n",
              "    .dataframe thead th {\n",
              "        text-align: right;\n",
              "    }\n",
              "</style>\n",
              "<table border=\"1\" class=\"dataframe\">\n",
              "  <thead>\n",
              "    <tr style=\"text-align: right;\">\n",
              "      <th></th>\n",
              "      <th>Summary</th>\n",
              "      <th>Text</th>\n",
              "      <th>decoder_input</th>\n",
              "      <th>decoder_target</th>\n",
              "    </tr>\n",
              "  </thead>\n",
              "  <tbody>\n",
              "    <tr>\n",
              "      <th>0</th>\n",
              "      <td>upgrad learner switches to career in ml   al w...</td>\n",
              "      <td>saurav kant  an alumnus of upgrad and iiit b p...</td>\n",
              "      <td>sostoken upgrad learner switches to career in ...</td>\n",
              "      <td>upgrad learner switches to career in ml   al w...</td>\n",
              "    </tr>\n",
              "    <tr>\n",
              "      <th>1</th>\n",
              "      <td>delhi techie wins free food from swiggy for on...</td>\n",
              "      <td>kunal shah credit card bill payment platform  ...</td>\n",
              "      <td>sostoken delhi techie wins free food from swig...</td>\n",
              "      <td>delhi techie wins free food from swiggy for on...</td>\n",
              "    </tr>\n",
              "    <tr>\n",
              "      <th>2</th>\n",
              "      <td>new zealand end rohit sharma led india    matc...</td>\n",
              "      <td>new zealand defeated india by   wickets in the...</td>\n",
              "      <td>sostoken new zealand end rohit sharma led indi...</td>\n",
              "      <td>new zealand end rohit sharma led india    matc...</td>\n",
              "    </tr>\n",
              "    <tr>\n",
              "      <th>3</th>\n",
              "      <td>aegon life iterm insurance plan helps customer...</td>\n",
              "      <td>with aegon life iterm insurance plan  customer...</td>\n",
              "      <td>sostoken aegon life iterm insurance plan helps...</td>\n",
              "      <td>aegon life iterm insurance plan helps customer...</td>\n",
              "    </tr>\n",
              "    <tr>\n",
              "      <th>5</th>\n",
              "      <td>rahat fateh ali khan denies getting notice for...</td>\n",
              "      <td>pakistani singer rahat fateh ali khan has deni...</td>\n",
              "      <td>sostoken rahat fateh ali khan denies getting n...</td>\n",
              "      <td>rahat fateh ali khan denies getting notice for...</td>\n",
              "    </tr>\n",
              "  </tbody>\n",
              "</table>\n",
              "</div>\n",
              "      <button class=\"colab-df-convert\" onclick=\"convertToInteractive('df-3bdb6078-4f07-45eb-a189-53edebf84b3f')\"\n",
              "              title=\"Convert this dataframe to an interactive table.\"\n",
              "              style=\"display:none;\">\n",
              "        \n",
              "  <svg xmlns=\"http://www.w3.org/2000/svg\" height=\"24px\"viewBox=\"0 0 24 24\"\n",
              "       width=\"24px\">\n",
              "    <path d=\"M0 0h24v24H0V0z\" fill=\"none\"/>\n",
              "    <path d=\"M18.56 5.44l.94 2.06.94-2.06 2.06-.94-2.06-.94-.94-2.06-.94 2.06-2.06.94zm-11 1L8.5 8.5l.94-2.06 2.06-.94-2.06-.94L8.5 2.5l-.94 2.06-2.06.94zm10 10l.94 2.06.94-2.06 2.06-.94-2.06-.94-.94-2.06-.94 2.06-2.06.94z\"/><path d=\"M17.41 7.96l-1.37-1.37c-.4-.4-.92-.59-1.43-.59-.52 0-1.04.2-1.43.59L10.3 9.45l-7.72 7.72c-.78.78-.78 2.05 0 2.83L4 21.41c.39.39.9.59 1.41.59.51 0 1.02-.2 1.41-.59l7.78-7.78 2.81-2.81c.8-.78.8-2.07 0-2.86zM5.41 20L4 18.59l7.72-7.72 1.47 1.35L5.41 20z\"/>\n",
              "  </svg>\n",
              "      </button>\n",
              "      \n",
              "  <style>\n",
              "    .colab-df-container {\n",
              "      display:flex;\n",
              "      flex-wrap:wrap;\n",
              "      gap: 12px;\n",
              "    }\n",
              "\n",
              "    .colab-df-convert {\n",
              "      background-color: #E8F0FE;\n",
              "      border: none;\n",
              "      border-radius: 50%;\n",
              "      cursor: pointer;\n",
              "      display: none;\n",
              "      fill: #1967D2;\n",
              "      height: 32px;\n",
              "      padding: 0 0 0 0;\n",
              "      width: 32px;\n",
              "    }\n",
              "\n",
              "    .colab-df-convert:hover {\n",
              "      background-color: #E2EBFA;\n",
              "      box-shadow: 0px 1px 2px rgba(60, 64, 67, 0.3), 0px 1px 3px 1px rgba(60, 64, 67, 0.15);\n",
              "      fill: #174EA6;\n",
              "    }\n",
              "\n",
              "    [theme=dark] .colab-df-convert {\n",
              "      background-color: #3B4455;\n",
              "      fill: #D2E3FC;\n",
              "    }\n",
              "\n",
              "    [theme=dark] .colab-df-convert:hover {\n",
              "      background-color: #434B5C;\n",
              "      box-shadow: 0px 1px 3px 1px rgba(0, 0, 0, 0.15);\n",
              "      filter: drop-shadow(0px 1px 2px rgba(0, 0, 0, 0.3));\n",
              "      fill: #FFFFFF;\n",
              "    }\n",
              "  </style>\n",
              "\n",
              "      <script>\n",
              "        const buttonEl =\n",
              "          document.querySelector('#df-3bdb6078-4f07-45eb-a189-53edebf84b3f button.colab-df-convert');\n",
              "        buttonEl.style.display =\n",
              "          google.colab.kernel.accessAllowed ? 'block' : 'none';\n",
              "\n",
              "        async function convertToInteractive(key) {\n",
              "          const element = document.querySelector('#df-3bdb6078-4f07-45eb-a189-53edebf84b3f');\n",
              "          const dataTable =\n",
              "            await google.colab.kernel.invokeFunction('convertToInteractive',\n",
              "                                                     [key], {});\n",
              "          if (!dataTable) return;\n",
              "\n",
              "          const docLinkHtml = 'Like what you see? Visit the ' +\n",
              "            '<a target=\"_blank\" href=https://colab.research.google.com/notebooks/data_table.ipynb>data table notebook</a>'\n",
              "            + ' to learn more about interactive tables.';\n",
              "          element.innerHTML = '';\n",
              "          dataTable['output_type'] = 'display_data';\n",
              "          await google.colab.output.renderOutput(dataTable, element);\n",
              "          const docLink = document.createElement('div');\n",
              "          docLink.innerHTML = docLinkHtml;\n",
              "          element.appendChild(docLink);\n",
              "        }\n",
              "      </script>\n",
              "    </div>\n",
              "  </div>\n",
              "  "
            ]
          },
          "metadata": {},
          "execution_count": 231
        }
      ]
    },
    {
      "cell_type": "code",
      "source": [
        "\n",
        "################################## 토큰을 추가한 데이터를 numpy형태로 저장 ################################################\n",
        "\n",
        "encoder_input = np.array(data['Text']) # 인코더의 입력\n",
        "decoder_input = np.array(data['decoder_input']) # 디코더의 입력\n",
        "decoder_target = np.array(data['decoder_target']) # 디코더의 레이블\n"
      ],
      "metadata": {
        "id": "sD1XqHLlVI2_"
      },
      "execution_count": 232,
      "outputs": []
    },
    {
      "cell_type": "markdown",
      "source": [
        "\n",
        "### **1-2-6. train test 데이터 생성**"
      ],
      "metadata": {
        "id": "kv-HqnUSjAJ-"
      }
    },
    {
      "cell_type": "markdown",
      "source": [
        "> encoder_input과 크기와 형태가 같은 배열을 만들고 이를 섞어주면 잘 섞인  \n",
        "\n"
      ],
      "metadata": {
        "id": "CIyH0x33ZMB7"
      }
    },
    {
      "cell_type": "code",
      "source": [
        "X_train, X_test, y_train, y_test = train_test_split(data[['Text','decoder_input']],\n",
        "                                                    data['decoder_target'],\n",
        "                                                    test_size=0.2,\n",
        "                                                    random_state=121)\n",
        "\n",
        "\n",
        "encoder_input_train = np.array(X_train['Text'])\n",
        "decoder_input_train = np.array(X_train['decoder_input'])\n",
        "decoder_target_train = np.array(y_train)\n",
        "\n",
        "encoder_input_test = np.array(X_test['Text'])\n",
        "decoder_input_test = np.array(X_test['decoder_input'])\n",
        "decoder_target_test = np.array(y_test)\n",
        "\n",
        "\n",
        "print('훈련 데이터의 개수 :', len(encoder_input_train))\n",
        "print('훈련 레이블의 개수 :', len(decoder_input_train))\n",
        "print('테스트 데이터의 개수 :', len(encoder_input_test))\n",
        "print('테스트 레이블의 개수 :', len(decoder_input_test))"
      ],
      "metadata": {
        "id": "pKrf1V0tcGZR",
        "colab": {
          "base_uri": "https://localhost:8080/"
        },
        "outputId": "06874a7c-fcc9-4c9f-cf97-b557d4b1c2c7"
      },
      "execution_count": 233,
      "outputs": [
        {
          "output_type": "stream",
          "name": "stdout",
          "text": [
            "훈련 데이터의 개수 : 76797\n",
            "훈련 레이블의 개수 : 76797\n",
            "테스트 데이터의 개수 : 19200\n",
            "테스트 레이블의 개수 : 19200\n"
          ]
        }
      ]
    },
    {
      "cell_type": "markdown",
      "source": [
        "\n",
        "### **1-2-7. 토큰화 및 텐서화**"
      ],
      "metadata": {
        "id": "sJT1K4kRjAMy"
      }
    },
    {
      "cell_type": "markdown",
      "source": [
        "> tf.keras.preprocessing.text.Tokenizer 패키지를 활용해서 토큰화하고, 단어 사전을 만들도록 하겠다."
      ],
      "metadata": {
        "id": "tTR_tEIoza4m"
      }
    },
    {
      "cell_type": "code",
      "source": [
        "##############################  데이터 토큰화를 위한 함수 정의  ############################## \n",
        "\n",
        "\n",
        "src_tokenizer = Tokenizer() # 토크나이저 정의\n",
        "src_tokenizer.fit_on_texts(encoder_input_train) # 입력된 데이터로부터 단어 집합 생성\n",
        "\n"
      ],
      "metadata": {
        "id": "dUYjtUNqxLHO"
      },
      "execution_count": 234,
      "outputs": []
    },
    {
      "cell_type": "markdown",
      "source": [
        "> 등장빈도수가 낮은 단어들은 훈련데이터에서 제외하고 진행하도록 하겠다."
      ],
      "metadata": {
        "id": "plKLSpYE03Jz"
      }
    },
    {
      "cell_type": "code",
      "source": [
        "##############################  등장횟수에 따른 빈도수   ############################## \n",
        "\n",
        "\n",
        "threshold = 7 #등장횟수\n",
        "total_cnt = len(src_tokenizer.word_index) # 단어의 수\n",
        "rare_cnt = 0 # 등장 빈도수가 threshold보다 작은 단어의 개수를 카운트\n",
        "total_freq = 0 # 훈련 데이터의 전체 단어 빈도수 총 합\n",
        "rare_freq = 0 # 등장 빈도수가 threshold보다 작은 단어의 등장 빈도수의 총 합\n",
        "\n",
        "# 단어와 빈도수의 쌍(pair)을 key와 value로 받는다.\n",
        "for key, value in src_tokenizer.word_counts.items():\n",
        "    total_freq = total_freq + value\n",
        "\n",
        "    # 단어의 등장 빈도수가 threshold보다 작으면\n",
        "    if(value < threshold):\n",
        "        rare_cnt = rare_cnt + 1\n",
        "        rare_freq = rare_freq + value\n",
        "\n",
        "print('단어 집합(vocabulary)의 크기 :', total_cnt)\n",
        "print('등장 빈도가 %s번 이하인 희귀 단어의 수: %s'%(threshold - 1, rare_cnt))\n",
        "print('단어 집합에서 희귀 단어를 제외시킬 경우의 단어 집합의 크기 %s'%(total_cnt - rare_cnt))\n",
        "print(\"단어 집합에서 희귀 단어의 비율:\", (rare_cnt / total_cnt)*100)\n",
        "print(\"전체 등장 빈도에서 희귀 단어 등장 빈도 비율:\", (rare_freq / total_freq)*100)"
      ],
      "metadata": {
        "id": "hcLJDGvdxLEi",
        "colab": {
          "base_uri": "https://localhost:8080/"
        },
        "outputId": "56180c96-1333-425b-d101-5b83fcc2fa08"
      },
      "execution_count": 235,
      "outputs": [
        {
          "output_type": "stream",
          "name": "stdout",
          "text": [
            "단어 집합(vocabulary)의 크기 : 69392\n",
            "등장 빈도가 6번 이하인 희귀 단어의 수: 47220\n",
            "단어 집합에서 희귀 단어를 제외시킬 경우의 단어 집합의 크기 22172\n",
            "단어 집합에서 희귀 단어의 비율: 68.04818999308277\n",
            "전체 등장 빈도에서 희귀 단어 등장 빈도 비율: 2.155002919948422\n"
          ]
        }
      ]
    },
    {
      "cell_type": "code",
      "source": [
        "\n",
        "src_vocab = 8000\n",
        "src_tokenizer = Tokenizer(num_words=src_vocab) # 단어 집합의 크기를 8,000으로 제한\n",
        "src_tokenizer.fit_on_texts(encoder_input_train) # 단어 집합 재생성\n",
        "print('=3')"
      ],
      "metadata": {
        "id": "mkxRDjCp3whF",
        "colab": {
          "base_uri": "https://localhost:8080/"
        },
        "outputId": "3b1be34b-c7f6-49c3-e435-57e91aa280a6"
      },
      "execution_count": 236,
      "outputs": [
        {
          "output_type": "stream",
          "name": "stdout",
          "text": [
            "=3\n"
          ]
        }
      ]
    },
    {
      "cell_type": "code",
      "source": [
        "# 텍스트 시퀀스를 정수 시퀀스로 변환\n",
        "encoder_input_train = src_tokenizer.texts_to_sequences(encoder_input_train) \n",
        "encoder_input_test = src_tokenizer.texts_to_sequences(encoder_input_test)\n",
        "\n",
        "# 잘 진행되었는지 샘플 출력\n",
        "print(encoder_input_train[:3])"
      ],
      "metadata": {
        "id": "scEPxpta4oGv",
        "colab": {
          "base_uri": "https://localhost:8080/"
        },
        "outputId": "0a9e0578-2890-41ae-b8c3-ca57dbb59a1d"
      },
      "execution_count": 237,
      "outputs": [
        {
          "output_type": "stream",
          "name": "stdout",
          "text": [
            "[[372, 106, 359, 5449, 2657, 8, 10, 1775, 4, 241, 653, 6, 403, 970, 36, 4089, 264, 16, 53, 3890, 61, 5, 30, 6, 1, 109, 5, 1, 68, 3145, 1, 526, 9, 1719, 3890, 14, 10, 189, 1130, 377, 20, 970, 195, 55, 42, 77, 14, 67, 10, 640, 149, 25, 40, 6, 7795], [1012, 4829, 5, 49, 6237, 12, 6523, 15, 3, 2089, 664, 4036, 4, 653, 6, 403, 3450, 7, 136, 46, 1, 6447, 1339, 12, 26, 154, 15, 1, 399, 241, 84, 987, 11, 1, 229, 145, 324, 19, 14, 12, 257, 6238, 664, 1, 3146, 6, 1008, 417, 23, 3, 167, 5, 51, 11, 138, 60, 2, 620], [4721, 725, 385, 582, 958, 8, 865, 3, 332, 16, 3, 290, 87, 3163, 2, 672, 464, 1107, 5998, 2, 4223, 6, 305, 29, 526, 18, 1, 189, 174, 1855, 251, 5, 40, 127, 4223, 16, 1107, 4, 30, 18, 13, 164, 79, 2, 180, 2591, 9, 2175, 404, 305, 16, 1107, 3, 2358, 10]]\n"
          ]
        }
      ]
    },
    {
      "cell_type": "code",
      "source": [
        "tar_tokenizer = Tokenizer()\n",
        "tar_tokenizer.fit_on_texts(decoder_input_train)"
      ],
      "metadata": {
        "id": "sPVL055y4plR"
      },
      "execution_count": 238,
      "outputs": []
    },
    {
      "cell_type": "code",
      "source": [
        "threshold = 6\n",
        "total_cnt = len(tar_tokenizer.word_index) # 단어의 수\n",
        "rare_cnt = 0 # 등장 빈도수가 threshold보다 작은 단어의 개수를 카운트\n",
        "total_freq = 0 # 훈련 데이터의 전체 단어 빈도수 총 합\n",
        "rare_freq = 0 # 등장 빈도수가 threshold보다 작은 단어의 등장 빈도수의 총 합\n",
        "\n",
        "# 단어와 빈도수의 쌍(pair)을 key와 value로 받는다.\n",
        "for key, value in tar_tokenizer.word_counts.items():\n",
        "    total_freq = total_freq + value\n",
        "\n",
        "    # 단어의 등장 빈도수가 threshold보다 작으면\n",
        "    if(value < threshold):\n",
        "        rare_cnt = rare_cnt + 1\n",
        "        rare_freq = rare_freq + value\n",
        "\n",
        "print('단어 집합(vocabulary)의 크기 :', total_cnt)\n",
        "print('등장 빈도가 %s번 이하인 희귀 단어의 수: %s'%(threshold - 1, rare_cnt))\n",
        "print('단어 집합에서 희귀 단어를 제외시킬 경우의 단어 집합의 크기 %s'%(total_cnt - rare_cnt))\n",
        "print(\"단어 집합에서 희귀 단어의 비율:\", (rare_cnt / total_cnt)*100)\n",
        "print(\"전체 등장 빈도에서 희귀 단어 등장 빈도 비율:\", (rare_freq / total_freq)*100)"
      ],
      "metadata": {
        "id": "-6dQR2Gt4v6V",
        "colab": {
          "base_uri": "https://localhost:8080/"
        },
        "outputId": "d588225c-1090-4e74-95b8-a522b339de7b"
      },
      "execution_count": 239,
      "outputs": [
        {
          "output_type": "stream",
          "name": "stdout",
          "text": [
            "단어 집합(vocabulary)의 크기 : 29995\n",
            "등장 빈도가 5번 이하인 희귀 단어의 수: 19638\n",
            "단어 집합에서 희귀 단어를 제외시킬 경우의 단어 집합의 크기 10357\n",
            "단어 집합에서 희귀 단어의 비율: 65.47091181863644\n",
            "전체 등장 빈도에서 희귀 단어 등장 빈도 비율: 4.697212608630798\n"
          ]
        }
      ]
    },
    {
      "cell_type": "code",
      "source": [
        "tar_vocab = 2000\n",
        "tar_tokenizer = Tokenizer(num_words=tar_vocab) \n",
        "tar_tokenizer.fit_on_texts(decoder_input_train)\n",
        "tar_tokenizer.fit_on_texts(decoder_target_train)\n",
        "\n",
        "# 텍스트 시퀀스를 정수 시퀀스로 변환\n",
        "decoder_input_train = tar_tokenizer.texts_to_sequences(decoder_input_train) \n",
        "decoder_target_train = tar_tokenizer.texts_to_sequences(decoder_target_train)\n",
        "decoder_input_test = tar_tokenizer.texts_to_sequences(decoder_input_test)\n",
        "decoder_target_test = tar_tokenizer.texts_to_sequences(decoder_target_test)\n",
        "\n",
        "# 잘 변환되었는지 확인\n",
        "print('input')\n",
        "print('input ',decoder_input_train[:5])\n",
        "print('target')\n",
        "print('decoder ',decoder_target_train[:5])"
      ],
      "metadata": {
        "colab": {
          "base_uri": "https://localhost:8080/"
        },
        "id": "-pbxuucF5ye6",
        "outputId": "b9045fd9-0eca-48b1-84bc-2361aad2f6e8"
      },
      "execution_count": 240,
      "outputs": [
        {
          "output_type": "stream",
          "name": "stdout",
          "text": [
            "input\n",
            "input  [[1, 1351, 9, 4, 508, 168, 88], [1, 61, 430, 4, 797, 12, 1915], [1, 1074, 953, 3, 1973, 229, 1014], [1, 71, 666, 3, 1381, 1740, 541, 25, 510], [1, 1292, 1536, 743, 878, 743, 50, 280]]\n",
            "target\n",
            "decoder  [[1351, 9, 4, 508, 168, 88, 2], [61, 430, 4, 797, 12, 1915, 2], [1074, 953, 3, 1973, 229, 1014, 2], [71, 666, 3, 1381, 1740, 541, 25, 510, 2], [1292, 1536, 743, 878, 743, 50, 280, 2]]\n"
          ]
        }
      ]
    },
    {
      "cell_type": "code",
      "source": [
        "drop_train = [index for index, sentence in enumerate(decoder_input_train) if len(sentence) == 1]\n",
        "drop_test = [index for index, sentence in enumerate(decoder_input_test) if len(sentence) == 1]\n",
        "\n",
        "print('삭제할 훈련 데이터의 개수 :', len(drop_train))\n",
        "print('삭제할 테스트 데이터의 개수 :', len(drop_test))\n",
        "\n",
        "encoder_input_train = [sentence for index, sentence in enumerate(encoder_input_train) if index not in drop_train]\n",
        "decoder_input_train = [sentence for index, sentence in enumerate(decoder_input_train) if index not in drop_train]\n",
        "decoder_target_train = [sentence for index, sentence in enumerate(decoder_target_train) if index not in drop_train]\n",
        "\n",
        "encoder_input_test = [sentence for index, sentence in enumerate(encoder_input_test) if index not in drop_test]\n",
        "decoder_input_test = [sentence for index, sentence in enumerate(decoder_input_test) if index not in drop_test]\n",
        "decoder_target_test = [sentence for index, sentence in enumerate(decoder_target_test) if index not in drop_test]\n",
        "\n",
        "print('훈련 데이터의 개수 :', len(encoder_input_train))\n",
        "print('훈련 레이블의 개수 :', len(decoder_input_train))\n",
        "print('테스트 데이터의 개수 :', len(encoder_input_test))\n",
        "print('테스트 레이블의 개수 :', len(decoder_input_test))"
      ],
      "metadata": {
        "id": "a7k8osgw50Fd",
        "colab": {
          "base_uri": "https://localhost:8080/"
        },
        "outputId": "00dfdbf2-4c84-4a26-f9ca-4ac660cb7558"
      },
      "execution_count": 241,
      "outputs": [
        {
          "output_type": "stream",
          "name": "stdout",
          "text": [
            "삭제할 훈련 데이터의 개수 : 13\n",
            "삭제할 테스트 데이터의 개수 : 2\n",
            "훈련 데이터의 개수 : 76784\n",
            "훈련 레이블의 개수 : 76784\n",
            "테스트 데이터의 개수 : 19198\n",
            "테스트 레이블의 개수 : 19198\n"
          ]
        }
      ]
    },
    {
      "cell_type": "markdown",
      "source": [
        "### **1-2-8. 패딩 작업**"
      ],
      "metadata": {
        "id": "u0KCeiZVjS_j"
      }
    },
    {
      "cell_type": "code",
      "source": [
        "encoder_input_train = pad_sequences(encoder_input_train, maxlen=text_max_len, padding='post')\n",
        "encoder_input_test = pad_sequences(encoder_input_test, maxlen=text_max_len, padding='post')\n",
        "decoder_input_train = pad_sequences(decoder_input_train, maxlen=summary_max_len, padding='post')\n",
        "decoder_target_train = pad_sequences(decoder_target_train, maxlen=summary_max_len, padding='post')\n",
        "decoder_input_test = pad_sequences(decoder_input_test, maxlen=summary_max_len, padding='post')\n",
        "decoder_target_test = pad_sequences(decoder_target_test, maxlen=summary_max_len, padding='post')\n"
      ],
      "metadata": {
        "id": "wp7xhD40jSGZ"
      },
      "execution_count": 242,
      "outputs": []
    },
    {
      "cell_type": "markdown",
      "source": [
        "## **1-3. 모델 설계하기**\n",
        "---"
      ],
      "metadata": {
        "id": "ebgI0lQu6HFZ"
      }
    },
    {
      "cell_type": "markdown",
      "source": [
        "### **1-3-1.인코더 설계**"
      ],
      "metadata": {
        "id": "V9dLh3447uJH"
      }
    },
    {
      "cell_type": "code",
      "source": [
        "\n",
        "# 인코더 설계 시작\n",
        "embedding_dim = 128\n",
        "hidden_size = 256\n",
        "\n",
        "# 인코더\n",
        "encoder_inputs = Input(shape=(text_max_len,))\n",
        "\n",
        "# 인코더의 임베딩 층\n",
        "enc_emb = Embedding(src_vocab, embedding_dim)(encoder_inputs)\n",
        "\n",
        "# 인코더의 LSTM 1\n",
        "# encoder_lstm1 = LSTM(hidden_size, return_sequences=True, return_state=True ,dropout = 0.4, recurrent_dropout = 0.4)\n",
        "encoder_lstm1 = LSTM(hidden_size, return_sequences=True, return_state=True ,dropout = 0.4)\n",
        "encoder_output1, state_h1, state_c1 = encoder_lstm1(enc_emb)\n",
        "\n",
        "# 인코더의 LSTM 2\n",
        "# encoder_lstm2 = LSTM(hidden_size, return_sequences=True, return_state=True, dropout=0.4, recurrent_dropout=0.4)\n",
        "encoder_lstm2 = LSTM(hidden_size, return_sequences=True, return_state=True, dropout=0.4)\n",
        "encoder_output2, state_h2, state_c2 = encoder_lstm2(encoder_output1)\n",
        "\n",
        "# 인코더의 LSTM 3\n",
        "# encoder_lstm3 = LSTM(hidden_size, return_state=True, return_sequences=True, dropout=0.4, recurrent_dropout=0.4)\n",
        "encoder_lstm3 = LSTM(hidden_size, return_state=True, return_sequences=True, dropout=0.4)\n",
        "encoder_outputs, state_h, state_c= encoder_lstm3(encoder_output2)"
      ],
      "metadata": {
        "id": "0AztRoOt74bw"
      },
      "execution_count": 243,
      "outputs": []
    },
    {
      "cell_type": "markdown",
      "source": [
        "### **1-3-2. 디코더 설계**"
      ],
      "metadata": {
        "id": "n0Z-18BS7t0f"
      }
    },
    {
      "cell_type": "code",
      "source": [
        "# 디코더 설계\n",
        "decoder_inputs = Input(shape=(None,))\n",
        "\n",
        "# 디코더의 임베딩 층\n",
        "dec_emb_layer = Embedding(tar_vocab, embedding_dim)\n",
        "dec_emb = dec_emb_layer(decoder_inputs)\n",
        "\n",
        "# 디코더의 LSTM\n",
        "# decoder_lstm = LSTM(hidden_size, return_sequences=True, return_state=True, dropout=0.4, recurrent_dropout=0.2)\n",
        "decoder_lstm = LSTM(hidden_size, return_sequences=True, return_state=True, dropout=0.4)\n",
        "decoder_outputs, _, _ = decoder_lstm(dec_emb, initial_state=[state_h, state_c])"
      ],
      "metadata": {
        "id": "lEejzUyG73m2"
      },
      "execution_count": 244,
      "outputs": []
    },
    {
      "cell_type": "markdown",
      "source": [
        "### **1-3-3. 디코더 출력층**"
      ],
      "metadata": {
        "id": "kuXt9MgM8H5-"
      }
    },
    {
      "cell_type": "code",
      "source": [
        "# 디코더의 출력층\n",
        "decoder_softmax_layer = Dense(tar_vocab, activation='softmax')\n",
        "decoder_softmax_outputs = decoder_softmax_layer(decoder_outputs) \n",
        "\n",
        "# 모델 정의\n",
        "model = Model([encoder_inputs, decoder_inputs], decoder_softmax_outputs)\n",
        "model.summary()"
      ],
      "metadata": {
        "colab": {
          "base_uri": "https://localhost:8080/"
        },
        "id": "O8cq32m97ltD",
        "outputId": "46a92cd3-f933-49b0-df4c-f658f12c5104"
      },
      "execution_count": 245,
      "outputs": [
        {
          "output_type": "stream",
          "name": "stdout",
          "text": [
            "Model: \"model\"\n",
            "__________________________________________________________________________________________________\n",
            " Layer (type)                   Output Shape         Param #     Connected to                     \n",
            "==================================================================================================\n",
            " input_1 (InputLayer)           [(None, 70)]         0           []                               \n",
            "                                                                                                  \n",
            " embedding (Embedding)          (None, 70, 128)      1024000     ['input_1[0][0]']                \n",
            "                                                                                                  \n",
            " lstm (LSTM)                    [(None, 70, 256),    394240      ['embedding[0][0]']              \n",
            "                                 (None, 256),                                                     \n",
            "                                 (None, 256)]                                                     \n",
            "                                                                                                  \n",
            " input_2 (InputLayer)           [(None, None)]       0           []                               \n",
            "                                                                                                  \n",
            " lstm_1 (LSTM)                  [(None, 70, 256),    525312      ['lstm[0][0]']                   \n",
            "                                 (None, 256),                                                     \n",
            "                                 (None, 256)]                                                     \n",
            "                                                                                                  \n",
            " embedding_1 (Embedding)        (None, None, 128)    256000      ['input_2[0][0]']                \n",
            "                                                                                                  \n",
            " lstm_2 (LSTM)                  [(None, 70, 256),    525312      ['lstm_1[0][0]']                 \n",
            "                                 (None, 256),                                                     \n",
            "                                 (None, 256)]                                                     \n",
            "                                                                                                  \n",
            " lstm_3 (LSTM)                  [(None, None, 256),  394240      ['embedding_1[0][0]',            \n",
            "                                 (None, 256),                     'lstm_2[0][1]',                 \n",
            "                                 (None, 256)]                     'lstm_2[0][2]']                 \n",
            "                                                                                                  \n",
            " dense (Dense)                  (None, None, 2000)   514000      ['lstm_3[0][0]']                 \n",
            "                                                                                                  \n",
            "==================================================================================================\n",
            "Total params: 3,633,104\n",
            "Trainable params: 3,633,104\n",
            "Non-trainable params: 0\n",
            "__________________________________________________________________________________________________\n"
          ]
        }
      ]
    },
    {
      "cell_type": "markdown",
      "source": [
        "### **1-3-4. 어텐션 메커니즘 사용 (추상적 요약)**"
      ],
      "metadata": {
        "id": "J71zBKC3mEhd"
      }
    },
    {
      "cell_type": "code",
      "source": [
        "from tensorflow.keras.layers import AdditiveAttention\n",
        "\n",
        "\n",
        "# 어텐션 층(어텐션 함수)\n",
        "attn_layer = AdditiveAttention(name='attention_layer')\n",
        "\n",
        "# 인코더와 디코더의 모든 time step의 hidden state를 어텐션 층에 전달하고 결과를 리턴\n",
        "attn_out = attn_layer([decoder_outputs, encoder_outputs])\n",
        "\n",
        "\n",
        "# 어텐션의 결과와 디코더의 hidden state들을 연결\n",
        "decoder_concat_input = Concatenate(axis=-1, name='concat_layer')([decoder_outputs, attn_out])\n",
        "\n",
        "# 디코더의 출력층\n",
        "decoder_softmax_layer = Dense(tar_vocab, activation='softmax')\n",
        "decoder_softmax_outputs = decoder_softmax_layer(decoder_concat_input)\n",
        "\n",
        "# 모델 정의\n",
        "model = Model([encoder_inputs, decoder_inputs], decoder_softmax_outputs)\n",
        "model.summary()"
      ],
      "metadata": {
        "colab": {
          "base_uri": "https://localhost:8080/"
        },
        "id": "nisYV0wu_rrC",
        "outputId": "6869d6ea-ba3e-44e9-f504-808f41e8947b"
      },
      "execution_count": 246,
      "outputs": [
        {
          "output_type": "stream",
          "name": "stdout",
          "text": [
            "Model: \"model_1\"\n",
            "__________________________________________________________________________________________________\n",
            " Layer (type)                   Output Shape         Param #     Connected to                     \n",
            "==================================================================================================\n",
            " input_1 (InputLayer)           [(None, 70)]         0           []                               \n",
            "                                                                                                  \n",
            " embedding (Embedding)          (None, 70, 128)      1024000     ['input_1[0][0]']                \n",
            "                                                                                                  \n",
            " lstm (LSTM)                    [(None, 70, 256),    394240      ['embedding[0][0]']              \n",
            "                                 (None, 256),                                                     \n",
            "                                 (None, 256)]                                                     \n",
            "                                                                                                  \n",
            " input_2 (InputLayer)           [(None, None)]       0           []                               \n",
            "                                                                                                  \n",
            " lstm_1 (LSTM)                  [(None, 70, 256),    525312      ['lstm[0][0]']                   \n",
            "                                 (None, 256),                                                     \n",
            "                                 (None, 256)]                                                     \n",
            "                                                                                                  \n",
            " embedding_1 (Embedding)        (None, None, 128)    256000      ['input_2[0][0]']                \n",
            "                                                                                                  \n",
            " lstm_2 (LSTM)                  [(None, 70, 256),    525312      ['lstm_1[0][0]']                 \n",
            "                                 (None, 256),                                                     \n",
            "                                 (None, 256)]                                                     \n",
            "                                                                                                  \n",
            " lstm_3 (LSTM)                  [(None, None, 256),  394240      ['embedding_1[0][0]',            \n",
            "                                 (None, 256),                     'lstm_2[0][1]',                 \n",
            "                                 (None, 256)]                     'lstm_2[0][2]']                 \n",
            "                                                                                                  \n",
            " attention_layer (AdditiveAtten  (None, None, 256)   256         ['lstm_3[0][0]',                 \n",
            " tion)                                                            'lstm_2[0][0]']                 \n",
            "                                                                                                  \n",
            " concat_layer (Concatenate)     (None, None, 512)    0           ['lstm_3[0][0]',                 \n",
            "                                                                  'attention_layer[0][0]']        \n",
            "                                                                                                  \n",
            " dense_1 (Dense)                (None, None, 2000)   1026000     ['concat_layer[0][0]']           \n",
            "                                                                                                  \n",
            "==================================================================================================\n",
            "Total params: 4,145,360\n",
            "Trainable params: 4,145,360\n",
            "Non-trainable params: 0\n",
            "__________________________________________________________________________________________________\n"
          ]
        }
      ]
    },
    {
      "cell_type": "markdown",
      "source": [
        "\n",
        "## **1-4. 모델 훈련하기**\n",
        "----"
      ],
      "metadata": {
        "id": "_fuUxhOzjAPl"
      }
    },
    {
      "cell_type": "code",
      "source": [
        "model.compile(optimizer='rmsprop', loss='sparse_categorical_crossentropy')\n",
        "es = EarlyStopping(monitor='val_loss', patience=2, verbose=1)\n",
        "history = model.fit(x=[encoder_input_train, decoder_input_train], y=decoder_target_train, \\\n",
        "          validation_data=([encoder_input_test, decoder_input_test], decoder_target_test), \\\n",
        "          batch_size=256, callbacks=[es], epochs=50)"
      ],
      "metadata": {
        "colab": {
          "base_uri": "https://localhost:8080/"
        },
        "id": "hMBsWEgzmRCW",
        "outputId": "f940f83d-5687-4e8e-b957-7f1887698595"
      },
      "execution_count": 247,
      "outputs": [
        {
          "output_type": "stream",
          "name": "stdout",
          "text": [
            "Epoch 1/50\n",
            "300/300 [==============================] - 41s 101ms/step - loss: 3.9472 - val_loss: 3.6831\n",
            "Epoch 2/50\n",
            "300/300 [==============================] - 30s 99ms/step - loss: 3.5017 - val_loss: 3.3184\n",
            "Epoch 3/50\n",
            "300/300 [==============================] - 31s 102ms/step - loss: 3.1944 - val_loss: 3.0920\n",
            "Epoch 4/50\n",
            "300/300 [==============================] - 31s 105ms/step - loss: 2.9936 - val_loss: 2.9404\n",
            "Epoch 5/50\n",
            "300/300 [==============================] - 31s 104ms/step - loss: 2.8464 - val_loss: 2.8273\n",
            "Epoch 6/50\n",
            "300/300 [==============================] - 31s 104ms/step - loss: 2.7280 - val_loss: 2.7473\n",
            "Epoch 7/50\n",
            "300/300 [==============================] - 31s 104ms/step - loss: 2.6285 - val_loss: 2.6739\n",
            "Epoch 8/50\n",
            "300/300 [==============================] - 31s 104ms/step - loss: 2.5413 - val_loss: 2.6114\n",
            "Epoch 9/50\n",
            "300/300 [==============================] - 31s 104ms/step - loss: 2.4649 - val_loss: 2.5632\n",
            "Epoch 10/50\n",
            "300/300 [==============================] - 31s 105ms/step - loss: 2.3962 - val_loss: 2.5271\n",
            "Epoch 11/50\n",
            "300/300 [==============================] - 31s 104ms/step - loss: 2.3341 - val_loss: 2.4913\n",
            "Epoch 12/50\n",
            "300/300 [==============================] - 31s 104ms/step - loss: 2.2779 - val_loss: 2.4602\n",
            "Epoch 13/50\n",
            "300/300 [==============================] - 31s 104ms/step - loss: 2.2253 - val_loss: 2.4368\n",
            "Epoch 14/50\n",
            "300/300 [==============================] - 31s 104ms/step - loss: 2.1790 - val_loss: 2.4199\n",
            "Epoch 15/50\n",
            "300/300 [==============================] - 31s 104ms/step - loss: 2.1343 - val_loss: 2.3969\n",
            "Epoch 16/50\n",
            "300/300 [==============================] - 31s 104ms/step - loss: 2.0936 - val_loss: 2.3855\n",
            "Epoch 17/50\n",
            "300/300 [==============================] - 31s 104ms/step - loss: 2.0562 - val_loss: 2.3709\n",
            "Epoch 18/50\n",
            "300/300 [==============================] - 31s 105ms/step - loss: 2.0189 - val_loss: 2.3576\n",
            "Epoch 19/50\n",
            "300/300 [==============================] - 31s 105ms/step - loss: 1.9869 - val_loss: 2.3547\n",
            "Epoch 20/50\n",
            "300/300 [==============================] - 31s 104ms/step - loss: 1.9553 - val_loss: 2.3472\n",
            "Epoch 21/50\n",
            "300/300 [==============================] - 31s 104ms/step - loss: 1.9262 - val_loss: 2.3408\n",
            "Epoch 22/50\n",
            "300/300 [==============================] - 31s 104ms/step - loss: 1.8988 - val_loss: 2.3324\n",
            "Epoch 23/50\n",
            "300/300 [==============================] - 31s 104ms/step - loss: 1.8715 - val_loss: 2.3292\n",
            "Epoch 24/50\n",
            "300/300 [==============================] - 31s 104ms/step - loss: 1.8470 - val_loss: 2.3301\n",
            "Epoch 25/50\n",
            "300/300 [==============================] - 31s 104ms/step - loss: 1.8234 - val_loss: 2.3287\n",
            "Epoch 26/50\n",
            "300/300 [==============================] - 31s 104ms/step - loss: 1.8013 - val_loss: 2.3332\n",
            "Epoch 27/50\n",
            "300/300 [==============================] - 31s 104ms/step - loss: 1.7812 - val_loss: 2.3300\n",
            "Epoch 27: early stopping\n"
          ]
        }
      ]
    },
    {
      "cell_type": "code",
      "source": [
        "############################### loss 시각화 ################################# \n",
        "\n",
        "plt.plot(history.history['loss'], label='train')\n",
        "plt.plot(history.history['val_loss'], label='test')\n",
        "plt.legend()\n",
        "plt.show()"
      ],
      "metadata": {
        "id": "E2jH6QchEHSr",
        "colab": {
          "base_uri": "https://localhost:8080/",
          "height": 265
        },
        "outputId": "2a7c0919-3a55-4dcd-dfab-844f0a4081fa"
      },
      "execution_count": 248,
      "outputs": [
        {
          "output_type": "display_data",
          "data": {
            "text/plain": [
              "<Figure size 432x288 with 1 Axes>"
            ],
            "image/png": "[encoded data removed]"
          },
          "metadata": {
            "needs_background": "light"
          }
        }
      ]
    },
    {
      "cell_type": "markdown",
      "source": [
        "## **1-5. 인퍼런스 모델 구현**\n",
        "---"
      ],
      "metadata": {
        "id": "A0t0bEuMmRSK"
      }
    },
    {
      "cell_type": "code",
      "source": [
        "src_index_to_word = src_tokenizer.index_word # 원문 단어 집합에서 정수 -> 단어를 얻음\n",
        "tar_word_to_index = tar_tokenizer.word_index # 요약 단어 집합에서 단어 -> 정수를 얻음\n",
        "tar_index_to_word = tar_tokenizer.index_word # 요약 단어 집합에서 정수 -> 단어를 얻음\n",
        "\n"
      ],
      "metadata": {
        "id": "bE40jx8qEb2b"
      },
      "execution_count": 249,
      "outputs": []
    },
    {
      "cell_type": "code",
      "source": [
        "# 인코더 설계\n",
        "encoder_model = Model(inputs=encoder_inputs, outputs=[encoder_outputs, state_h, state_c])\n",
        "\n",
        "# 이전 시점의 상태들을 저장하는 텐서\n",
        "decoder_state_input_h = Input(shape=(hidden_size,))\n",
        "decoder_state_input_c = Input(shape=(hidden_size,))\n",
        "\n",
        "dec_emb2 = dec_emb_layer(decoder_inputs)\n",
        "\n",
        "# 문장의 다음 단어를 예측하기 위해서 초기 상태(initial_state)를 이전 시점의 상태로 사용. 이는 뒤의 함수 decode_sequence()에 구현\n",
        "# 훈련 과정에서와 달리 LSTM의 리턴하는 은닉 상태와 셀 상태인 state_h와 state_c를 버리지 않음.\n",
        "decoder_outputs2, state_h2, state_c2 = decoder_lstm(dec_emb2, initial_state=[decoder_state_input_h, decoder_state_input_c])\n"
      ],
      "metadata": {
        "id": "srqx3uPOEgFC"
      },
      "execution_count": 250,
      "outputs": []
    },
    {
      "cell_type": "code",
      "source": [
        "# 어텐션 함수\n",
        "decoder_hidden_state_input = Input(shape=(text_max_len, hidden_size))\n",
        "attn_out_inf = attn_layer([decoder_outputs2, decoder_hidden_state_input])\n",
        "decoder_inf_concat = Concatenate(axis=-1, name='concat')([decoder_outputs2, attn_out_inf])\n",
        "\n",
        "# 디코더의 출력층\n",
        "decoder_outputs2 = decoder_softmax_layer(decoder_inf_concat) \n",
        "\n",
        "# 최종 디코더 모델\n",
        "decoder_model = Model(\n",
        "    [decoder_inputs] + [decoder_hidden_state_input,decoder_state_input_h, decoder_state_input_c],\n",
        "    [decoder_outputs2] + [state_h2, state_c2])\n"
      ],
      "metadata": {
        "id": "MlGjdpvxEiMZ"
      },
      "execution_count": 251,
      "outputs": []
    },
    {
      "cell_type": "code",
      "source": [
        "def decode_sequence(input_seq):\n",
        "    # 입력으로부터 인코더의 상태를 얻음\n",
        "    e_out, e_h, e_c = encoder_model.predict(input_seq)\n",
        "\n",
        "     # <SOS>에 해당하는 토큰 생성\n",
        "    target_seq = np.zeros((1,1))\n",
        "    target_seq[0, 0] = tar_word_to_index['sostoken']\n",
        "\n",
        "    stop_condition = False\n",
        "    decoded_sentence = ''\n",
        "    while not stop_condition: # stop_condition이 True가 될 때까지 루프 반복\n",
        "\n",
        "        output_tokens, h, c = decoder_model.predict([target_seq] + [e_out, e_h, e_c])\n",
        "        sampled_token_index = np.argmax(output_tokens[0, -1, :])\n",
        "        sampled_token = tar_index_to_word[sampled_token_index]\n",
        "\n",
        "        if (sampled_token!='eostoken'):\n",
        "            decoded_sentence += ' '+sampled_token\n",
        "\n",
        "        #  <eos>에 도달하거나 최대 길이를 넘으면 중단.\n",
        "        if (sampled_token == 'eostoken'  or len(decoded_sentence.split()) >= (summary_max_len-1)):\n",
        "            stop_condition = True\n",
        "\n",
        "        # 길이가 1인 타겟 시퀀스를 업데이트\n",
        "        target_seq = np.zeros((1,1))\n",
        "        target_seq[0, 0] = sampled_token_index\n",
        "\n",
        "        # 상태를 업데이트 합니다.\n",
        "        e_h, e_c = h, c\n",
        "\n",
        "    return decoded_sentence\n"
      ],
      "metadata": {
        "id": "cDuiSp_fEk0k"
      },
      "execution_count": 252,
      "outputs": []
    },
    {
      "cell_type": "markdown",
      "source": [
        "# **2. 추상적모델 vs 추출적모델**\n",
        "---"
      ],
      "metadata": {
        "id": "Cgq0TUNBmRbN"
      }
    },
    {
      "cell_type": "markdown",
      "source": [
        "> 이때까지 추상적요약모델을 생성했는데, 이 추상적요약과 추출적요약이 어떻게 다른지 출력해보도록 하겠다."
      ],
      "metadata": {
        "id": "KdWsEBdalgYy"
      }
    },
    {
      "cell_type": "code",
      "source": [
        "# 원문의 정수 시퀀스를 텍스트 시퀀스로 변환\n",
        "def seq2text(input_seq):\n",
        "    temp=''\n",
        "    for i in input_seq:\n",
        "        if (i!=0):\n",
        "            temp = temp + src_index_to_word[i]+' '\n",
        "    return temp\n",
        "\n",
        "# 요약문의 정수 시퀀스를 텍스트 시퀀스로 변환\n",
        "def seq2summary(input_seq):\n",
        "    temp=''\n",
        "    for i in input_seq:\n",
        "        if ((i!=0 and i!=tar_word_to_index['sostoken']) and i!=tar_word_to_index['eostoken']):\n",
        "            temp = temp + tar_index_to_word[i] + ' '\n",
        "    return temp\n",
        "\n",
        "print('=3')"
      ],
      "metadata": {
        "colab": {
          "base_uri": "https://localhost:8080/"
        },
        "id": "xrQG3JfnEyZQ",
        "outputId": "e9591ced-79e1-4247-908e-21b471fade18"
      },
      "execution_count": 253,
      "outputs": [
        {
          "output_type": "stream",
          "name": "stdout",
          "text": [
            "=3\n"
          ]
        }
      ]
    },
    {
      "cell_type": "code",
      "source": [
        "for i in range(50, 100):\n",
        "    txt = data[\"Text\"][i]\n",
        "    print(\"원문 :\", txt)\n",
        "    print(\"실제 요약 :\", seq2summary(decoder_input_test[i]))\n",
        "\n",
        "    print(\"예측_추상적요약 :\", decode_sequence(encoder_input_test[i].reshape(1, text_max_len)))\n",
        "    print(\"예측_추출적요약 :\", summarize(txt,  words=text_max_len))\n",
        "    print(\"\\n\")"
      ],
      "metadata": {
        "colab": {
          "base_uri": "https://localhost:8080/"
        },
        "id": "fTSXIxRoVf--",
        "outputId": "fccd2af0-2f31-4840-9178-a95015d952b8"
      },
      "execution_count": 304,
      "outputs": [
        {
          "output_type": "stream",
          "name": "stdout",
          "text": [
            "원문 : Former Finance Minister Yashwant Sinha on Tuesday demanded a probe into the alleged diversion of loans worth Ã¢ÂÂ¹31,000 crore by Dewan Housing Finance (DHFL). All agencies including regulators of the government have failed to track nefarious deals, he said. This comes after a media report on Tuesday accused DHFL's controlling shareholders of diverting funds to shell companies to buy assets.\n",
            "실제 요약 : sl captain coach and manager banned for tests odis \n",
            "예측_추상적요약 :  sl coach banned for odis odis\n",
            "예측_추출적요약 : \n",
            "\n",
            "\n",
            "원문 : US-based Boeing on Wednesday reported annual sales worth $101.12 billion in 2018, the first time the planemaker's sales crossed the $100-billion mark in its 102-year history. The company said it expects to deliver between 895 and 905 commercial aircraft in 2019. Boeing retained its position as the world's largest planemaker for the seventh straight year, delivering 806 aircraft in 2018. \n",
            "실제 요약 : attack was to encounter chhattisgarh cm \n",
            "예측_추상적요약 :  attack crpf killed in encounter\n",
            "예측_추출적요약 : Boeing retained its position as the world's largest planemaker for the seventh straight year, delivering 806 aircraft in 2018.\n",
            "\n",
            "\n",
            "원문 : text\n",
            "실제 요약 : does dhoni like no look in test \n",
            "예측_추상적요약 :  dhoni ball in a run out of dhawan\n",
            "예측_추출적요약 : \n",
            "\n",
            "\n",
            "원문 : OnePlus has emerged as India's best-selling premium smartphone brand of 2018, as per a report by Counterpoint. It captured 36% of the market share in the premium segment, in Q4 2018. Further, its OnePlus 6 emerged as the highest selling premium smartphone of 2018 followed by OnePlus 6T.\n",
            "실제 요약 : airline blames as emergency falls after landing \n",
            "예측_추상적요약 :  plane with emergency landing\n",
            "예측_추출적요약 : Further, its OnePlus 6 emerged as the highest selling premium smartphone of 2018 followed by OnePlus 6T.\n",
            "\n",
            "\n",
            "원문 : Filmmaker Pooja Bhatt, while talking about the presentation of women in her films, said, \"I can never look at a female body, even if it's naked, in a vulgar manner.\" \"Our audience can say...the women in my films are bold or sensual, but never ever vulgar,\" she added. Pooja further said her censor board is her \"own heart and mind\".\n",
            "실제 요약 : ex wc winning arsenal player named head coach \n",
            "예측_추상적요약 :  coach named coach of players\n",
            "예측_추출적요약 : \n",
            "\n",
            "\n",
            "원문 : Actress Mishti, who has featured in 'Manikarnika: The Queen of Jhansi', has said the film's co-director Kangana Ranaut made false promises to the cast. \"Kangana had said, 'I want dates because all characters look jumbled up...I'm trying my best to give everybody a prominent space on screen.' After watching the movie, there is no scope for other characters,\" Mishti added. \n",
            "실제 요약 : of shows at times sunil gavaskar on virat kohli \n",
            "예측_추상적요약 :  kohli has been as a team of kohli gavaskar\n",
            "예측_추출적요약 : \n",
            "\n",
            "\n",
            "원문 : The high-powered committee led by PM Narendra Modi to select the next CBI Director will meet again on February 1, Congress leader Mallikarjun Kharge has said. The panel consisting of Kharge and Chief Justice of India Ranjan Gogoi met on January 24, but the meeting ended \"inconclusively\" after Kharge cited lack of details in the list of 80 IPS officers. \n",
            "실제 요약 : bill to increase card by in us \n",
            "예측_추상적요약 :  gst to lakh lakh in india\n",
            "예측_추출적요약 : \n",
            "\n",
            "\n",
            "원문 : Nevada State Athletic Commission has banned MMA fighters Conor McGregor and Khabib Nurmagomedov for six months and nine months respectively over their roles in the mass brawl that occurred after their fight at UFC 229 last October. McGregor and Khabib have been fined $50,000 (Ã¢ÂÂ¹35 lakh) and $500,000 (Ã¢ÂÂ¹3.5 crore) respectively. The brawl occurred after Nurmagomedov confronted McGregor's teammate.\n",
            "실제 요약 : to remake the electric of \n",
            "예측_추상적요약 :  to launch electric car\n",
            "예측_추출적요약 : \n",
            "\n",
            "\n",
            "원문 : Pakistan captain Sarfaraz Ahmed, who has been banned for four matches over racist remarks, took an apparent dig at his critics by sharing a video of a child reciting 'log hai na' poem on Twitter. \"Pyaar karna hai to khud se kar...dushmani karne ke liye log hai na,\" the poem read. \"This is how the world is,\" Sarfaraz wrote.\n",
            "실제 요약 : good should be like book that is kajol \n",
            "예측_추상적요약 :  should be like to be a kajol\n",
            "예측_추출적요약 : \n",
            "\n",
            "\n",
            "원문 : Banned cricketer Sreesanth has told Supreme Court he initially confessed to Delhi Police about his alleged involvement in 2013 IPL spot-fixing scandal to escape continuous police torture. Sreesanth further said the bookie tried dragging him into spot-fixing but he didn't fall for it. Citing Sreesanth not informing BCCI about fixing approach, the apex court said Sreesanth's conduct \"wasn't good\".\n",
            "실제 요약 : idea stock has since vodafone merger \n",
            "예측_추상적요약 :  idea shares of merger with vodafone idea\n",
            "예측_추출적요약 : Sreesanth further said the bookie tried dragging him into spot-fixing but he didn't fall for it.\n",
            "\n",
            "\n",
            "원문 : The Finance Ministry on Wednesday said the government will present an Interim Budget on February 1. The clarification came amid speculations that a full Budget may be presented during the session. The government recently assigned Piyush Goyal temporary additional charge of the Finance and Corporate Affairs ministries in the absence of Arun Jaitley, who is in the US for treatment.\n",
            "실제 요약 : to stake in for cr \n",
            "예측_추상적요약 :  approves crore for\n",
            "예측_추출적요약 : The Finance Ministry on Wednesday said the government will present an Interim Budget on February 1.\n",
            "\n",
            "\n",
            "원문 : US President Donald Trump on Wednesday called his country's top intelligence chiefs \"naive\" and \"wrong\" on Iran and added that they should perhaps \"go back to school\". Trump claimed Iran is testing rockets, calling the country \"a source of potential danger and conflict\". Top US intelligence officials on Tuesday said that Iran isn't currently taking steps towards building nuclear weapons.\n",
            "실제 요약 : what are the features of iphone and iphone \n",
            "예측_추상적요약 :  apple launches india with india\n",
            "예측_추출적요약 : \n",
            "\n",
            "\n",
            "원문 : A senior priest at the Vatican who handled cases of sexual abuse has quit after being accused of sexual abuse by a former nun. The accused priest claimed he is innocent and said he would consider taking legal action. The Vatican said in a statement that a Church investigation of the case was underway.\n",
            "실제 요약 : russia unveils ahead of cup \n",
            "예측_추상적요약 :  russia unveils world cup trophy\n",
            "예측_추출적요약 : \n",
            "\n",
            "\n",
            "원문 : A 22-year-old writer turned down a job offer, claiming she was bullied to the point of tears during her two-hour interview by a UK company's CEO. Olivia Bland added the \"brutal\" interview brought back painful memories of her abusive relationship. \"I am so sorry that anyone has been hurt, it is never my intent,\" Web Applications CEO Craig Dean replied. \n",
            "실제 요약 : into bengaluru metro stations \n",
            "예측_추상적요약 :  over bengaluru metro\n",
            "예측_추출적요약 : \n",
            "\n",
            "\n",
            "원문 : Noida Police has arrested Sector 20 station in-charge Manoj Pant and three journalists for allegedly extorting money from a call centre owner for removing his name from an FIR. The four were caught while taking bribe money of Ã¢ÂÂ¹8 lakh, police said. Pant was the lead investigator in the Paytm extortion case involving Founder Vijay Shekhar Sharma's secretary Sonia Dhawan.\n",
            "실제 요약 : cook for in st innings of his career final test \n",
            "예측_추상적요약 :  cook st test ton in his career\n",
            "예측_추출적요약 : \n",
            "\n",
            "\n",
            "원문 : Airtel on Wednesday said that Qatar's sovereign wealth fund Qatar Investment Authority will invest $200 million through a primary equity issuance in Airtel Africa. India's second-largest telecom operator's Africa unit recently raised $1.25 billion from six investors. Airtel Africa, the holding company for Airtel's operations in 14 African countries, is preparing for an initial public offering.\n",
            "실제 요약 : tamil nadu cm meets pm modi amid merger talks \n",
            "예측_추상적요약 :  pm modi meets pm modi for days\n",
            "예측_추출적요약 : Airtel Africa, the holding company for Airtel's operations in 14 African countries, is preparing for an initial public offering.\n",
            "\n",
            "\n",
            "원문 : Actor Shreyas Talpade said that 'Golmaal' filmmaker Rohit Shetty is still working on the script for the fifth instalment of the 'Golmaal' film franchise. \"He was telling us the other day that he...cracked some story. Once he's done with the...scripting, he'll take a call,Ã¢ÂÂ the actor added. The series features Shreyas along with Ajay Devgn, Arshad Warsi and Tusshar Kapoor.\n",
            "실제 요약 : india not doing us a trump on \n",
            "예측_추상적요약 :  trump on us duty on trump\n",
            "예측_추출적요약 : \n",
            "\n",
            "\n",
            "원문 : A 72-year-old man named Terry Sanderson has sued 'Avengers' actress Gwyneth Paltrow for allegedly crashing into him while skiing, and is seeking $3.1 million (over Ã¢ÂÂ¹22 crore) in damages. The lawsuit states the actress got up and skied away after knocking the man down, leaving him with broken ribs. The incident reportedly took place in 2016 in Utah, US. \n",
            "실제 요약 : us about n korea with state secy \n",
            "예측_추상적요약 :  us nuclear war with our us\n",
            "예측_추출적요약 : \n",
            "\n",
            "\n",
            "원문 : Yami Gautam was felicitated by Border Security Force (BSF) in Amritsar for her performance in 'Uri: The Surgical Strike'. \"BSF is the first line of defence of our country and it gives me...pride to have met them,\" Yami said. The film, which also stars Vicky Kaushal, is based on the Indian Army's surgical strike operation which took place in 2016.\n",
            "실제 요약 : us to parents children country \n",
            "예측_추상적요약 :  us to stop children from\n",
            "예측_추출적요약 : Yami Gautam was felicitated by Border Security Force (BSF) in Amritsar for her performance in 'Uri: The Surgical Strike'.\n",
            "\n",
            "\n",
            "원문 : Social media giant Facebook has hired privacy critic Nate Cardozo, formerly the top legal counsel for US privacy watchdog EFF, as a privacy policy manager for WhatsApp. Cardozo had called Facebook a \"faceless corporation\" whose business model depends on user's confusion and indifference about privacy, in October 2015. Facebook has also hired attorney Robyn Greene as its privacy policy manager.\n",
            "실제 요약 : against trolls is as \n",
            "예측_추상적요약 :  i am not on the\n",
            "예측_추출적요약 : \n",
            "\n",
            "\n",
            "원문 : Apple CEO Tim Cook said the company plans to lower some iPhones' prices in markets with currencies that weakened against the US dollar in the past year. \"WeÃ¢ÂÂve decided to go back to (iPhone prices) more commensurate with...local prices...a year ago,\" Cook added. The price cuts, in hopes of increasing sales, are reportedly occurring for second time in 12 years.\n",
            "실제 요약 : triple talaq is against indian union minister \n",
            "예측_추상적요약 :  can triple talaq if we are triple talaq\n",
            "예측_추출적요약 : \"WeÃ¢ÂÂve decided to go back to (iPhone prices) more commensurate with...local prices...a year ago,\" Cook added.\n",
            "\n",
            "\n",
            "원문 : Scientists in Australia's Flinders University are testing a wetsuit prototype that could protect its wearer after a shark attack. The suit, made of synthetic material similar to the material used in bulletproof vests, could help reduce blood loss after a shark attack. \"The majority of fatalities from shark bites is due to blood loss...shock from blood loss,\" a scientist said.\n",
            "실제 요약 : india to see over the \n",
            "예측_추상적요약 :  what is the india\n",
            "예측_추출적요약 : \"The majority of fatalities from shark bites is due to blood loss...shock from blood loss,\" a scientist said.\n",
            "\n",
            "\n",
            "원문 : BJP National Secretary Rahul Sinha on Wednesday asked the party workers in West Bengal to come armed with sticks to PM Narendra Modi's rally in the state on February 2. His statement came a day after clashes broke out following BJP chief Amit Shah's WB rally. Sinha added the TMC is indulged in violence as they're afraid of BJP's strength.\n",
            "실제 요약 : choksi an by selling ed \n",
            "예측_추상적요약 :  choksi on sale of choksi\n",
            "예측_추출적요약 : \n",
            "\n",
            "\n",
            "원문 : BJP President Amit Shah on Wednesday took a dig at the Opposition parties saying that the 'mahagathbandhan' for the Opposition is 4B - \"Bua-Bhatija-Bhai-Behen\". He added that 4B for the BJP meant \"Badhta Bharat, Banta Bharat\". He said Opposition's government cannot take the country ahead and \"only Modiji can provide a 'mazboot' (strong) government\".\n",
            "실제 요약 : defeat india by wickets in one off t i \n",
            "예측_추상적요약 :  india beat to win t i series\n",
            "예측_추출적요약 : \n",
            "\n",
            "\n",
            "원문 : German automaker Volkswagen Group has retained the car industry's top spot in global sales, beating its Japanese rival Toyota. Volkswagen's sales, including its MAN and Scania heavy trucks and buses, rose 0.9% to 10.83 million in 2018, the company had said. Toyota came second with around 10.6 million deliveries, including its affiliated brands Daihatsu and Hino, in 2018.\n",
            "실제 요약 : uber drops truck unit name \n",
            "예측_추상적요약 :  uber who can uber drivers who failed\n",
            "예측_추출적요약 : Volkswagen's sales, including its MAN and Scania heavy trucks and buses, rose 0.9% to 10.83 million in 2018, the company had said.\n",
            "\n",
            "\n",
            "원문 : Ousted Nissan Chairman Carlos Ghosn has said his arrest over alleged financial misconduct was led by \"plot and treason\" by the Japanese carmaker's executives who opposed its deeper integration with Renault and Mitsubishi. Ghosn added he had discussed the integration plans with Nissan's CEO in September, a month before his arrest. He further said he wouldn't flee if granted bail.\n",
            "실제 요약 : deadline for account to give to june \n",
            "예측_추상적요약 :  i t dept to file for accounts\n",
            "예측_추출적요약 : \n",
            "\n",
            "\n",
            "원문 : The government has cut down customs duty on import of parts and components for electric vehicles to 10-15%, down from the previous 15-30%. The Central Board of Indirect Taxes and Customs said disassembled parts will attract 10% duty, whereas 15% will be levied on pre-assembled packs. However, fully built electric vehicles will continue to attract 25% import duty.\n",
            "실제 요약 : to buy singapore for crore \n",
            "예측_추상적요약 :  firm to buy bn for bn\n",
            "예측_추출적요약 : \n",
            "\n",
            "\n",
            "원문 : Government officials on Wednesday said that a swine flu outbreak has killed 76 people this year in Rajasthan. Colder weather has worsened the seasonal outbreak of the H1N1 virus in the country, officials added. Rajasthan recorded more than a third of all swine flu deaths in India with Jodhpur being the worst affected area in the state, officials said.\n",
            "실제 요약 : ed chidambaram in case \n",
            "예측_추상적요약 :  chidambaram in case\n",
            "예측_추출적요약 : Government officials on Wednesday said that a swine flu outbreak has killed 76 people this year in Rajasthan.\n",
            "\n",
            "\n",
            "원문 : North Korea is \"unlikely to completely give up its nuclear weapons and production capabilities\", Director of US' National Intelligence, Daniel Coats, said. \"North Korean leaders view nuclear arms as critical to regime survival,\" he added. His statements come despite North Korea's agreement with the US at the Singapore summit last year to denuclearise the Korean Peninsula. \n",
            "실제 요약 : uk pm may wins no vote \n",
            "예측_추상적요약 :  uk pm may vote to vote in parliament\n",
            "예측_추출적요약 : \"North Korean leaders view nuclear arms as critical to regime survival,\" he added.\n",
            "\n",
            "\n",
            "원문 : Jet Airways on Wednesday denied it was directed by GE Capital Aviation Services to ground its aircraft due to non-payment of dues. The airline said it's in the process of delivering three aircraft to lessors due to the expiry of lease terms. Further, three aircraft have been temporarily grounded to carry out an engine normalisation exercise, it added.\n",
            "실제 요약 : threat to pm cannot be taken as cong swamy \n",
            "예측_추상적요약 :  bjp mp pm modi says he cannot be bjp leader\n",
            "예측_추출적요약 : Further, three aircraft have been temporarily grounded to carry out an engine normalisation exercise, it added.\n",
            "\n",
            "\n",
            "원문 : Retired Justice Srikrishna's enquiry panel has found that ex-CEO Chanda Kochhar violated ICICI Bank's code of conduct. The bank said it'll treat Kochhar's exit as termination and will take back all bonuses paid to her from April 2009 until March 2018. The CBI recently filed a case against Kochhar, her husband, and Videocon MD in the ICICI-Videocon loan case.\n",
            "실제 요약 : south asia satellite a india to pm modi \n",
            "예측_추상적요약 :  pm modi launches india on india\n",
            "예측_추출적요약 : Retired Justice Srikrishna's enquiry panel has found that ex-CEO Chanda Kochhar violated ICICI Bank's code of conduct.\n",
            "\n",
            "\n",
            "원문 : Ex-India cricketer Jacob Martin has been shifted to general ward from the ICU after being on a ventilator for nearly a month following a road accident, wherein he severely injured his lungs. Martin's wife Khyati mentioned there are chances that Jacob will be in hospital for two more months. BCCI, CSK and various cricketers provided financial assistance for Martin's treatment.\n",
            "실제 요약 : player pays for fans during wc match \n",
            "예측_추상적요약 :  l football match in\n",
            "예측_추출적요약 : \n",
            "\n",
            "\n",
            "원문 : Sri Lanka all-rounder Thisara Perera has written to Sri Lanka Cricket CEO Ashley de Silva, asking the board to intervene after ODI captain Lasith Malinga's wife Tanya targeted him on Facebook. Tanya accused Perera of meeting country's Sports Minister to secure his place in the team. \"We've become laughing stock of whole country...because of one person's personal vendetta,\" Perera wrote.\n",
            "실제 요약 : first song from starrer returns out \n",
            "예측_추상적요약 :  song from returns out\n",
            "예측_추출적요약 : Tanya accused Perera of meeting country's Sports Minister to secure his place in the team.\n",
            "\n",
            "\n",
            "원문 : Goa CM and ex-Defence Minister Manohar Parrikar has written a letter to Congress President Rahul Gandhi over his claim that Parrikar told him he has nothing to do with new Rafale deal. Parrikar wrote, \"Kindly do not use your visit to an ailing person to feed political opportunism.\" In their five-minute meeting, they didn't discuss anything about Rafale, he added.\n",
            "실제 요약 : govt plans along india pakistan border \n",
            "예측_추상적요약 :  govt plans to make pak along border\n",
            "예측_추출적요약 : \n",
            "\n",
            "\n",
            "원문 : Prime Minister Narendra Modi stopped his speech at the inauguration of the new terminal building at Surat airport after observing that a cameraman had fainted. PM Modi then asked his officers to urgently arrange for an ambulance for the cameraman. \"It's good that PM was paying attention to his surroundings during his speech,\" the cameraman later said from a hospital. \n",
            "실제 요약 : kids content startup raises million \n",
            "예측_추상적요약 :  us startup raises million\n",
            "예측_추출적요약 : PM Modi then asked his officers to urgently arrange for an ambulance for the cameraman.\n",
            "\n",
            "\n",
            "원문 : A couple got divorced minutes after their wedding ceremony got over in Gujarat's Gondal as a disagreement broke out and relatives from both sides started throwing dishes at each other during lunch. The advocates representing both sides arrived at the marriage hall and got the couple divorced within minutes. The couple even reportedly returned the gifts exchanged during the ceremony.\n",
            "실제 요약 : the image of a sun like star \n",
            "예측_추상적요약 :  star star in star\n",
            "예측_추출적요약 : \n",
            "\n",
            "\n",
            "원문 : Gujarat Education Minister Bhupendrasinh Chudasma has written a congratulatory message to a yoga ashram run by rape-convict Asaram's organisation for observing February 14 as \"Matru-Pitru Pujan Divas\" (Mother-Father worship day). After the Congress termed the letter as \"unfortunate\", saying it \"shows the nexus between BJP and godman\", Chudasma clarified, \"All I have done is sent best wishes.\" \n",
            "실제 요약 : teaser of film black released \n",
            "예측_추상적요약 :  teaser of song from out\n",
            "예측_추출적요약 : \n",
            "\n",
            "\n",
            "원문 : Venezuelan President NicolÃÂ¡s Maduro has claimed that his American counterpart Donald Trump ordered the Colombian government and the Colombian mafia to kill him. \"If something happens to me, Trump and Colombian President IvÃÂ¡n MÃÂ¡rquez will bear responsibility,\" he added. The US has blamed Maduro for the economic crisis in Venezuela and recognised opposition leader Juan GuaidÃÂ³ as interim President.\n",
            "실제 요약 : were cricket to attend sri sri event j k youth \n",
            "예측_추상적요약 :  i will give to bring back bcci\n",
            "예측_추출적요약 : \n",
            "\n",
            "\n",
            "원문 : Eight Asian billionaires aged 90 or above on the Bloomberg Billionaires Index of world's 500 richest people have a combined net worth of $125 billion. The richest among them is Hong Kong's Li Ka Shing with a net worth of $30.5 billion. India's 90-year-old Pallonji Mistry, who controls 18.3% of Tata Sons through Shapoorji Pallonji Group, is worth $20.1 billion.\n",
            "실제 요약 : india sends back pak students over of soldiers \n",
            "예측_추상적요약 :  indian army team at university\n",
            "예측_추출적요약 : The richest among them is Hong Kong's Li Ka Shing with a net worth of $30.5 billion.\n",
            "\n",
            "\n",
            "원문 : Tamil Nadu food safety officials on Wednesday raided and seized 1,000 kgs of banned plastic items from Hotel Saravana Bhavan in Chennai's Vadapalani. Officials began a surprise check in the branch at 8 am. The state government had banned single-use plastics from January 1 and said the banned items should be handed over at the offices of the city corporation.\n",
            "실제 요약 : to railways like a come \n",
            "예측_추상적요약 :  to be under railway chairman\n",
            "예측_추출적요약 : \n",
            "\n",
            "\n",
            "원문 : Actress Shamita Shetty was verbally abused and her driver was slapped in an incident of road rage in Mumbai on Tuesday, as per reports. The incident reportedly took place after a motorist who was accompanied by two friends, rammed his vehicle into Shamita's car. The men allegedly manhandled and threatened Shamita's driver when he stepped out to inspect the damage. \n",
            "실제 요약 : sbi cuts daily atm from to \n",
            "예측_추상적요약 :  sbi atm to cash on\n",
            "예측_추출적요약 : \n",
            "\n",
            "\n",
            "원문 : Actress Vaani Kapoor said that trolling has become a norm on social media, adding, \"There's no one who hasn't got trolled on social media.\" \"Everybody is out there to pull the other person down but it'll only bother [you] if you let it bother you,\" Vaani added. She further said, social media offers a platform \"where people enjoy belittling everybody\". \n",
            "실제 요약 : delhi cm writes to pm modi rahul gandhi over drive \n",
            "예측_추상적요약 :  pm modi should be rahul gandhi\n",
            "예측_추출적요약 : \n",
            "\n",
            "\n",
            "원문 : Actress Sushmita Sen took to Instagram to share a joke on the subject of marriage. \"Whoever invented marriage was creepy as hell. Like I love you so much IÃ¢ÂÂm gonna get the government involved so you canÃ¢ÂÂt leave,\" Sushmita's post read. \"This is an insult to [the] beauty of marriage,\" an Instagram user commented on her post.\n",
            "실제 요약 : in have content study \n",
            "예측_추상적요약 :  govt orders of in\n",
            "예측_추출적요약 : \"This is an insult to [the] beauty of marriage,\" an Instagram user commented on her post.\n",
            "\n",
            "\n",
            "원문 : Television actor Karanvir Bohra, who flew to Russia on Tuesday to attend a film festival, has been detained in Moscow due to passport damage. \"They [are] contemplating to deport me back to India,\" the actor wrote on Twitter. The Indian embassy in Russia's capital responded to his tweet and said that they were looking into the issue. \n",
            "실제 요약 : offers to pay fine of tourists who \n",
            "예측_추상적요약 :  offers l for tourists\n",
            "예측_추출적요약 : \n",
            "\n",
            "\n",
            "원문 : While speaking about winning awards for his films, Shah Rukh Khan said, \"If I don't get an award, that award is at a loss.\" \"Sometimes, the prestige of an award increases when I receive it,\" the actor jokingly added. Shah Rukh further said that he was \"extremely ambitious\" but in a \"fair manner\". \n",
            "실제 요약 : india beat pak in blind cricket world cup \n",
            "예측_추상적요약 :  india beat pakistan to reach world cup final\n",
            "예측_추출적요약 : \n",
            "\n",
            "\n",
            "원문 : Actress Patralekhaa will make her debut in the Kannada film industry with the action-comedy film 'Where is my Kannadaka?' \"I can definitely say that itÃ¢ÂÂs a kind of role that I havenÃ¢ÂÂt portrayed on screen so far and that makes it special for me,\" the actress said in a statement. Shooting for the film will reportedly begin in April.\n",
            "실제 요약 : gujarat congress to off farmers loan after polls \n",
            "예측_추상적요약 :  will loans if oil will continue to power cong\n",
            "예측_추출적요약 : \n",
            "\n",
            "\n",
            "원문 : Gmail on Tuesday faced a global outage, which also affected India, wherein certain users complained they faced a '404 error' message while trying to sign-in to their accounts. The error message read: \"The requested URL was not found on this server. That's all we know.\" Google responded saying \"problem with Gmail should be resolved (now). We apologise for the inconvenience\".\n",
            "실제 요약 : cricket kohli on ball \n",
            "예측_추상적요약 :  kohli is not a\n",
            "예측_추출적요약 : \n",
            "\n",
            "\n",
            "원문 : Shiv Sena chief Uddhav Thackeray has asked the BJP to decide about the alliance with the Sena within 15 days and said the BJP should make a concrete proposal on the alliance. Thackeray added that only if the BJP agrees to Sena's terms and conditions, the party will agree for an alliance. Sena is free to fight independently, he said. \n",
            "실제 요약 : in over years \n",
            "예측_추상적요약 :  russian russian in days after days\n",
            "예측_추출적요약 : \n",
            "\n",
            "\n",
            "원문 : BJP President Amit Shah on Wednesday took a dig at the Opposition's proposed grand alliance saying if the \"mahagathbandhan comes to power, each opposition leader will be a Prime Minister every day of the week\". He added, \"[The] country will go on...holiday on Sunday\". He said the Opposition is thinking about leading the country but does not have a leader.\n",
            "실제 요약 : canada bans from using \n",
            "예측_추상적요약 :  canada bars over illegal\n",
            "예측_추출적요약 : He said the Opposition is thinking about leading the country but does not have a leader.\n",
            "\n",
            "\n",
            "원문 : Prime Minister Narendra Modi on Wednesday said his government's demonetisation decision made houses affordable for the aspiring youth. He added decisions like demonetisation and RERA have put a check on black money that used to be \"parked in the real estate sector\". He said 'UDAN' (Ude Desh ka Aam Nagrik) scheme has boosted the development of the country's aviation sector.\n",
            "실제 요약 : india u scores from behind goal line in \n",
            "예측_추상적요약 :  india goal goal with\n",
            "예측_추출적요약 : \n",
            "\n",
            "\n"
          ]
        }
      ]
    }
  ]
}