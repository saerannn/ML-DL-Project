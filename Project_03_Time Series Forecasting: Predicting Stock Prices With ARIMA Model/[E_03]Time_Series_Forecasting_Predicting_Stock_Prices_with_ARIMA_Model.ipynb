{
  "nbformat": 4,
  "nbformat_minor": 0,
  "metadata": {
    "colab": {
      "name": " [E-03]Time Series Forecasting: Predicting Stock Prices with ARIMA Model",
      "provenance": [],
      "collapsed_sections": []
    },
    "kernelspec": {
      "name": "python3",
      "display_name": "Python 3"
    },
    "language_info": {
      "name": "python"
    }
  },
  "cells": [
    {
      "cell_type": "markdown",
      "source": [
        "# **[ Project 03. Time-Series Forecasting: Predicting Stock Prices with ARIMA Model ]**\n"
      ],
      "metadata": {
        "id": "zY-sEKzjJg2q"
      }
    },
    {
      "cell_type": "markdown",
      "source": [
        "\n",
        "## **0. 문제정의**\n",
        "---"
      ],
      "metadata": {
        "id": "gBSkjT9Jt7I-"
      }
    },
    {
      "cell_type": "markdown",
      "source": [
        "### **0-1. 프로젝트 목표**  \n",
        "<div>\n",
        "\n",
        "</br>\n",
        "본 프로젝트의 목표는 시계열 예측(Time-Series Prediction)을 다루는 여러 가지 통계적 기법 중에 가장 널리 알려진 ARIMA(Auto-regressive Integrated Moving Average)를 활용하여 특정 주식 종목의 가격을 예측해 보는것이다.\n",
        "</div>\n",
        "\n"
      ],
      "metadata": {
        "id": "AfHdbLZMwZr3"
      }
    },
    {
      "cell_type": "markdown",
      "source": [
        "\n",
        "### **0.2. 분석 데이터 정의** \n",
        "<div> \n",
        "본 데이터는 \n",
        "<a href = \"https://finance.yahoo.com\"> Yahoo Finance </a> 에서 제공하는 삼성,카카오,애플의 1년간(210505~220505)의 주가가 기록되어있다. \n",
        "</br>\n",
        "데이터 아래 표와 같이 구성되어있다. \n",
        "</br>\n",
        "</br>\n",
        "\n",
        "| 컬럼 | 설명 |\n",
        "| --- | --- |\n",
        "| Date | 날짜 |\n",
        "| Open | 시작가  |\n",
        "| High | 최고가  |\n",
        "| Low | 최저가 |\n",
        "| Close | 종가 |\n",
        "| Adj Close | 수정종가 |\n",
        "| Volume | 거래량 |\n",
        "\n",
        "</br>\n",
        "본 프로젝트에서는 종가(Close)만 사용하도록하겠다. (주식 시장은 정해진 시간 동안만 거래가 가능한데, 종가란 하루의 장이 마감하였을 때의 가격을 뜻한다.)\n",
        "</div> \n"
      ],
      "metadata": {
        "id": "zPi2qHW19Hkx"
      }
    },
    {
      "cell_type": "markdown",
      "source": [
        "\n",
        "### **0.3 모델링 task 정의**  \n",
        "<div> \n",
        "현실적으로 과거 주가데이터를 가지고 미래를 예측을 한다는 것은 불가능하다. 그럼에도 불구하고 미래를 예측하려한다면 적어도 <strong>데이터는 안정적(Stationary)</strong> 이라는 전제를 충족해야한다. \n",
        "</br>따라서 <strong>1) 데이터의 시계열 안정성 분석을 하고, 2) 데이터를 안정적인 시계열 형태라는 전제를 충족시킨 이후 3) ARIMA 모델로 예측</strong>을 진행하는 순서로 프로젝트를 진행하도록 하겠다.\n",
        "</div> \n",
        "시계열 데이터를 분석하기 위해서 가장 먼저 문자형과 숫자형으로 준비된 데이터프레임을 시간자료구조를 포함한 적절한 데이터프레임으로 변환하는 과정이 필요하다. 시계열 데이터프레임이 준비되면 시각화를 통해 시계열 데이터 상태를 파악하고 정상 시계열 데이터로 변화하는 과정에 전념한다.\n",
        "\n"
      ],
      "metadata": {
        "id": "4ZXxmRBO9Ima"
      }
    },
    {
      "cell_type": "markdown",
      "source": [
        "## **1. 데이터 불러오기 및 확인**\n",
        "---"
      ],
      "metadata": {
        "id": "o9icB7ejPZfp"
      }
    },
    {
      "cell_type": "markdown",
      "source": [
        "### **1-1. 라이브러리 불러오기**"
      ],
      "metadata": {
        "id": "tjtM3YZxS_FT"
      }
    },
    {
      "cell_type": "code",
      "source": [
        "############################################## \b라이브러리 불러오기 #####################################################\n",
        "\n",
        "import numpy as np\n",
        "import pandas as pd\n",
        "import platform\n",
        "import random\n",
        "import warnings\n",
        "import statsmodels\n",
        "import math\n",
        "\n",
        "warnings.filterwarnings(action = \"ignore\")\n",
        "\n",
        "# 시각화\n",
        "import matplotlib as mpl  # 기본 설정 만지는 용도\n",
        "import matplotlib.pyplot as plt\n",
        "import matplotlib.font_manager as fm\n",
        "import seaborn as sns\n",
        "%matplotlib inline\n",
        "%config InlineBackend.figure_format = 'retina' \n",
        "\n",
        "if platform.system() == 'Darwin': #맥\n",
        "    plt.rc('font', family='AppleGothic') \n",
        "elif platform.system() == 'Windows': #윈도우\n",
        "    plt.rc('font', family='Malgun Gothic') \n",
        "elif platform.system() == 'Linux': #리눅스 (구글 코랩)    \n",
        "\n",
        "    ! sudo apt-get update -qq\n",
        "    ! sudo apt-get install fonts-nanum* -qq #나눔글꼴 설치\n",
        "    ! sudo fc-cache -fv #폰트캐시 삭제\n",
        "\n",
        "    # 나눔글꼴 matplotlib에 복사 (파이썬 버전 확인하는것 중요 !)\n",
        "    ! sudo cp /usr/share/fonts/truetype/nanum/Nanum* /usr/local/lib/python3.7/dist-packages/matplotlib/mpl-data/fonts/ttf/\n",
        "    # matplotlib 캐시삭제\n",
        "    try:\n",
        "      ! rm -rf /content/.cache/matplotlib/* #colab\n",
        "    except:\n",
        "      ! rm -rf /home/ubuntu/.cache/matplotlib/* #ubuntu\n",
        "\n",
        "\n",
        "    sys_font=fm.findSystemFonts()\n",
        "    nanum_font = [f for f in sys_font if 'NanumGothicCoding.ttf' in f][0]\n",
        "    font_name = fm.FontProperties(fname=nanum_font, size=10).get_name()\n",
        "    plt.rc('font', family=font_name)\n",
        "\n",
        "\n",
        "plt.rcParams['axes.unicode_minus'] = False \n",
        "# fm._rebuild()\n",
        "\n",
        "# 학습데이터분리, 교차검증\n",
        "from sklearn.model_selection import train_test_split\n",
        "from sklearn.model_selection import cross_val_score\n",
        "from sklearn.model_selection import GridSearchCV\n",
        "\n",
        "\n",
        "\n",
        "# 시계열 관련 \n",
        "\n",
        "from statsmodels.tsa.stattools import adfuller \n",
        "from statsmodels.tsa.seasonal import seasonal_decompose  \n",
        "from statsmodels.graphics.tsaplots import plot_acf, plot_pacf   \n",
        "from statsmodels.tsa.arima_model import ARIMA   \n",
        "\n",
        "\n",
        "# 모델 성능 평가 지표 \n",
        "from sklearn.metrics import mean_squared_error, mean_absolute_error\n",
        "\n"
      ],
      "metadata": {
        "colab": {
          "base_uri": "https://localhost:8080/"
        },
        "id": "TxloXKnGAm3s",
        "outputId": "1f50d494-4295-4aeb-afe8-5dafbe53f921"
      },
      "execution_count": 17,
      "outputs": [
        {
          "output_type": "stream",
          "name": "stdout",
          "text": [
            "/usr/share/fonts: caching, new cache contents: 0 fonts, 1 dirs\n",
            "/usr/share/fonts/truetype: caching, new cache contents: 0 fonts, 3 dirs\n",
            "/usr/share/fonts/truetype/humor-sans: caching, new cache contents: 1 fonts, 0 dirs\n",
            "/usr/share/fonts/truetype/liberation: caching, new cache contents: 16 fonts, 0 dirs\n",
            "/usr/share/fonts/truetype/nanum: caching, new cache contents: 31 fonts, 0 dirs\n",
            "/usr/local/share/fonts: caching, new cache contents: 0 fonts, 0 dirs\n",
            "/root/.local/share/fonts: skipping, no such directory\n",
            "/root/.fonts: skipping, no such directory\n",
            "/var/cache/fontconfig: cleaning cache directory\n",
            "/root/.cache/fontconfig: not cleaning non-existent cache directory\n",
            "/root/.fontconfig: not cleaning non-existent cache directory\n",
            "fc-cache: succeeded\n"
          ]
        }
      ]
    },
    {
      "cell_type": "markdown",
      "source": [
        "### **1-2. 데이터 불러오기**"
      ],
      "metadata": {
        "id": "iDQwa-T4TCrG"
      }
    },
    {
      "cell_type": "code",
      "source": [
        "############################## 데이터 로드 & 확인 ##############################\n",
        "\n",
        "path = \"https://raw.githubusercontent.com/saerannn/ML-DL-Project/main/Project_03_Time%20Series%20Forecasting%3A%20Predicting%20Stock%20Prices%20With%20ARIMA%20Model/data/\"\n",
        "samsung = pd.read_csv(path+\"SamsungElectronics.csv\", index_col='Date', parse_dates=True)\n",
        "samsung = samsung['Close']\n",
        "apple = pd.read_csv(path+'Apple.csv', index_col='Date', parse_dates=True)\n",
        "apple = apple['Close']\n",
        "kakao = pd.read_csv(path+'Kakao.csv', index_col='Date', parse_dates=True)\n",
        "kakao = kakao['Close']\n",
        "\n",
        "print(\"\\n############################## samsung 데이터 \b확인 ##############################\\n\")\n",
        "print(f' *데이터 크기 : {samsung.shape}')\n",
        "print(f' *데이터 출력 : {samsung.head(5)}')\n",
        "\n",
        "print(\"\\n############################## apple 데이터 \b확인 ##############################\\n\")\n",
        "print(f' *데이터 크기 : {apple.shape}')\n",
        "print(f' *데이터 출력 : {apple.head(5)}')\n",
        "\n",
        "print(\"\\n############################## kakao 데이터 \b확인 ##############################\\n\")\n",
        "print(f' *데이터 크기 : {kakao.shape}')\n",
        "print(f' *데이터 출력 : {kakao.head(5)}')"
      ],
      "metadata": {
        "colab": {
          "base_uri": "https://localhost:8080/"
        },
        "id": "-lv2O5M0CRmC",
        "outputId": "d9287ba2-9d13-472f-8b0f-7d131a6e6a87"
      },
      "execution_count": 24,
      "outputs": [
        {
          "output_type": "stream",
          "name": "stdout",
          "text": [
            "\n",
            "############################## samsung 데이터 \b확인 ##############################\n",
            "\n",
            " *데이터 크기 : (246,)\n",
            " *데이터 출력 : Date\n",
            "2021-05-06    82300.0\n",
            "2021-05-07    81900.0\n",
            "2021-05-10    83200.0\n",
            "2021-05-11    81200.0\n",
            "2021-05-12    80000.0\n",
            "Name: Close, dtype: float64\n",
            "\n",
            "############################## apple 데이터 \b확인 ##############################\n",
            "\n",
            " *데이터 크기 : (253,)\n",
            " *데이터 출력 : Date\n",
            "2021-05-05    128.100006\n",
            "2021-05-06    129.740005\n",
            "2021-05-07    130.210007\n",
            "2021-05-10    126.849998\n",
            "2021-05-11    125.910004\n",
            "Name: Close, dtype: float64\n",
            "\n",
            "############################## kakao 데이터 \b확인 ##############################\n",
            "\n",
            " *데이터 크기 : (246,)\n",
            " *데이터 출력 : Date\n",
            "2021-05-06    115000.0\n",
            "2021-05-07    114500.0\n",
            "2021-05-10    116000.0\n",
            "2021-05-11    114500.0\n",
            "2021-05-12    113000.0\n",
            "Name: Close, dtype: float64\n"
          ]
        }
      ]
    },
    {
      "cell_type": "markdown",
      "source": [
        "카카오와 삼성은 데이터가 246개이고, 애플은 253개인데 그 이유는 나라마다 주식거래 휴장일이 다르기 때문인것으로 예상된다."
      ],
      "metadata": {
        "id": "Xp-enPuwwpgx"
      }
    },
    {
      "cell_type": "markdown",
      "source": [
        "## **2. \b탐색적 데이터 분석 및 전처리**\n",
        "---"
      ],
      "metadata": {
        "id": "1kJWs27mTRy1"
      }
    },
    {
      "cell_type": "markdown",
      "source": [
        "### **2-1. 데이터 타입 확인**"
      ],
      "metadata": {
        "id": "XhPg0n8_gQdE"
      }
    },
    {
      "cell_type": "code",
      "source": [
        "############################## 컬럼 타입확인 ##############################\n",
        "\n",
        "\n",
        "\n",
        "print(\"\\n############################## samsung 데이터 타입확인 ##############################\\n\")\n",
        "print(f' *Close컬럼 타입확인 : {samsung.dtypes}')\n",
        "\n",
        "print(\"\\n############################## apple 데이터 타입확인 ##############################\\n\")\n",
        "print(f' *Close컬럼 타입확인 : {apple.dtypes}')\n",
        "\n",
        "print(\"\\n############################## kakao 데이터 타입확인 ##############################\\n\")\n",
        "print(f' *Close컬럼 타입확인 : {kakao.dtypes}')\n"
      ],
      "metadata": {
        "colab": {
          "base_uri": "https://localhost:8080/"
        },
        "id": "sDCDPdHJgGVO",
        "outputId": "34b7b200-7225-444b-e26b-1bbf19ab1de3"
      },
      "execution_count": 33,
      "outputs": [
        {
          "output_type": "stream",
          "name": "stdout",
          "text": [
            "\n",
            "############################## samsung 데이터 타입확인 ##############################\n",
            "\n",
            " *Close컬럼 타입확인 : float64\n",
            "\n",
            "############################## apple 데이터 타입확인 ##############################\n",
            "\n",
            " *Close컬럼 타입확인 : float64\n",
            "\n",
            "############################## kakao 데이터 타입확인 ##############################\n",
            "\n",
            " *Close컬럼 타입확인 : float64\n"
          ]
        }
      ]
    },
    {
      "cell_type": "markdown",
      "source": [
        "### **2-2. 통계값 확인**"
      ],
      "metadata": {
        "id": "2DJfBtFngnMZ"
      }
    },
    {
      "cell_type": "code",
      "source": [
        "############################## \bClose 통계값 확인 ##############################\n",
        "\n",
        "\n",
        "print(\"\\n############################## samsung 데이터 통계값확인 ##############################\\n\")\n",
        "print(samsung.describe())\n",
        "\n",
        "print(\"\\n############################## apple 데이터 통계값확인 ##############################\\n\")\n",
        "print(apple.describe())\n",
        "\n",
        "\n",
        "print(\"\\n############################## kakao 데이터 통계값확인 ##############################\\n\")\n",
        "print(kakao.describe())\n",
        "\n",
        "\n",
        "\n",
        "\n"
      ],
      "metadata": {
        "colab": {
          "base_uri": "https://localhost:8080/"
        },
        "id": "Y-Ix2bg2fFLZ",
        "outputId": "741bd90b-daaa-4a55-9567-5cb38c1a18f6"
      },
      "execution_count": 42,
      "outputs": [
        {
          "output_type": "stream",
          "name": "stdout",
          "text": [
            "\n",
            "############################## samsung 데이터 통계값확인 ##############################\n",
            "\n",
            "count      246.000000\n",
            "mean     75079.674797\n",
            "std       4594.192596\n",
            "min      64800.000000\n",
            "25%      70600.000000\n",
            "50%      75500.000000\n",
            "75%      79375.000000\n",
            "max      83200.000000\n",
            "Name: Close, dtype: float64\n",
            "\n",
            "############################## apple 데이터 통계값확인 ##############################\n",
            "\n",
            "count    253.000000\n",
            "mean     153.822293\n",
            "std       15.632815\n",
            "min      122.769997\n",
            "25%      144.979996\n",
            "50%      151.119995\n",
            "75%      166.559998\n",
            "max      182.009995\n",
            "Name: Close, dtype: float64\n",
            "\n",
            "############################## kakao 데이터 통계값확인 ##############################\n",
            "\n",
            "count       246.000000\n",
            "mean     120451.626016\n",
            "std       22422.662948\n",
            "min       82600.000000\n",
            "25%      100875.000000\n",
            "50%      120000.000000\n",
            "75%      137750.000000\n",
            "max      169500.000000\n",
            "Name: Close, dtype: float64\n"
          ]
        }
      ]
    },
    {
      "cell_type": "markdown",
      "source": [
        "kakao는 최대값과 최솟값이 두배가량차이나는데 이게 이상치가 될 수 있수도있다. 우선 나중에 한번 살펴보기로한다.|"
      ],
      "metadata": {
        "id": "Bhg8lE2in3NH"
      }
    },
    {
      "cell_type": "markdown",
      "source": [
        "### **2-3. 결측값 확인**"
      ],
      "metadata": {
        "id": "rA72KCrSg6n2"
      }
    },
    {
      "cell_type": "code",
      "source": [
        "############################## \b결측여부 확인 ##############################\n",
        "\n",
        "\n",
        "\n",
        "print(\"\\n############################## samsung 데이터 결측여부 확인 ##############################\\n\")\n",
        "print(samsung.isnull().any().any())\n",
        "\n",
        "print(\"\\n############################## apple 데이터 결측여부 확인 ##############################\\n\")\n",
        "print(apple.isnull().any().any())\n",
        "\n",
        "\n",
        "print(\"\\n############################## kakao 데이터 결측여부 확인 ##############################\\n\")\n",
        "print(kakao.isnull().any().any())\n",
        "\n"
      ],
      "metadata": {
        "colab": {
          "base_uri": "https://localhost:8080/"
        },
        "outputId": "600ee987-90aa-4431-b9bc-7207617ad494",
        "id": "nYTrMJ3Kg6n3"
      },
      "execution_count": 43,
      "outputs": [
        {
          "output_type": "stream",
          "name": "stdout",
          "text": [
            "\n",
            "############################## samsung 데이터 결측여부 확인 ##############################\n",
            "\n",
            "False\n",
            "\n",
            "############################## apple 데이터 결측여부 확인 ##############################\n",
            "\n",
            "False\n",
            "\n",
            "############################## kakao 데이터 결측여부 확인 ##############################\n",
            "\n",
            "False\n"
          ]
        }
      ]
    },
    {
      "cell_type": "markdown",
      "source": [
        "### **2-4. 중복값 확인**"
      ],
      "metadata": {
        "id": "xU5UNnpthSR-"
      }
    },
    {
      "cell_type": "code",
      "source": [
        "############################## \b중복된 항목 수 확인 ##############################\n",
        "print(\"중복된 항목 수 :\", len(digits_df[digits_df.duplicated()])) "
      ],
      "metadata": {
        "colab": {
          "base_uri": "https://localhost:8080/"
        },
        "outputId": "72f5ef45-ddc6-4b20-99a4-50235bf3302f",
        "id": "DDO8Mn3ehSSK"
      },
      "execution_count": null,
      "outputs": [
        {
          "output_type": "stream",
          "name": "stdout",
          "text": [
            "중복된 항목 수 : 0\n"
          ]
        }
      ]
    },
    {
      "cell_type": "markdown",
      "source": [
        "### **2-5. 시계열 안정성 분석**"
      ],
      "metadata": {
        "id": "-FlVfvAfiKP5"
      }
    },
    {
      "cell_type": "code",
      "source": [
        "########### 시계열의 구성요소\n",
        "\n",
        "# (1) 추세 요인 (Trend factor) \n",
        "# 인구의 변화, 자원의 변화, 자본재의 변화, 기술의 변화 등과 같은 요인들에 의해 영향을 받는 장기 변동 요인으로서, \\\n",
        "# 급격한 충격이 없는 한 지속되는 특성이 있습니다. \"10년 주기의 세계경제 변동 추세\" 같은 것이 추세 요인의 예라고 할 수 있습니다. \n",
        "\n",
        "\n",
        "\n",
        "# (2) 순환 요인 (Cycle factor) \n",
        "#  경제활동의 팽창과 위축과 같이 불규칙적이며 반복적인 중기 변동요인을 말합니다. \n",
        "# 주식투자가들이 \"건설업/반도체업/조선업 순환주기\"를 고려해서 투자한다고 말하는게 좋은 예입니다. \n",
        "\n",
        "# 만약 관측한 데이터셋이 10년 미만일 경우 추세 요인과 순환 요인을 구분하는 것이 매우 어렵습니다. \n",
        "# 그래서 관측기간이 길지 않을 경우 추세와 순환 요인을 구분하지 않고 그냥 묶어서 추세 요인이라고 분석하기도 합니다. \n",
        "\n",
        "\n",
        "\n",
        "# (3) 계절 요인 (Seasonal factor) \n",
        "#  12개월(1년)의 주기를 가지고 반복되는 변화를 말하며, \n",
        "# 계절의 변화, 공휴일의 반복, 추석 명절의 반복 등 과 같은 요인들에 의하여 발생합니다. \n",
        "\n",
        "\n",
        "\n",
        "# (4) 불규칙 요인 (Irregular / Random factor, Noise) \n",
        "#  일정한 규칙성을 인지할 수 없는 변동의 유형을 의미합니다.\n",
        "#  천재지변, 전쟁, 질병 등과 같이 예 상할 수 없는 우연적 요인에 의해 발생되는 변동을 총칭합니다. \n",
        "# 불규칙변동 은 경제활동에 미미한 영향을 미치기도 하지만 때로는 경제생활에 지대한 영향을 주기도 합니다. \n",
        "\n",
        "\n",
        "\n",
        "# 출처: https://rfriend.tistory.com/509 [R, Python 분석과 프로그래밍의 친구 (by R Friend)]"
      ],
      "metadata": {
        "id": "pNEtq6H3VBLn"
      },
      "execution_count": 19,
      "outputs": []
    },
    {
      "cell_type": "code",
      "source": [
        "# 정상성 갖는 시계열 데이터 특징\n",
        "# 시계열 Yt 모든 시점 t에 대해 평균이 μ로 같다.\n",
        "# 시계열 Yt 모든 시점 t에 대해 분산이 σ2로 같다.\n",
        "# 시계열 Yt, Ys 모든 h에 대해 공분산이 |t−s|=h로 같다; 예를 들어, 6단위 만큼 시점차이가 나는 경우 Cov(Y1,Y7)=Cov(Y11,Y17).\n"
      ],
      "metadata": {
        "id": "LmQ_TtkRU4Ut"
      },
      "execution_count": null,
      "outputs": []
    },
    {
      "cell_type": "code",
      "source": [
        "# 안정성 판별법 : # Augmented Dickey-Fuller Test\n",
        "# 귀무가설: 원계열은 안정적이지 않다\n",
        "# p value 가 0.05 보다 작으면 귀무가설 기각 즉 안정적인 시계열\n",
        "# 즉 결과값에 대한 pvalue는 정말 특별한 법칙을 따르는 것인지 ( p value 작음) 우연히 이런결과가 나왔는지( p value 큼) 의 척도이다\n"
      ],
      "metadata": {
        "id": "lr9lFsQPcbAh"
      },
      "execution_count": null,
      "outputs": []
    },
    {
      "cell_type": "code",
      "source": [
        "# 불안정적인 시계열을 안정적인 시계열로 볒ㄴ경하는  방법\n",
        "# 1) 정성적인 분석을 통해 보다 안정적(starionary)인 특성을 가지도록 기존의 시계열 데이터를 가공/변형하는 시도\n",
        "    ## - 1. 시계열 평균이 비일정하면 원시계열에 차분(현 시점에서 전 시점의 자료 값을 뺌)하면 정상 시계열이 된다.\n",
        "                  # diff(Yt)  을 통해 차분을 하계 되면 추세를 제거하는 효과를 거둠.\n",
        "    ## - 2.계절차분: 계절성을 갖는 비정상시계열은 정상시계열로 바꿀 때 계절차분을 사용한다.\n",
        "                  # diff(Yt) 을 통해 차분을 하계 되면 추세를 제거하는 효과를 거둠.\n",
        "\n",
        "    ## - 3.로그변환: 분산이 일정하지 않은 경우 원계열에 자연로그(변환)을 취하면 정상시계열이 된다.\n",
        "                  # (log(Yt) 을 통해 분산이 커지는 경향을 갖는 시계열을 안정화 시킴.)\n",
        "\n",
        "​\n",
        "# 2) 시계열 분해(Time series decomposition) 기법을 적용"
      ],
      "metadata": {
        "id": "a7oXI0ucc97l"
      },
      "execution_count": null,
      "outputs": []
    },
    {
      "cell_type": "markdown",
      "source": [
        "#### **2-5-1. 정성적 그래프 분석**\n",
        "\n"
      ],
      "metadata": {
        "id": "wARVFvoOFigT"
      }
    },
    {
      "cell_type": "code",
      "source": [
        "# 시계열(time series) 데이터를 차트로 그려 봅시다. 특별히 더 가공하지 않아도 잘 그려집니다.\n",
        "plt.plot(ts1)"
      ],
      "metadata": {
        "id": "Nlxl-1R-JzAB"
      },
      "execution_count": null,
      "outputs": []
    },
    {
      "cell_type": "code",
      "source": [
        "########### 해석적기 \n",
        "#  시간의 추이에 따라 시계열의 평균과 분산이 지속적으로 커지는 패턴을 보입니다.\n",
        "#  rolling statistics를 추가해서 시각화해 보겠습니다.\n",
        "# 이렇게 시간의 추이에 따라 평균과 분산이 증가하는 패턴을 보인다면 이 시계열 데이터는 적어도 안정적이진 않다고 정성적인 결론을 내려볼 수 있을 것 같습니다. 그렇다면 이런 시계열 데이터에 대해서는 시계열 예측을 시도할 수 없는 것일까요? 그렇다면 이번 노드는 너무 재미가 없겠지요?\n",
        "\n",
        "# 이후 스텝들에는 이런 불안정적(Non-Stationary) 시계열 데이터에 대한 시계열 분석 기법을 다루어 볼 것입니다.\n",
        "\n",
        "# 위와 같이 우리는 시계열 데이터의 안정성을 시각화 방법을 통해 정성적으로 분석해 보았습니다. 이것은 시계열 데이터를 다루는 가장 기본적인 접근법이라 할 수 있습니다.\n",
        "\n",
        "# 하지만 시계열 데이터의 안정성을 평가하는 데는 보다 정량적인 방법이 있습니다. 다음 스텝에서 그 방법을 알아보도록 하겠습니다.\n",
        "\n"
      ],
      "metadata": {
        "id": "atzRZ8i7KXf6"
      },
      "execution_count": null,
      "outputs": []
    },
    {
      "cell_type": "code",
      "source": [
        "############################## \b구간 통계치(Rolling Statistics) 시각화 ##############################\n",
        "\n",
        "# 구간 통계치(Rolling Statistics) 시각화하는 함수 정의\n",
        "def plot_rolling_statistics(timeseries, window=12):\n",
        "    \n",
        "    rolmean = timeseries.rolling(window=window).mean()  # 이동평균 시계열\n",
        "    rolstd = timeseries.rolling(window=window).std()    # 이동표준편차 시계열\n",
        "\n",
        "     # 원본시계열, 이동평균, 이동표준편차를 plot으로 시각화해 본다.\n",
        "    orig = plt.plot(timeseries, color='blue',label='Original')    \n",
        "    mean = plt.plot(rolmean, color='red', label='Rolling Mean')\n",
        "    std = plt.plot(rolstd, color='black', label='Rolling Std')\n",
        "    plt.legend(loc='best')\n",
        "    plt.title('Rolling Mean & Standard Deviation')\n",
        "    plt.show(block=False)\n",
        "\n",
        "plot_rolling_statistics(ts1, window=12)"
      ],
      "metadata": {
        "id": "nI9zYjIoIU0J"
      },
      "execution_count": null,
      "outputs": []
    },
    {
      "cell_type": "code",
      "source": [
        "########### 데이터 해석 적기 나중에 마크다운으로 변환해줘야한다 !!!!!!!!!!\n",
        "\n",
        "\n",
        "# 해석 예시 \n",
        "# 위의 그래프를 보면 시간의 추이에 따라 평균과 분산이 증가하는 패턴을 보이는데, 이는 불안정(Non-Stationary) 한 시계열 데이터라는 의미입니다.\n",
        "# 이 시계열 데이터는 적어도 안정적이진 않다고 정성적인 결론을 내려볼 수 있을 것 같습니다. \n",
        "# 이 방법 외에 정량적으로 "
      ],
      "metadata": {
        "id": "kGiiXhZrKA9y"
      },
      "execution_count": null,
      "outputs": []
    },
    {
      "cell_type": "code",
      "source": [
        "이렇게 시간의 추이에 따라 평균과 분산이 증가하는 패턴을 보인다면 이 시계열 데이터는 적어도 안정적이진 않다고 정성적인 결론을 내려볼 수 있을 것 같습니다.\n",
        "\n",
        "하지만 시계열 데이터의 안정성을 평가하는 데는 보다 정량적인 방법이 있습니다. 다음 스텝에서 그 방법을 알아보도록 하겠습니다.\n",
        "\n"
      ],
      "metadata": {
        "id": "SkKhVYXuLdFi"
      },
      "execution_count": null,
      "outputs": []
    },
    {
      "cell_type": "markdown",
      "source": [
        "#### **2-5-2. 정량적 Augmented Dicky-Fuller Test**\n"
      ],
      "metadata": {
        "id": "KrsWRoqEFz5O"
      }
    },
    {
      "cell_type": "code",
      "source": [
        "# 그럼 이전 스텝에서 정성적으로 분석해 보았던 두 시계열(Time Series)에 대한 \n",
        "# Augmented Dickey-Fuller Test를 수행해 봅시다."
      ],
      "metadata": {
        "id": "xXhKayCHOioW"
      },
      "execution_count": null,
      "outputs": []
    },
    {
      "cell_type": "markdown",
      "source": [
        ""
      ],
      "metadata": {
        "id": "h0MO_VyDOhR9"
      }
    },
    {
      "cell_type": "code",
      "source": [
        "# 주어진 시계열 데이터가 안정적이지 않다라는 귀무가설(Null Hypothesis)를 세운 후,\n",
        "\n",
        "# 통계적 가설 검정 과정을 통해 이 귀무가설이 기각될 경우에\n",
        "\n",
        "# 이 시계열 데이터가 안정적이다라는 대립가설(Alternative Hypothesis)을 채택한다\n",
        "\n"
      ],
      "metadata": {
        "id": "kKvVv0dhOBwy"
      },
      "execution_count": null,
      "outputs": []
    },
    {
      "cell_type": "code",
      "source": [
        "def augmented_dickey_fuller_test(timeseries):\n",
        "    # statsmodels 패키지에서 제공하는 adfuller 메서드를 호출합니다.\n",
        "    dftest = adfuller(timeseries, autolag='AIC')  \n",
        "    \n",
        "    # adfuller 메서드가 리턴한 결과를 정리하여 출력합니다.\n",
        "    print('Results of Dickey-Fuller Test:')\n",
        "    dfoutput = pd.Series(dftest[0:4], index=['Test Statistic','p-value','#Lags Used','Number of Observations Used'])\n",
        "    for key,value in dftest[4].items():\n",
        "        dfoutput['Critical Value (%s)' % key] = value\n",
        "    print(dfoutput)"
      ],
      "metadata": {
        "id": "c9wHNvJ0NY2C"
      },
      "execution_count": null,
      "outputs": []
    },
    {
      "cell_type": "code",
      "source": [
        "# augmented_dickey_fuller_test(ts1)"
      ],
      "metadata": {
        "id": "EKRpKLz1OcAD"
      },
      "execution_count": null,
      "outputs": []
    },
    {
      "cell_type": "code",
      "source": [
        "# ts1(Daily Minimum Temperatures in Melbourne)시계열이 안정적이지 않다는 귀무가설은 p-value가 거의 0에 가깝게 나타났습니다.\n",
        "\n",
        "# 따라서 이 귀무가설은 기각되고, 이 시계열은 안정적 시계열이라는 대립가설이 채택됩니다."
      ],
      "metadata": {
        "id": "2A5SkT0POxzL"
      },
      "execution_count": null,
      "outputs": []
    },
    {
      "cell_type": "code",
      "source": [
        "# augmented_dickey_fuller_test(ts2)"
      ],
      "metadata": {
        "id": "-XTxEB40O2WI"
      },
      "execution_count": null,
      "outputs": []
    },
    {
      "cell_type": "code",
      "source": [
        "#############3\n",
        "\n",
        "# ADF(Augmented Dickey-Fuller) 테스트를 통해 '현대'의 주가에 대한 안정성(stationary)을 확인한 결과 \n",
        "# 유의수준 0.05에서 유의수준 값 0.437이므로 대립가설을 기각하고 귀무가설을 채택하여,\n",
        "# '현대의 주가는 안정적이지 않다'고 할 수 있습니다."
      ],
      "metadata": {
        "id": "81TGLhqAMFb2"
      },
      "execution_count": null,
      "outputs": []
    },
    {
      "cell_type": "code",
      "source": [
        "######### 정성 정량을 통한 해석\n",
        "# 위의 그래프와 ADF Test 를 통해 불안정(Non-Stationary) 한 시계열 데이터라고 판단을 내렸다. \n",
        "# 로그 변환을 통해서 안정한(Stationary) 시계열 데이터로 바꾸도록 하겠습니다."
      ],
      "metadata": {
        "id": "v4R9jKjfM58W"
      },
      "execution_count": null,
      "outputs": []
    },
    {
      "cell_type": "markdown",
      "source": [
        "#### **2-5-3. 안정적인 시계열 형태로 변환**\n"
      ],
      "metadata": {
        "id": "Hdk7Cuu_F1F-"
      }
    },
    {
      "cell_type": "markdown",
      "source": [
        "정성적인 분석을 통해 보다 안정적(starionary)인 특성을 가지도록 기존의 시계열 데이터를 가공/변형하는 시도\n",
        "\n",
        "시계열 분해(Time series decomposition) 기법을 적용"
      ],
      "metadata": {
        "id": "PXkK6kEHQWV-"
      }
    },
    {
      "cell_type": "code",
      "source": [
        "#### **2-5-3. 시계열 분해(Time Series Decomposition)**"
      ],
      "metadata": {
        "id": "uKbtll9ePo6Q"
      },
      "execution_count": null,
      "outputs": []
    },
    {
      "cell_type": "markdown",
      "source": [
        "#### **2-5-4. Residual 안정성 확인**"
      ],
      "metadata": {
        "id": "OtLUHqHlF2He"
      }
    },
    {
      "cell_type": "markdown",
      "source": [
        "### **2-6. 시계열 분해**\n"
      ],
      "metadata": {
        "id": "jjScD733ZqTl"
      }
    },
    {
      "cell_type": "code",
      "source": [
        ""
      ],
      "metadata": {
        "id": "pW0Yzg0oZraD"
      },
      "execution_count": null,
      "outputs": []
    },
    {
      "cell_type": "code",
      "source": [
        ""
      ],
      "metadata": {
        "id": "PRcOWekBZrWb"
      },
      "execution_count": null,
      "outputs": []
    },
    {
      "cell_type": "markdown",
      "source": [
        "## **3. 모델 구현 및 평가**\n",
        "---"
      ],
      "metadata": {
        "id": "jx-aSsS9UhvD"
      }
    },
    {
      "cell_type": "markdown",
      "source": [
        "#### **3-1. train/test 나누기**\n"
      ],
      "metadata": {
        "id": "D1xLzx8hUGzC"
      }
    },
    {
      "cell_type": "code",
      "source": [
        "############################## \b학습데이터 나누기 & 교차검증 ##############################\n",
        "\n",
        "X = digits_data_scaled\n",
        "y = digits_label\n",
        "\n",
        "X_train, X_test, y_train, y_test = train_test_split(X, y, test_size=0.20, randomstate=0)\n"
      ],
      "metadata": {
        "id": "pkV4keaXRza8"
      },
      "execution_count": null,
      "outputs": []
    },
    {
      "cell_type": "markdown",
      "source": [
        "### **3-2. 적정 ARIMA 모수 찾기**\n"
      ],
      "metadata": {
        "id": "8kMUis07EDO1"
      }
    },
    {
      "cell_type": "markdown",
      "source": [
        "#### **3-2-1. ACF, PACF 그려보기**\n"
      ],
      "metadata": {
        "id": "kmPRGDxVE3pl"
      }
    },
    {
      "cell_type": "code",
      "source": [
        "############################## \bp,q 구하기 ##############################\n"
      ],
      "metadata": {
        "id": "xskUINhOHbaS"
      },
      "execution_count": null,
      "outputs": []
    },
    {
      "cell_type": "markdown",
      "source": [
        "#### **3-2-2. 차분 안정성 확인** "
      ],
      "metadata": {
        "id": "NQCFqKsDFBwN"
      }
    },
    {
      "cell_type": "code",
      "source": [
        ""
      ],
      "metadata": {
        "id": "xykEFcgrHl4W"
      },
      "execution_count": null,
      "outputs": []
    },
    {
      "cell_type": "code",
      "source": [
        "############################## \bp,q 구하기 ##############################"
      ],
      "metadata": {
        "id": "2ViW9ZBuHkj2"
      },
      "execution_count": null,
      "outputs": []
    },
    {
      "cell_type": "markdown",
      "source": [
        "### **3-3. 모델 학습 및 예측**"
      ],
      "metadata": {
        "id": "fSD7I9Q3Ua-L"
      }
    },
    {
      "cell_type": "markdown",
      "source": [
        "### **3-4. 모델 성능 평가**"
      ],
      "metadata": {
        "id": "kcjN5Gb0gzI3"
      }
    }
  ]
}